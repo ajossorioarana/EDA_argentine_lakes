{
 "cells": [
  {
   "attachments": {},
   "cell_type": "markdown",
   "metadata": {},
   "source": [
    "**Dropped use of AIzaky modified TSI, as showing two ways of calculating TSI doesn't add value to the report**\n",
    "\n",
    "Now, I'll create columns for the three Modified Carlson's Trophic State Index (TSI), as proposed by Aizaki *et al.* (1981):\n",
    "\n",
    "$TSI_{SD} = 10 \\left(2.46 + \\frac{3.76-1.57{\\ln}(SD)}{{\\ln}(2.5)}\\right)$\n",
    "\n",
    "$TSI_{TP} = 10 \\left(2.46 + \\frac{6.68+1.15{\\ln}(PT)}{{\\ln}(2.5)}\\right)$\n",
    "\n",
    "$TSI_{CHL-a} = 10 \\left(2.46 + \\frac{{\\ln}(CHL-a)}{{\\ln}(2.5)}\\right)$"
   ]
  },
  {
   "cell_type": "code",
   "execution_count": null,
   "metadata": {},
   "outputs": [],
   "source": [
    "data['TSIa-SD'] = 10 * (2.46 + (3.76 - 1.57 * np.log(data['SDT'])) / np.log(2.5))\n",
    "data['TSIa-TP'] = 10 * (2.46 + np.log(data['TP']) / np.log(2.5))\n",
    "data['TSIa-CHL-a'] = 10 * (2.46 + (6.68 + 1.15 * np.log(data['CHL-a'])) / np.log(2.5))"
   ]
  }
 ],
 "metadata": {
  "language_info": {
   "name": "python"
  },
  "orig_nbformat": 4
 },
 "nbformat": 4,
 "nbformat_minor": 2
}
