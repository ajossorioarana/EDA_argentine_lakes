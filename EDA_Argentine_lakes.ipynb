{
 "cells": [
  {
   "attachments": {},
   "cell_type": "markdown",
   "id": "bad77501",
   "metadata": {},
   "source": [
    "# EDA on Argentine lakes and reservoirs dataset\n",
    "\n",
    "*Short description: EDA on dataset of 103 argentine lake and reservoir data from Argentina. Dataset from paper by R. Quirós (1988)*"
   ]
  },
  {
   "attachments": {},
   "cell_type": "markdown",
   "id": "6c10d4be",
   "metadata": {},
   "source": [
    "## Table of Contents\n",
    "\n",
    "1. [Description of the problem](#description)\n",
    "2. [Preliminary steps](#prelim) \n",
    "\n",
    "![lacar](lacar.jpg)"
   ]
  },
  {
   "attachments": {},
   "cell_type": "markdown",
   "id": "32196e5e",
   "metadata": {},
   "source": [
    "## Description of the problem <a class=\"anchor\" id=\"description\"></a>\n",
    "\n",
    "Dsecription of the problem/questions I want to answer"
   ]
  },
  {
   "attachments": {},
   "cell_type": "markdown",
   "id": "8b8487cf",
   "metadata": {},
   "source": [
    "## Preliminary steps <a class=\"anchor\" id=\"prelim\"></a>\n",
    "\n",
    "First of all, we import the libraries that will be using during this analysis and load the dataset into the **data** variable:"
   ]
  },
  {
   "cell_type": "code",
   "execution_count": 1,
   "id": "d8031eef",
   "metadata": {},
   "outputs": [],
   "source": [
    "import numpy as np\n",
    "import pandas as pd\n",
    "import seaborn as sns\n",
    "import plotly.express as px\n",
    "from plotly.io import write_image\n",
    "\n",
    "filepath = \"./lake_res_data.csv\"\n",
    "data = pd.read_csv(filepath)\n",
    "data = data.drop(columns='ID')"
   ]
  },
  {
   "attachments": {},
   "cell_type": "markdown",
   "id": "6f650271",
   "metadata": {},
   "source": [
    "Next, we will explore some characteristics of the dataset using relevant pandas methods such as **info()**, **describe()** and **head()**:"
   ]
  },
  {
   "cell_type": "code",
   "execution_count": 2,
   "id": "5ecc216f",
   "metadata": {},
   "outputs": [
    {
     "name": "stdout",
     "output_type": "stream",
     "text": [
      "<class 'pandas.core.frame.DataFrame'>\n",
      "RangeIndex: 103 entries, 0 to 102\n",
      "Data columns (total 11 columns):\n",
      " #   Column  Non-Null Count  Dtype  \n",
      "---  ------  --------------  -----  \n",
      " 0   NAME    103 non-null    object \n",
      " 1   TYPE    103 non-null    object \n",
      " 2   AREA    103 non-null    float64\n",
      " 3   ZMEAN   103 non-null    float64\n",
      " 4   ALT     103 non-null    int64  \n",
      " 5   LAT     103 non-null    float64\n",
      " 6   TEMP    103 non-null    float64\n",
      " 7   SDT     103 non-null    float64\n",
      " 8   TP      103 non-null    int64  \n",
      " 9   TON     103 non-null    int64  \n",
      " 10  CHL-a   103 non-null    float64\n",
      "dtypes: float64(6), int64(3), object(2)\n",
      "memory usage: 9.0+ KB\n"
     ]
    }
   ],
   "source": [
    "data.info()"
   ]
  },
  {
   "cell_type": "code",
   "execution_count": 3,
   "id": "8ff0dc52",
   "metadata": {},
   "outputs": [
    {
     "data": {
      "text/html": [
       "<div>\n",
       "<style scoped>\n",
       "    .dataframe tbody tr th:only-of-type {\n",
       "        vertical-align: middle;\n",
       "    }\n",
       "\n",
       "    .dataframe tbody tr th {\n",
       "        vertical-align: top;\n",
       "    }\n",
       "\n",
       "    .dataframe thead th {\n",
       "        text-align: right;\n",
       "    }\n",
       "</style>\n",
       "<table border=\"1\" class=\"dataframe\">\n",
       "  <thead>\n",
       "    <tr style=\"text-align: right;\">\n",
       "      <th></th>\n",
       "      <th>AREA</th>\n",
       "      <th>ZMEAN</th>\n",
       "      <th>ALT</th>\n",
       "      <th>LAT</th>\n",
       "      <th>TEMP</th>\n",
       "      <th>SDT</th>\n",
       "      <th>TP</th>\n",
       "      <th>TON</th>\n",
       "      <th>CHL-a</th>\n",
       "    </tr>\n",
       "  </thead>\n",
       "  <tbody>\n",
       "    <tr>\n",
       "      <th>count</th>\n",
       "      <td>103.000000</td>\n",
       "      <td>103.000000</td>\n",
       "      <td>103.000000</td>\n",
       "      <td>103.000000</td>\n",
       "      <td>103.000000</td>\n",
       "      <td>103.000000</td>\n",
       "      <td>103.000000</td>\n",
       "      <td>103.000000</td>\n",
       "      <td>103.000000</td>\n",
       "    </tr>\n",
       "    <tr>\n",
       "      <th>mean</th>\n",
       "      <td>73.370000</td>\n",
       "      <td>25.610680</td>\n",
       "      <td>583.776699</td>\n",
       "      <td>37.202718</td>\n",
       "      <td>11.866019</td>\n",
       "      <td>4.322718</td>\n",
       "      <td>221.854369</td>\n",
       "      <td>100.368932</td>\n",
       "      <td>25.772621</td>\n",
       "    </tr>\n",
       "    <tr>\n",
       "      <th>std</th>\n",
       "      <td>234.395916</td>\n",
       "      <td>36.272095</td>\n",
       "      <td>481.896192</td>\n",
       "      <td>5.603130</td>\n",
       "      <td>5.239585</td>\n",
       "      <td>4.940594</td>\n",
       "      <td>823.340713</td>\n",
       "      <td>125.403427</td>\n",
       "      <td>54.056045</td>\n",
       "    </tr>\n",
       "    <tr>\n",
       "      <th>min</th>\n",
       "      <td>0.090000</td>\n",
       "      <td>0.700000</td>\n",
       "      <td>2.000000</td>\n",
       "      <td>24.120000</td>\n",
       "      <td>3.000000</td>\n",
       "      <td>0.030000</td>\n",
       "      <td>1.000000</td>\n",
       "      <td>6.000000</td>\n",
       "      <td>0.160000</td>\n",
       "    </tr>\n",
       "    <tr>\n",
       "      <th>25%</th>\n",
       "      <td>4.350000</td>\n",
       "      <td>3.100000</td>\n",
       "      <td>159.500000</td>\n",
       "      <td>34.375000</td>\n",
       "      <td>6.000000</td>\n",
       "      <td>0.675000</td>\n",
       "      <td>9.000000</td>\n",
       "      <td>21.000000</td>\n",
       "      <td>0.830000</td>\n",
       "    </tr>\n",
       "    <tr>\n",
       "      <th>50%</th>\n",
       "      <td>12.000000</td>\n",
       "      <td>8.100000</td>\n",
       "      <td>550.000000</td>\n",
       "      <td>37.880000</td>\n",
       "      <td>14.000000</td>\n",
       "      <td>2.000000</td>\n",
       "      <td>30.000000</td>\n",
       "      <td>45.000000</td>\n",
       "      <td>6.700000</td>\n",
       "    </tr>\n",
       "    <tr>\n",
       "      <th>75%</th>\n",
       "      <td>44.300000</td>\n",
       "      <td>33.150000</td>\n",
       "      <td>844.500000</td>\n",
       "      <td>42.310000</td>\n",
       "      <td>16.000000</td>\n",
       "      <td>7.250000</td>\n",
       "      <td>125.500000</td>\n",
       "      <td>126.000000</td>\n",
       "      <td>23.750000</td>\n",
       "    </tr>\n",
       "    <tr>\n",
       "      <th>max</th>\n",
       "      <td>1984.000000</td>\n",
       "      <td>166.000000</td>\n",
       "      <td>3250.000000</td>\n",
       "      <td>45.900000</td>\n",
       "      <td>20.400000</td>\n",
       "      <td>19.000000</td>\n",
       "      <td>7912.000000</td>\n",
       "      <td>762.000000</td>\n",
       "      <td>405.300000</td>\n",
       "    </tr>\n",
       "  </tbody>\n",
       "</table>\n",
       "</div>"
      ],
      "text/plain": [
       "              AREA       ZMEAN          ALT         LAT        TEMP  \\\n",
       "count   103.000000  103.000000   103.000000  103.000000  103.000000   \n",
       "mean     73.370000   25.610680   583.776699   37.202718   11.866019   \n",
       "std     234.395916   36.272095   481.896192    5.603130    5.239585   \n",
       "min       0.090000    0.700000     2.000000   24.120000    3.000000   \n",
       "25%       4.350000    3.100000   159.500000   34.375000    6.000000   \n",
       "50%      12.000000    8.100000   550.000000   37.880000   14.000000   \n",
       "75%      44.300000   33.150000   844.500000   42.310000   16.000000   \n",
       "max    1984.000000  166.000000  3250.000000   45.900000   20.400000   \n",
       "\n",
       "              SDT           TP         TON       CHL-a  \n",
       "count  103.000000   103.000000  103.000000  103.000000  \n",
       "mean     4.322718   221.854369  100.368932   25.772621  \n",
       "std      4.940594   823.340713  125.403427   54.056045  \n",
       "min      0.030000     1.000000    6.000000    0.160000  \n",
       "25%      0.675000     9.000000   21.000000    0.830000  \n",
       "50%      2.000000    30.000000   45.000000    6.700000  \n",
       "75%      7.250000   125.500000  126.000000   23.750000  \n",
       "max     19.000000  7912.000000  762.000000  405.300000  "
      ]
     },
     "execution_count": 3,
     "metadata": {},
     "output_type": "execute_result"
    }
   ],
   "source": [
    "data.describe()"
   ]
  },
  {
   "cell_type": "code",
   "execution_count": 4,
   "id": "3b12bc90",
   "metadata": {},
   "outputs": [
    {
     "data": {
      "text/html": [
       "<div>\n",
       "<style scoped>\n",
       "    .dataframe tbody tr th:only-of-type {\n",
       "        vertical-align: middle;\n",
       "    }\n",
       "\n",
       "    .dataframe tbody tr th {\n",
       "        vertical-align: top;\n",
       "    }\n",
       "\n",
       "    .dataframe thead th {\n",
       "        text-align: right;\n",
       "    }\n",
       "</style>\n",
       "<table border=\"1\" class=\"dataframe\">\n",
       "  <thead>\n",
       "    <tr style=\"text-align: right;\">\n",
       "      <th></th>\n",
       "      <th>NAME</th>\n",
       "      <th>TYPE</th>\n",
       "      <th>AREA</th>\n",
       "      <th>ZMEAN</th>\n",
       "      <th>ALT</th>\n",
       "      <th>LAT</th>\n",
       "      <th>TEMP</th>\n",
       "      <th>SDT</th>\n",
       "      <th>TP</th>\n",
       "      <th>TON</th>\n",
       "      <th>CHL-a</th>\n",
       "    </tr>\n",
       "  </thead>\n",
       "  <tbody>\n",
       "    <tr>\n",
       "      <th>0</th>\n",
       "      <td>Rodeo</td>\n",
       "      <td>lake</td>\n",
       "      <td>0.09</td>\n",
       "      <td>3.6</td>\n",
       "      <td>1446</td>\n",
       "      <td>24.12</td>\n",
       "      <td>16.0</td>\n",
       "      <td>0.85</td>\n",
       "      <td>15</td>\n",
       "      <td>63</td>\n",
       "      <td>15.4</td>\n",
       "    </tr>\n",
       "    <tr>\n",
       "      <th>1</th>\n",
       "      <td>Comedero</td>\n",
       "      <td>lake</td>\n",
       "      <td>0.12</td>\n",
       "      <td>4.0</td>\n",
       "      <td>1446</td>\n",
       "      <td>24.12</td>\n",
       "      <td>16.0</td>\n",
       "      <td>1.20</td>\n",
       "      <td>18</td>\n",
       "      <td>36</td>\n",
       "      <td>22.5</td>\n",
       "    </tr>\n",
       "    <tr>\n",
       "      <th>2</th>\n",
       "      <td>La Ciénaga</td>\n",
       "      <td>reservoir</td>\n",
       "      <td>2.80</td>\n",
       "      <td>9.3</td>\n",
       "      <td>1212</td>\n",
       "      <td>24.47</td>\n",
       "      <td>17.5</td>\n",
       "      <td>1.00</td>\n",
       "      <td>25</td>\n",
       "      <td>45</td>\n",
       "      <td>7.4</td>\n",
       "    </tr>\n",
       "    <tr>\n",
       "      <th>3</th>\n",
       "      <td>Las Maderas</td>\n",
       "      <td>reservoir</td>\n",
       "      <td>9.60</td>\n",
       "      <td>31.3</td>\n",
       "      <td>1185</td>\n",
       "      <td>24.45</td>\n",
       "      <td>18.0</td>\n",
       "      <td>1.40</td>\n",
       "      <td>23</td>\n",
       "      <td>35</td>\n",
       "      <td>13.3</td>\n",
       "    </tr>\n",
       "    <tr>\n",
       "      <th>4</th>\n",
       "      <td>Campo Alegre</td>\n",
       "      <td>reservoir</td>\n",
       "      <td>3.20</td>\n",
       "      <td>14.4</td>\n",
       "      <td>1200</td>\n",
       "      <td>24.63</td>\n",
       "      <td>19.0</td>\n",
       "      <td>1.20</td>\n",
       "      <td>58</td>\n",
       "      <td>62</td>\n",
       "      <td>23.7</td>\n",
       "    </tr>\n",
       "  </tbody>\n",
       "</table>\n",
       "</div>"
      ],
      "text/plain": [
       "           NAME       TYPE  AREA  ZMEAN   ALT    LAT  TEMP   SDT  TP  TON  \\\n",
       "0         Rodeo       lake  0.09    3.6  1446  24.12  16.0  0.85  15   63   \n",
       "1      Comedero       lake  0.12    4.0  1446  24.12  16.0  1.20  18   36   \n",
       "2    La Ciénaga  reservoir  2.80    9.3  1212  24.47  17.5  1.00  25   45   \n",
       "3   Las Maderas  reservoir  9.60   31.3  1185  24.45  18.0  1.40  23   35   \n",
       "4  Campo Alegre  reservoir  3.20   14.4  1200  24.63  19.0  1.20  58   62   \n",
       "\n",
       "   CHL-a  \n",
       "0   15.4  \n",
       "1   22.5  \n",
       "2    7.4  \n",
       "3   13.3  \n",
       "4   23.7  "
      ]
     },
     "execution_count": 4,
     "metadata": {},
     "output_type": "execute_result"
    }
   ],
   "source": [
    "data.head()"
   ]
  },
  {
   "attachments": {},
   "cell_type": "markdown",
   "id": "6e34d6a7",
   "metadata": {},
   "source": [
    "As we can see, the data is structured in 12 columns. The meaning of each column is described below:\n",
    "+ **ID**: ID of the datapoint.\n",
    "+ **NAME**: Name of the waterbody.\n",
    "+ **TYPE**: Type of the waterbody.\n",
    "+ **AREA**: Area, in $km^2$.\n",
    "+ **ZMEAN**: Mean depth, in $m$.\n",
    "+ **ALT**: Elevation, in $m$.\n",
    "+ **LAT**: Latitude, $°S$.\n",
    "+ **TEMP**: Annual mean air temperature, in $°C$.\n",
    "+ **SDT**: Secchi disk transparency, in $m$.\n",
    "+ **TP**: Total phosphorus, in $mg.m^{-3}$.\n",
    "+ **TON**: Total organic nitrogen, in $\\mu.M$\n",
    "+ **CHL-a**: Total chlorophyll-a, in $mg.m^{-3}$."
   ]
  },
  {
   "cell_type": "code",
   "execution_count": 5,
   "id": "9c2a7f5d",
   "metadata": {},
   "outputs": [],
   "source": [
    "data['VOL'] = data['AREA'] * data['ZMEAN']\n",
    "data['DEPTH'] = np.where((data['ZMEAN'] > 5), 'Deep', 'Shallow')"
   ]
  },
  {
   "cell_type": "code",
   "execution_count": 6,
   "id": "7bd6ccb4",
   "metadata": {},
   "outputs": [],
   "source": [
    "def apply_custom_layout(figure,\n",
    "                        figure_title,\n",
    "                        xaxis_title,\n",
    "                        yaxis_title,\n",
    "                        font='Ubuntu',\n",
    "                        bg_color='#FFFFFF',\n",
    "                        axis_color='#BCCCDC',\n",
    "                        grid_color='#BCCCDC',\n",
    "                        spike_color='#999999',\n",
    "                        title_fontsize=20,\n",
    "                        legend_fontsize=16,\n",
    "                        axis_fontsize=18,\n",
    "                        tick_fontsize=14,\n",
    "                        show_major_xgrid=True,\n",
    "                        display_minor_xaxis=True,\n",
    "                        dtick_xaxis=None,\n",
    "                        show_minor_xgrid=True,\n",
    "                        show_major_ygrid=False,\n",
    "                        show_xspikes=True):\n",
    "    \"\"\"Applies desired custom formatting to figure layout.\n",
    "\n",
    "    Parameters\n",
    "    ----------\n",
    "    figure : plotly.graph_objects.Figure instance\n",
    "        Figure whose layout will be updated\n",
    "    figure_title : str\n",
    "        Desired figure title\n",
    "    xaxis_title : str\n",
    "        Desired X-axis title\n",
    "    yaxis_title : str\n",
    "        Desired Y-axis title\n",
    "    font : str, optional\n",
    "        Font to be used on title, axis, ticks and legend, by default 'Garamond'\n",
    "    bg_color : str, optional\n",
    "        Background color, by default '#FFFFFF'\n",
    "    axis_color : str, optional\n",
    "        Axis (not axis title) color, by default '#BCCCDC'\n",
    "    grid_color : str, optional\n",
    "        Grid color, by default '#BCCCDC'\n",
    "    spike_color : str, optional\n",
    "        Spike color, by default '#999999'\n",
    "    title_fontsize : int, optional\n",
    "        Title fontsize, by default 20\n",
    "    legend_fontsize : int, optional\n",
    "        Legend fontsize, by default 16\n",
    "    axis_fontsize : int, optional\n",
    "        Axis title fontsize, by default 18\n",
    "    tick_fontsize : int, optional\n",
    "        Tick fontsize, by default 14\n",
    "    show_major_xgrid : bool, optional\n",
    "        If True displays grid on major ticks for X-axis, by default True\n",
    "    display_minor_xaxis : bool, optional\n",
    "        If True displays grid on minor ticks for X-axis, by default True\n",
    "    dtick_xaxis : str, optional\n",
    "        Minor X-axis ticks steps, by default 'M3'\n",
    "        The default 'M3' means minor ticks every three months. For more info go\n",
    "        to: https://plotly.com/python/reference/layout/xaxis/#layout-xaxis-dtick\n",
    "    show_minor_xgrid : bool, optional\n",
    "        If True displays grid on major ticks for X-axis, by default True\n",
    "    show_major_ygrid : bool, optional\n",
    "        If True displays grid on major ticks for Y-axis, by default False\n",
    "    show_xspikes : bool, optional\n",
    "        If True displays spikes on hover for X-axis, by default True\n",
    "    \"\"\"\n",
    "    # Updates the layout of the figure\n",
    "    figure.update_layout(\n",
    "        font_family=font,  # Font to be used in all elements, unless overridden\n",
    "        plot_bgcolor=bg_color,  # Background color\n",
    "        title_text=figure_title,  # Title text\n",
    "        title_font_size=title_fontsize,  # TItle fontsize\n",
    "        legend={  # Places legend horizontally, top right of the graph\n",
    "            'font_size': legend_fontsize,  # Legend fontsize\n",
    "            'orientation': 'h',\n",
    "            'yanchor': 'bottom',\n",
    "            'y': 1.02,\n",
    "            'xanchor': 'right',\n",
    "            'x': 1\n",
    "        },\n",
    "        hovermode='x',\n",
    "        hoverdistance=1,  # Distance to show hover label of data point\n",
    "        spikedistance=1000,  # Distance to show spike\n",
    "        xaxis={\n",
    "            'title': xaxis_title,  # Text to display in X-axis\n",
    "            'title_font_size': axis_fontsize,  # X-axis fontsize\n",
    "            'linecolor': axis_color,  # Color of X-axis (not X-axis text)\n",
    "            'showgrid': show_major_xgrid,  # Show grid of X-axis major ticks\n",
    "            'gridcolor': grid_color,  # Color of major X-axis grid\n",
    "            'tickfont_size': tick_fontsize,  # Fontsize for X-axis ticks\n",
    "            'minor': {\n",
    "                'dtick': dtick_xaxis,  # Distance of minor X-axis ticks\n",
    "                'ticks': 'inside',  # X-axis minor ticks in or out from axis\n",
    "                'showgrid': show_minor_xgrid  # Show grid of X-axis minor ticks\n",
    "            } if display_minor_xaxis is True else None,\n",
    "            'showspikes': show_xspikes,  # Show spike line for X-axis\n",
    "            # Format spike\n",
    "            'spikethickness': 2,\n",
    "            'spikedash': 'dot',  # Spike linetype\n",
    "            'spikecolor': spike_color,  # Spike color\n",
    "            'spikemode': 'across'\n",
    "        },\n",
    "        yaxis={\n",
    "            'title': yaxis_title,  # Text to display in Y-axis\n",
    "            'title_font_size': axis_fontsize,  # Y-axis fontsize\n",
    "            'linecolor': axis_color,  # Color of Y-axis (not Y-axis text)\n",
    "            'showgrid': show_major_ygrid,  # Show grid of Y-axis major ticks\n",
    "            'gridcolor': grid_color,  # Color of major Y-axis grid\n",
    "            'tickfont_size': tick_fontsize,  # Fontsize for Y-axis ticks\n",
    "        })"
   ]
  },
  {
   "cell_type": "code",
   "execution_count": 7,
   "metadata": {},
   "outputs": [
    {
     "data": {
      "application/vnd.plotly.v1+json": {
       "config": {
        "plotlyServerURL": "https://plot.ly"
       },
       "data": [
        {
         "hovertemplate": "<b>%{hovertext}</b><br><br>Latitude [°]=%{x}<br>Mean Depth [m]=%{y}<br>Secchi Disk Transparency [m]=%{marker.color}<extra></extra>",
         "hovertext": [
          "Rodeo",
          "Comedero",
          "La Ciénaga",
          "Las Maderas",
          "Campo Alegre",
          "Cabra Corral",
          "El Cadillal",
          "Río Hondo",
          "Sumampa",
          "las Pirquitas",
          "Los Sauces",
          "Anzulón",
          "Portezuelo",
          "Cruz del Eje",
          "Mar Chiquita",
          "Saladillo",
          "San Roque",
          "Ullum",
          "La Viña",
          "Los Molinos",
          "Río Tercero",
          "San Felipe",
          "La florida",
          "El Carrizal",
          "El Diamante",
          "Agua del Toro",
          "Los Reyunos",
          "Valle Grande",
          "El Nihuil",
          "Melincué",
          "El Carpincho",
          "De Gómez",
          "Navarro",
          "Las mulitas",
          "De Lobos",
          "Indio Muerto",
          "De Monte",
          "La Chilca",
          "Chascomús",
          "La Limpia",
          "La Tablilla",
          "Blanca Grande",
          "Alsina",
          "Cochicó",
          "Salada Grande",
          "Los Horcones",
          "Del Monte",
          "Dulce",
          "Del Venado",
          "Epecuén",
          "La Brava",
          "De los Padres",
          "De Pigüé",
          "De Saavedra",
          "La Dulce",
          "Urre Lauquen",
          "Sauce Grande",
          "Agrio",
          "Pellegrini",
          "Marri Menuco",
          "Los Barreales",
          "Blanca ",
          "Aluminé",
          "Ramos Mexía",
          "Norquinco",
          "Quillén",
          "Huechulafquen",
          "Lacar",
          "Nahuel Huapi",
          "Gutierrez",
          "Ne Luan",
          "Mascardi",
          "Guillermo",
          "Steffen",
          "Las Chultas",
          "Epuyen",
          "Puelo",
          "Cholila",
          "Lezama",
          "Los Mosquitos",
          "Rivadavia",
          "Esquel",
          "Brechman",
          "Verde",
          "Wilimanco",
          "Zeta",
          "Largo",
          "Terraplén",
          "Amutui Quimen",
          "Futalaufquen",
          "Rosario",
          "Quichaura",
          "Cronometro",
          "Los Niños",
          "Pico 4",
          "Pico 3",
          "Pico 1",
          "La Plata",
          "Fontana",
          "Blanco",
          "Muster",
          "Colhue Huapi",
          "Ameghino"
         ],
         "legendgroup": "",
         "marker": {
          "color": [
           0.85,
           1.2,
           1,
           1.4,
           1.2,
           2.1,
           0.45,
           0.4,
           0.9,
           0.78,
           0.7,
           0.28,
           0.8,
           1.1,
           1.1,
           0.3,
           2.4,
           1.27,
           2.2,
           2.3,
           2.5,
           0.9,
           3.2,
           1.9,
           4.9,
           4.9,
           4,
           4.9,
           5.8,
           0.15,
           0.6,
           0.18,
           0.17,
           0.65,
           0.25,
           1,
           0.7,
           1.05,
           0.15,
           0.15,
           2.1,
           0.2,
           0.3,
           0.45,
           4.6,
           0.65,
           0.5,
           0.25,
           0.28,
           0.2,
           1.4,
           2.9,
           0.33,
           0.52,
           1.1,
           0.83,
           0.35,
           9,
           2,
           8.5,
           2.1,
           5.5,
           13.3,
           4,
           7.8,
           16.5,
           7.5,
           14.5,
           12.5,
           10.5,
           0.6,
           9.5,
           11,
           13,
           9,
           19,
           7,
           11.5,
           16,
           0.9,
           11.5,
           2.8,
           1.5,
           11,
           4,
           3.6,
           13.5,
           1.1,
           10.5,
           14,
           5.9,
           5,
           1.2,
           12,
           12,
           3.2,
           12.9,
           12.6,
           14.5,
           0.03,
           1.2,
           0.07,
           2.2
          ],
          "coloraxis": "coloraxis",
          "symbol": "circle"
         },
         "mode": "markers",
         "name": "",
         "orientation": "v",
         "showlegend": false,
         "type": "scatter",
         "x": [
          24.12,
          24.12,
          24.47,
          24.45,
          24.63,
          25.3,
          26.62,
          27.5,
          27.95,
          28.33,
          29.42,
          30.88,
          30.67,
          30.77,
          30.7,
          31,
          31.42,
          31.53,
          31.85,
          31.83,
          32.22,
          32.78,
          33.18,
          33.33,
          34.17,
          34.62,
          34.65,
          34.8,
          35.7,
          33.72,
          34.58,
          34.63,
          35.05,
          35.43,
          35.27,
          35.45,
          35.45,
          35.78,
          35.6,
          35.62,
          35.8,
          36.47,
          36.88,
          36.92,
          36.92,
          37,
          37,
          37.06,
          37.08,
          37.13,
          37.88,
          37.87,
          38.05,
          38.03,
          38.05,
          38.08,
          38.95,
          37.88,
          38.41,
          38.58,
          38.53,
          39.05,
          38.92,
          39.42,
          39.15,
          39.42,
          39.77,
          40.17,
          40.88,
          41.2,
          40.88,
          41.3,
          41.38,
          41.52,
          42.17,
          42.17,
          42.17,
          42.47,
          42.45,
          42.5,
          42.57,
          42.88,
          42.9,
          42.72,
          42.88,
          42.88,
          42.9,
          42.98,
          42.88,
          42.83,
          43.25,
          43.55,
          43.25,
          44.87,
          44.27,
          44.2,
          44.25,
          44.87,
          44.93,
          45.9,
          45.37,
          45.5,
          44.1
         ],
         "xaxis": "x",
         "y": [
          3.6,
          4,
          9.3,
          31.3,
          14.4,
          27,
          22.2,
          5.3,
          10,
          26.8,
          8.1,
          4.9,
          3.3,
          9.5,
          7.3,
          3,
          14.1,
          14,
          23,
          16.3,
          13.5,
          7.1,
          15,
          12.2,
          38.6,
          36.2,
          33.3,
          33,
          4,
          3.2,
          1.2,
          1.1,
          0.7,
          1.5,
          1.2,
          1.6,
          1.4,
          1.5,
          1.5,
          1.9,
          1.1,
          1.5,
          1.1,
          1.9,
          2,
          1.3,
          5.2,
          2.7,
          3.8,
          4,
          3.4,
          2.7,
          2.5,
          2.7,
          3.8,
          1.6,
          2.1,
          50.8,
          9.4,
          79.4,
          68.3,
          8.4,
          69.4,
          24.7,
          41.9,
          59,
          142,
          166,
          157,
          79.7,
          6.4,
          111,
          61.3,
          46.7,
          11.4,
          92.4,
          111,
          48.5,
          36,
          6.1,
          104,
          2.1,
          3.3,
          18.3,
          6.4,
          5.9,
          19.5,
          3.5,
          64.7,
          101,
          24.9,
          3.4,
          4.4,
          4.3,
          6.8,
          3.8,
          41,
          97,
          79,
          0.7,
          20,
          2,
          24.6
         ],
         "yaxis": "y"
        }
       ],
       "layout": {
        "coloraxis": {
         "colorbar": {
          "orientation": "h",
          "title": {
           "text": "Secchi Disk Transparency [m]"
          }
         },
         "colorscale": [
          [
           0,
           "rgb(214, 249, 207)"
          ],
          [
           0.09090909090909091,
           "rgb(186, 228, 174)"
          ],
          [
           0.18181818181818182,
           "rgb(156, 209, 143)"
          ],
          [
           0.2727272727272727,
           "rgb(124, 191, 115)"
          ],
          [
           0.36363636363636365,
           "rgb(85, 174, 91)"
          ],
          [
           0.45454545454545453,
           "rgb(37, 157, 81)"
          ],
          [
           0.5454545454545454,
           "rgb(7, 138, 78)"
          ],
          [
           0.6363636363636364,
           "rgb(13, 117, 71)"
          ],
          [
           0.7272727272727273,
           "rgb(23, 95, 61)"
          ],
          [
           0.8181818181818182,
           "rgb(25, 75, 49)"
          ],
          [
           0.9090909090909091,
           "rgb(23, 55, 35)"
          ],
          [
           1,
           "rgb(17, 36, 20)"
          ]
         ]
        },
        "font": {
         "family": "Lora"
        },
        "hoverdistance": 1,
        "hovermode": "closest",
        "legend": {
         "font": {
          "size": 16
         },
         "orientation": "h",
         "tracegroupgap": 0,
         "x": 1,
         "xanchor": "right",
         "y": 1.02,
         "yanchor": "bottom"
        },
        "margin": {
         "t": 60
        },
        "plot_bgcolor": "#FFFFFF",
        "spikedistance": 1000,
        "template": {
         "data": {
          "bar": [
           {
            "error_x": {
             "color": "#2a3f5f"
            },
            "error_y": {
             "color": "#2a3f5f"
            },
            "marker": {
             "line": {
              "color": "#E5ECF6",
              "width": 0.5
             },
             "pattern": {
              "fillmode": "overlay",
              "size": 10,
              "solidity": 0.2
             }
            },
            "type": "bar"
           }
          ],
          "barpolar": [
           {
            "marker": {
             "line": {
              "color": "#E5ECF6",
              "width": 0.5
             },
             "pattern": {
              "fillmode": "overlay",
              "size": 10,
              "solidity": 0.2
             }
            },
            "type": "barpolar"
           }
          ],
          "carpet": [
           {
            "aaxis": {
             "endlinecolor": "#2a3f5f",
             "gridcolor": "white",
             "linecolor": "white",
             "minorgridcolor": "white",
             "startlinecolor": "#2a3f5f"
            },
            "baxis": {
             "endlinecolor": "#2a3f5f",
             "gridcolor": "white",
             "linecolor": "white",
             "minorgridcolor": "white",
             "startlinecolor": "#2a3f5f"
            },
            "type": "carpet"
           }
          ],
          "choropleth": [
           {
            "colorbar": {
             "outlinewidth": 0,
             "ticks": ""
            },
            "type": "choropleth"
           }
          ],
          "contour": [
           {
            "colorbar": {
             "outlinewidth": 0,
             "ticks": ""
            },
            "colorscale": [
             [
              0,
              "#0d0887"
             ],
             [
              0.1111111111111111,
              "#46039f"
             ],
             [
              0.2222222222222222,
              "#7201a8"
             ],
             [
              0.3333333333333333,
              "#9c179e"
             ],
             [
              0.4444444444444444,
              "#bd3786"
             ],
             [
              0.5555555555555556,
              "#d8576b"
             ],
             [
              0.6666666666666666,
              "#ed7953"
             ],
             [
              0.7777777777777778,
              "#fb9f3a"
             ],
             [
              0.8888888888888888,
              "#fdca26"
             ],
             [
              1,
              "#f0f921"
             ]
            ],
            "type": "contour"
           }
          ],
          "contourcarpet": [
           {
            "colorbar": {
             "outlinewidth": 0,
             "ticks": ""
            },
            "type": "contourcarpet"
           }
          ],
          "heatmap": [
           {
            "colorbar": {
             "outlinewidth": 0,
             "ticks": ""
            },
            "colorscale": [
             [
              0,
              "#0d0887"
             ],
             [
              0.1111111111111111,
              "#46039f"
             ],
             [
              0.2222222222222222,
              "#7201a8"
             ],
             [
              0.3333333333333333,
              "#9c179e"
             ],
             [
              0.4444444444444444,
              "#bd3786"
             ],
             [
              0.5555555555555556,
              "#d8576b"
             ],
             [
              0.6666666666666666,
              "#ed7953"
             ],
             [
              0.7777777777777778,
              "#fb9f3a"
             ],
             [
              0.8888888888888888,
              "#fdca26"
             ],
             [
              1,
              "#f0f921"
             ]
            ],
            "type": "heatmap"
           }
          ],
          "heatmapgl": [
           {
            "colorbar": {
             "outlinewidth": 0,
             "ticks": ""
            },
            "colorscale": [
             [
              0,
              "#0d0887"
             ],
             [
              0.1111111111111111,
              "#46039f"
             ],
             [
              0.2222222222222222,
              "#7201a8"
             ],
             [
              0.3333333333333333,
              "#9c179e"
             ],
             [
              0.4444444444444444,
              "#bd3786"
             ],
             [
              0.5555555555555556,
              "#d8576b"
             ],
             [
              0.6666666666666666,
              "#ed7953"
             ],
             [
              0.7777777777777778,
              "#fb9f3a"
             ],
             [
              0.8888888888888888,
              "#fdca26"
             ],
             [
              1,
              "#f0f921"
             ]
            ],
            "type": "heatmapgl"
           }
          ],
          "histogram": [
           {
            "marker": {
             "pattern": {
              "fillmode": "overlay",
              "size": 10,
              "solidity": 0.2
             }
            },
            "type": "histogram"
           }
          ],
          "histogram2d": [
           {
            "colorbar": {
             "outlinewidth": 0,
             "ticks": ""
            },
            "colorscale": [
             [
              0,
              "#0d0887"
             ],
             [
              0.1111111111111111,
              "#46039f"
             ],
             [
              0.2222222222222222,
              "#7201a8"
             ],
             [
              0.3333333333333333,
              "#9c179e"
             ],
             [
              0.4444444444444444,
              "#bd3786"
             ],
             [
              0.5555555555555556,
              "#d8576b"
             ],
             [
              0.6666666666666666,
              "#ed7953"
             ],
             [
              0.7777777777777778,
              "#fb9f3a"
             ],
             [
              0.8888888888888888,
              "#fdca26"
             ],
             [
              1,
              "#f0f921"
             ]
            ],
            "type": "histogram2d"
           }
          ],
          "histogram2dcontour": [
           {
            "colorbar": {
             "outlinewidth": 0,
             "ticks": ""
            },
            "colorscale": [
             [
              0,
              "#0d0887"
             ],
             [
              0.1111111111111111,
              "#46039f"
             ],
             [
              0.2222222222222222,
              "#7201a8"
             ],
             [
              0.3333333333333333,
              "#9c179e"
             ],
             [
              0.4444444444444444,
              "#bd3786"
             ],
             [
              0.5555555555555556,
              "#d8576b"
             ],
             [
              0.6666666666666666,
              "#ed7953"
             ],
             [
              0.7777777777777778,
              "#fb9f3a"
             ],
             [
              0.8888888888888888,
              "#fdca26"
             ],
             [
              1,
              "#f0f921"
             ]
            ],
            "type": "histogram2dcontour"
           }
          ],
          "mesh3d": [
           {
            "colorbar": {
             "outlinewidth": 0,
             "ticks": ""
            },
            "type": "mesh3d"
           }
          ],
          "parcoords": [
           {
            "line": {
             "colorbar": {
              "outlinewidth": 0,
              "ticks": ""
             }
            },
            "type": "parcoords"
           }
          ],
          "pie": [
           {
            "automargin": true,
            "type": "pie"
           }
          ],
          "scatter": [
           {
            "fillpattern": {
             "fillmode": "overlay",
             "size": 10,
             "solidity": 0.2
            },
            "type": "scatter"
           }
          ],
          "scatter3d": [
           {
            "line": {
             "colorbar": {
              "outlinewidth": 0,
              "ticks": ""
             }
            },
            "marker": {
             "colorbar": {
              "outlinewidth": 0,
              "ticks": ""
             }
            },
            "type": "scatter3d"
           }
          ],
          "scattercarpet": [
           {
            "marker": {
             "colorbar": {
              "outlinewidth": 0,
              "ticks": ""
             }
            },
            "type": "scattercarpet"
           }
          ],
          "scattergeo": [
           {
            "marker": {
             "colorbar": {
              "outlinewidth": 0,
              "ticks": ""
             }
            },
            "type": "scattergeo"
           }
          ],
          "scattergl": [
           {
            "marker": {
             "colorbar": {
              "outlinewidth": 0,
              "ticks": ""
             }
            },
            "type": "scattergl"
           }
          ],
          "scattermapbox": [
           {
            "marker": {
             "colorbar": {
              "outlinewidth": 0,
              "ticks": ""
             }
            },
            "type": "scattermapbox"
           }
          ],
          "scatterpolar": [
           {
            "marker": {
             "colorbar": {
              "outlinewidth": 0,
              "ticks": ""
             }
            },
            "type": "scatterpolar"
           }
          ],
          "scatterpolargl": [
           {
            "marker": {
             "colorbar": {
              "outlinewidth": 0,
              "ticks": ""
             }
            },
            "type": "scatterpolargl"
           }
          ],
          "scatterternary": [
           {
            "marker": {
             "colorbar": {
              "outlinewidth": 0,
              "ticks": ""
             }
            },
            "type": "scatterternary"
           }
          ],
          "surface": [
           {
            "colorbar": {
             "outlinewidth": 0,
             "ticks": ""
            },
            "colorscale": [
             [
              0,
              "#0d0887"
             ],
             [
              0.1111111111111111,
              "#46039f"
             ],
             [
              0.2222222222222222,
              "#7201a8"
             ],
             [
              0.3333333333333333,
              "#9c179e"
             ],
             [
              0.4444444444444444,
              "#bd3786"
             ],
             [
              0.5555555555555556,
              "#d8576b"
             ],
             [
              0.6666666666666666,
              "#ed7953"
             ],
             [
              0.7777777777777778,
              "#fb9f3a"
             ],
             [
              0.8888888888888888,
              "#fdca26"
             ],
             [
              1,
              "#f0f921"
             ]
            ],
            "type": "surface"
           }
          ],
          "table": [
           {
            "cells": {
             "fill": {
              "color": "#EBF0F8"
             },
             "line": {
              "color": "white"
             }
            },
            "header": {
             "fill": {
              "color": "#C8D4E3"
             },
             "line": {
              "color": "white"
             }
            },
            "type": "table"
           }
          ]
         },
         "layout": {
          "annotationdefaults": {
           "arrowcolor": "#2a3f5f",
           "arrowhead": 0,
           "arrowwidth": 1
          },
          "autotypenumbers": "strict",
          "coloraxis": {
           "colorbar": {
            "outlinewidth": 0,
            "ticks": ""
           }
          },
          "colorscale": {
           "diverging": [
            [
             0,
             "#8e0152"
            ],
            [
             0.1,
             "#c51b7d"
            ],
            [
             0.2,
             "#de77ae"
            ],
            [
             0.3,
             "#f1b6da"
            ],
            [
             0.4,
             "#fde0ef"
            ],
            [
             0.5,
             "#f7f7f7"
            ],
            [
             0.6,
             "#e6f5d0"
            ],
            [
             0.7,
             "#b8e186"
            ],
            [
             0.8,
             "#7fbc41"
            ],
            [
             0.9,
             "#4d9221"
            ],
            [
             1,
             "#276419"
            ]
           ],
           "sequential": [
            [
             0,
             "#0d0887"
            ],
            [
             0.1111111111111111,
             "#46039f"
            ],
            [
             0.2222222222222222,
             "#7201a8"
            ],
            [
             0.3333333333333333,
             "#9c179e"
            ],
            [
             0.4444444444444444,
             "#bd3786"
            ],
            [
             0.5555555555555556,
             "#d8576b"
            ],
            [
             0.6666666666666666,
             "#ed7953"
            ],
            [
             0.7777777777777778,
             "#fb9f3a"
            ],
            [
             0.8888888888888888,
             "#fdca26"
            ],
            [
             1,
             "#f0f921"
            ]
           ],
           "sequentialminus": [
            [
             0,
             "#0d0887"
            ],
            [
             0.1111111111111111,
             "#46039f"
            ],
            [
             0.2222222222222222,
             "#7201a8"
            ],
            [
             0.3333333333333333,
             "#9c179e"
            ],
            [
             0.4444444444444444,
             "#bd3786"
            ],
            [
             0.5555555555555556,
             "#d8576b"
            ],
            [
             0.6666666666666666,
             "#ed7953"
            ],
            [
             0.7777777777777778,
             "#fb9f3a"
            ],
            [
             0.8888888888888888,
             "#fdca26"
            ],
            [
             1,
             "#f0f921"
            ]
           ]
          },
          "colorway": [
           "#636efa",
           "#EF553B",
           "#00cc96",
           "#ab63fa",
           "#FFA15A",
           "#19d3f3",
           "#FF6692",
           "#B6E880",
           "#FF97FF",
           "#FECB52"
          ],
          "font": {
           "color": "#2a3f5f"
          },
          "geo": {
           "bgcolor": "white",
           "lakecolor": "white",
           "landcolor": "#E5ECF6",
           "showlakes": true,
           "showland": true,
           "subunitcolor": "white"
          },
          "hoverlabel": {
           "align": "left"
          },
          "hovermode": "closest",
          "mapbox": {
           "style": "light"
          },
          "paper_bgcolor": "white",
          "plot_bgcolor": "#E5ECF6",
          "polar": {
           "angularaxis": {
            "gridcolor": "white",
            "linecolor": "white",
            "ticks": ""
           },
           "bgcolor": "#E5ECF6",
           "radialaxis": {
            "gridcolor": "white",
            "linecolor": "white",
            "ticks": ""
           }
          },
          "scene": {
           "xaxis": {
            "backgroundcolor": "#E5ECF6",
            "gridcolor": "white",
            "gridwidth": 2,
            "linecolor": "white",
            "showbackground": true,
            "ticks": "",
            "zerolinecolor": "white"
           },
           "yaxis": {
            "backgroundcolor": "#E5ECF6",
            "gridcolor": "white",
            "gridwidth": 2,
            "linecolor": "white",
            "showbackground": true,
            "ticks": "",
            "zerolinecolor": "white"
           },
           "zaxis": {
            "backgroundcolor": "#E5ECF6",
            "gridcolor": "white",
            "gridwidth": 2,
            "linecolor": "white",
            "showbackground": true,
            "ticks": "",
            "zerolinecolor": "white"
           }
          },
          "shapedefaults": {
           "line": {
            "color": "#2a3f5f"
           }
          },
          "ternary": {
           "aaxis": {
            "gridcolor": "white",
            "linecolor": "white",
            "ticks": ""
           },
           "baxis": {
            "gridcolor": "white",
            "linecolor": "white",
            "ticks": ""
           },
           "bgcolor": "#E5ECF6",
           "caxis": {
            "gridcolor": "white",
            "linecolor": "white",
            "ticks": ""
           }
          },
          "title": {
           "x": 0.05
          },
          "xaxis": {
           "automargin": true,
           "gridcolor": "white",
           "linecolor": "white",
           "ticks": "",
           "title": {
            "standoff": 15
           },
           "zerolinecolor": "white",
           "zerolinewidth": 2
          },
          "yaxis": {
           "automargin": true,
           "gridcolor": "white",
           "linecolor": "white",
           "ticks": "",
           "title": {
            "standoff": 15
           },
           "zerolinecolor": "white",
           "zerolinewidth": 2
          }
         }
        },
        "title": {
         "font": {
          "size": 20
         },
         "text": "Effect of Latitude and Mean Depth in Secchi Disk Transparency"
        },
        "xaxis": {
         "anchor": "y",
         "domain": [
          0,
          1
         ],
         "gridcolor": "#BCCCDC",
         "linecolor": "#BCCCDC",
         "minor": {
          "showgrid": true,
          "ticks": "inside"
         },
         "showgrid": true,
         "showspikes": false,
         "spikecolor": "#999999",
         "spikedash": "dot",
         "spikemode": "across",
         "spikethickness": 2,
         "tickfont": {
          "size": 14
         },
         "title": {
          "font": {
           "size": 18
          },
          "text": "Latitude [°]"
         }
        },
        "yaxis": {
         "anchor": "x",
         "domain": [
          0,
          1
         ],
         "gridcolor": "#BCCCDC",
         "linecolor": "#BCCCDC",
         "showgrid": false,
         "tickfont": {
          "size": 14
         },
         "title": {
          "font": {
           "size": 18
          },
          "text": "Mean Depth [m]"
         }
        }
       }
      }
     },
     "metadata": {},
     "output_type": "display_data"
    }
   ],
   "source": [
    "fig1 = px.scatter(data_frame=data, x='LAT', y='ZMEAN', color='SDT', color_continuous_scale='algae', hover_name='NAME', labels={\n",
    "                     'LAT': 'Latitude [°]',\n",
    "                     'SDT': 'Secchi Disk Transparency [m]',\n",
    "                     'ZMEAN': 'Mean Depth [m]',\n",
    "                     'ALT': 'Altitude'\n",
    "                 })\n",
    "fig_title = 'Effect of Latitude and Mean Depth in Secchi Disk Transparency'\n",
    "xaxis_title='Latitude [°]'\n",
    "yaxis_title='Mean Depth [m]'\n",
    "\n",
    "apply_custom_layout(fig1, fig_title, xaxis_title, yaxis_title, font='Lora', show_xspikes=False)\n",
    "fig1.update_layout(hovermode='closest',  coloraxis_colorbar_orientation='h')\n",
    "fig1.write_json(\"plot_name.json\")\n",
    "fig1.show()\n"
   ]
  },
  {
   "cell_type": "code",
   "execution_count": 8,
   "id": "a9704f72",
   "metadata": {},
   "outputs": [
    {
     "data": {
      "application/vnd.plotly.v1+json": {
       "config": {
        "plotlyServerURL": "https://plot.ly"
       },
       "data": [
        {
         "hovertemplate": "<b>%{hovertext}</b><br><br>Latitude [°]=%{x}<br>Mean Depth [m]=%{y}<br>Altitude=%{z}<br>Secchi Disk Transparency [m]=%{marker.color}<extra></extra>",
         "hovertext": [
          "Rodeo",
          "Comedero",
          "La Ciénaga",
          "Las Maderas",
          "Campo Alegre",
          "Cabra Corral",
          "El Cadillal",
          "Río Hondo",
          "Sumampa",
          "las Pirquitas",
          "Los Sauces",
          "Anzulón",
          "Portezuelo",
          "Cruz del Eje",
          "Mar Chiquita",
          "Saladillo",
          "San Roque",
          "Ullum",
          "La Viña",
          "Los Molinos",
          "Río Tercero",
          "San Felipe",
          "La florida",
          "El Carrizal",
          "El Diamante",
          "Agua del Toro",
          "Los Reyunos",
          "Valle Grande",
          "El Nihuil",
          "Melincué",
          "El Carpincho",
          "De Gómez",
          "Navarro",
          "Las mulitas",
          "De Lobos",
          "Indio Muerto",
          "De Monte",
          "La Chilca",
          "Chascomús",
          "La Limpia",
          "La Tablilla",
          "Blanca Grande",
          "Alsina",
          "Cochicó",
          "Salada Grande",
          "Los Horcones",
          "Del Monte",
          "Dulce",
          "Del Venado",
          "Epecuén",
          "La Brava",
          "De los Padres",
          "De Pigüé",
          "De Saavedra",
          "La Dulce",
          "Urre Lauquen",
          "Sauce Grande",
          "Agrio",
          "Pellegrini",
          "Marri Menuco",
          "Los Barreales",
          "Blanca ",
          "Aluminé",
          "Ramos Mexía",
          "Norquinco",
          "Quillén",
          "Huechulafquen",
          "Lacar",
          "Nahuel Huapi",
          "Gutierrez",
          "Ne Luan",
          "Mascardi",
          "Guillermo",
          "Steffen",
          "Las Chultas",
          "Epuyen",
          "Puelo",
          "Cholila",
          "Lezama",
          "Los Mosquitos",
          "Rivadavia",
          "Esquel",
          "Brechman",
          "Verde",
          "Wilimanco",
          "Zeta",
          "Largo",
          "Terraplén",
          "Amutui Quimen",
          "Futalaufquen",
          "Rosario",
          "Quichaura",
          "Cronometro",
          "Los Niños",
          "Pico 4",
          "Pico 3",
          "Pico 1",
          "La Plata",
          "Fontana",
          "Blanco",
          "Muster",
          "Colhue Huapi",
          "Ameghino"
         ],
         "legendgroup": "",
         "marker": {
          "color": [
           0.85,
           1.2,
           1,
           1.4,
           1.2,
           2.1,
           0.45,
           0.4,
           0.9,
           0.78,
           0.7,
           0.28,
           0.8,
           1.1,
           1.1,
           0.3,
           2.4,
           1.27,
           2.2,
           2.3,
           2.5,
           0.9,
           3.2,
           1.9,
           4.9,
           4.9,
           4,
           4.9,
           5.8,
           0.15,
           0.6,
           0.18,
           0.17,
           0.65,
           0.25,
           1,
           0.7,
           1.05,
           0.15,
           0.15,
           2.1,
           0.2,
           0.3,
           0.45,
           4.6,
           0.65,
           0.5,
           0.25,
           0.28,
           0.2,
           1.4,
           2.9,
           0.33,
           0.52,
           1.1,
           0.83,
           0.35,
           9,
           2,
           8.5,
           2.1,
           5.5,
           13.3,
           4,
           7.8,
           16.5,
           7.5,
           14.5,
           12.5,
           10.5,
           0.6,
           9.5,
           11,
           13,
           9,
           19,
           7,
           11.5,
           16,
           0.9,
           11.5,
           2.8,
           1.5,
           11,
           4,
           3.6,
           13.5,
           1.1,
           10.5,
           14,
           5.9,
           5,
           1.2,
           12,
           12,
           3.2,
           12.9,
           12.6,
           14.5,
           0.03,
           1.2,
           0.07,
           2.2
          ],
          "coloraxis": "coloraxis",
          "symbol": "circle"
         },
         "mode": "markers",
         "name": "",
         "scene": "scene",
         "showlegend": false,
         "type": "scatter3d",
         "x": [
          24.12,
          24.12,
          24.47,
          24.45,
          24.63,
          25.3,
          26.62,
          27.5,
          27.95,
          28.33,
          29.42,
          30.88,
          30.67,
          30.77,
          30.7,
          31,
          31.42,
          31.53,
          31.85,
          31.83,
          32.22,
          32.78,
          33.18,
          33.33,
          34.17,
          34.62,
          34.65,
          34.8,
          35.7,
          33.72,
          34.58,
          34.63,
          35.05,
          35.43,
          35.27,
          35.45,
          35.45,
          35.78,
          35.6,
          35.62,
          35.8,
          36.47,
          36.88,
          36.92,
          36.92,
          37,
          37,
          37.06,
          37.08,
          37.13,
          37.88,
          37.87,
          38.05,
          38.03,
          38.05,
          38.08,
          38.95,
          37.88,
          38.41,
          38.58,
          38.53,
          39.05,
          38.92,
          39.42,
          39.15,
          39.42,
          39.77,
          40.17,
          40.88,
          41.2,
          40.88,
          41.3,
          41.38,
          41.52,
          42.17,
          42.17,
          42.17,
          42.47,
          42.45,
          42.5,
          42.57,
          42.88,
          42.9,
          42.72,
          42.88,
          42.88,
          42.9,
          42.98,
          42.88,
          42.83,
          43.25,
          43.55,
          43.25,
          44.87,
          44.27,
          44.2,
          44.25,
          44.87,
          44.93,
          45.9,
          45.37,
          45.5,
          44.1
         ],
         "y": [
          3.6,
          4,
          9.3,
          31.3,
          14.4,
          27,
          22.2,
          5.3,
          10,
          26.8,
          8.1,
          4.9,
          3.3,
          9.5,
          7.3,
          3,
          14.1,
          14,
          23,
          16.3,
          13.5,
          7.1,
          15,
          12.2,
          38.6,
          36.2,
          33.3,
          33,
          4,
          3.2,
          1.2,
          1.1,
          0.7,
          1.5,
          1.2,
          1.6,
          1.4,
          1.5,
          1.5,
          1.9,
          1.1,
          1.5,
          1.1,
          1.9,
          2,
          1.3,
          5.2,
          2.7,
          3.8,
          4,
          3.4,
          2.7,
          2.5,
          2.7,
          3.8,
          1.6,
          2.1,
          50.8,
          9.4,
          79.4,
          68.3,
          8.4,
          69.4,
          24.7,
          41.9,
          59,
          142,
          166,
          157,
          79.7,
          6.4,
          111,
          61.3,
          46.7,
          11.4,
          92.4,
          111,
          48.5,
          36,
          6.1,
          104,
          2.1,
          3.3,
          18.3,
          6.4,
          5.9,
          19.5,
          3.5,
          64.7,
          101,
          24.9,
          3.4,
          4.4,
          4.3,
          6.8,
          3.8,
          41,
          97,
          79,
          0.7,
          20,
          2,
          24.6
         ],
         "z": [
          1446,
          1446,
          1212,
          1185,
          1200,
          1037,
          611,
          275,
          516,
          759,
          847,
          575,
          750,
          500,
          69,
          600,
          640,
          768,
          846,
          770,
          661,
          843,
          1032,
          790,
          3250,
          1339,
          991,
          814,
          1325,
          97,
          70,
          75,
          30,
          40,
          20,
          35,
          20,
          55,
          7,
          10,
          9,
          100,
          105,
          103,
          2,
          5,
          100,
          98,
          97,
          95,
          70,
          50,
          250,
          253,
          230,
          230,
          11,
          1650,
          270,
          421,
          422,
          1230,
          1125,
          381,
          1025,
          975,
          875,
          625,
          764,
          750,
          1000,
          750,
          826,
          525,
          585,
          250,
          150,
          540,
          750,
          500,
          527,
          650,
          480,
          520,
          700,
          850,
          800,
          750,
          502,
          518,
          650,
          900,
          850,
          900,
          550,
          550,
          550,
          940,
          930,
          550,
          275,
          265,
          169
         ]
        }
       ],
       "layout": {
        "coloraxis": {
         "colorbar": {
          "title": {
           "text": "Secchi Disk Transparency [m]"
          }
         },
         "colorscale": [
          [
           0,
           "rgb(252, 222, 156)"
          ],
          [
           0.16666666666666666,
           "rgb(250, 164, 118)"
          ],
          [
           0.3333333333333333,
           "rgb(240, 116, 110)"
          ],
          [
           0.5,
           "rgb(227, 79, 111)"
          ],
          [
           0.6666666666666666,
           "rgb(220, 57, 119)"
          ],
          [
           0.8333333333333334,
           "rgb(185, 37, 122)"
          ],
          [
           1,
           "rgb(124, 29, 111)"
          ]
         ]
        },
        "legend": {
         "tracegroupgap": 0
        },
        "margin": {
         "t": 60
        },
        "scene": {
         "domain": {
          "x": [
           0,
           1
          ],
          "y": [
           0,
           1
          ]
         },
         "xaxis": {
          "title": {
           "text": "Latitude [°]"
          }
         },
         "yaxis": {
          "title": {
           "text": "Mean Depth [m]"
          }
         },
         "zaxis": {
          "title": {
           "text": "Altitude"
          }
         }
        },
        "template": {
         "data": {
          "bar": [
           {
            "error_x": {
             "color": "#2a3f5f"
            },
            "error_y": {
             "color": "#2a3f5f"
            },
            "marker": {
             "line": {
              "color": "#E5ECF6",
              "width": 0.5
             },
             "pattern": {
              "fillmode": "overlay",
              "size": 10,
              "solidity": 0.2
             }
            },
            "type": "bar"
           }
          ],
          "barpolar": [
           {
            "marker": {
             "line": {
              "color": "#E5ECF6",
              "width": 0.5
             },
             "pattern": {
              "fillmode": "overlay",
              "size": 10,
              "solidity": 0.2
             }
            },
            "type": "barpolar"
           }
          ],
          "carpet": [
           {
            "aaxis": {
             "endlinecolor": "#2a3f5f",
             "gridcolor": "white",
             "linecolor": "white",
             "minorgridcolor": "white",
             "startlinecolor": "#2a3f5f"
            },
            "baxis": {
             "endlinecolor": "#2a3f5f",
             "gridcolor": "white",
             "linecolor": "white",
             "minorgridcolor": "white",
             "startlinecolor": "#2a3f5f"
            },
            "type": "carpet"
           }
          ],
          "choropleth": [
           {
            "colorbar": {
             "outlinewidth": 0,
             "ticks": ""
            },
            "type": "choropleth"
           }
          ],
          "contour": [
           {
            "colorbar": {
             "outlinewidth": 0,
             "ticks": ""
            },
            "colorscale": [
             [
              0,
              "#0d0887"
             ],
             [
              0.1111111111111111,
              "#46039f"
             ],
             [
              0.2222222222222222,
              "#7201a8"
             ],
             [
              0.3333333333333333,
              "#9c179e"
             ],
             [
              0.4444444444444444,
              "#bd3786"
             ],
             [
              0.5555555555555556,
              "#d8576b"
             ],
             [
              0.6666666666666666,
              "#ed7953"
             ],
             [
              0.7777777777777778,
              "#fb9f3a"
             ],
             [
              0.8888888888888888,
              "#fdca26"
             ],
             [
              1,
              "#f0f921"
             ]
            ],
            "type": "contour"
           }
          ],
          "contourcarpet": [
           {
            "colorbar": {
             "outlinewidth": 0,
             "ticks": ""
            },
            "type": "contourcarpet"
           }
          ],
          "heatmap": [
           {
            "colorbar": {
             "outlinewidth": 0,
             "ticks": ""
            },
            "colorscale": [
             [
              0,
              "#0d0887"
             ],
             [
              0.1111111111111111,
              "#46039f"
             ],
             [
              0.2222222222222222,
              "#7201a8"
             ],
             [
              0.3333333333333333,
              "#9c179e"
             ],
             [
              0.4444444444444444,
              "#bd3786"
             ],
             [
              0.5555555555555556,
              "#d8576b"
             ],
             [
              0.6666666666666666,
              "#ed7953"
             ],
             [
              0.7777777777777778,
              "#fb9f3a"
             ],
             [
              0.8888888888888888,
              "#fdca26"
             ],
             [
              1,
              "#f0f921"
             ]
            ],
            "type": "heatmap"
           }
          ],
          "heatmapgl": [
           {
            "colorbar": {
             "outlinewidth": 0,
             "ticks": ""
            },
            "colorscale": [
             [
              0,
              "#0d0887"
             ],
             [
              0.1111111111111111,
              "#46039f"
             ],
             [
              0.2222222222222222,
              "#7201a8"
             ],
             [
              0.3333333333333333,
              "#9c179e"
             ],
             [
              0.4444444444444444,
              "#bd3786"
             ],
             [
              0.5555555555555556,
              "#d8576b"
             ],
             [
              0.6666666666666666,
              "#ed7953"
             ],
             [
              0.7777777777777778,
              "#fb9f3a"
             ],
             [
              0.8888888888888888,
              "#fdca26"
             ],
             [
              1,
              "#f0f921"
             ]
            ],
            "type": "heatmapgl"
           }
          ],
          "histogram": [
           {
            "marker": {
             "pattern": {
              "fillmode": "overlay",
              "size": 10,
              "solidity": 0.2
             }
            },
            "type": "histogram"
           }
          ],
          "histogram2d": [
           {
            "colorbar": {
             "outlinewidth": 0,
             "ticks": ""
            },
            "colorscale": [
             [
              0,
              "#0d0887"
             ],
             [
              0.1111111111111111,
              "#46039f"
             ],
             [
              0.2222222222222222,
              "#7201a8"
             ],
             [
              0.3333333333333333,
              "#9c179e"
             ],
             [
              0.4444444444444444,
              "#bd3786"
             ],
             [
              0.5555555555555556,
              "#d8576b"
             ],
             [
              0.6666666666666666,
              "#ed7953"
             ],
             [
              0.7777777777777778,
              "#fb9f3a"
             ],
             [
              0.8888888888888888,
              "#fdca26"
             ],
             [
              1,
              "#f0f921"
             ]
            ],
            "type": "histogram2d"
           }
          ],
          "histogram2dcontour": [
           {
            "colorbar": {
             "outlinewidth": 0,
             "ticks": ""
            },
            "colorscale": [
             [
              0,
              "#0d0887"
             ],
             [
              0.1111111111111111,
              "#46039f"
             ],
             [
              0.2222222222222222,
              "#7201a8"
             ],
             [
              0.3333333333333333,
              "#9c179e"
             ],
             [
              0.4444444444444444,
              "#bd3786"
             ],
             [
              0.5555555555555556,
              "#d8576b"
             ],
             [
              0.6666666666666666,
              "#ed7953"
             ],
             [
              0.7777777777777778,
              "#fb9f3a"
             ],
             [
              0.8888888888888888,
              "#fdca26"
             ],
             [
              1,
              "#f0f921"
             ]
            ],
            "type": "histogram2dcontour"
           }
          ],
          "mesh3d": [
           {
            "colorbar": {
             "outlinewidth": 0,
             "ticks": ""
            },
            "type": "mesh3d"
           }
          ],
          "parcoords": [
           {
            "line": {
             "colorbar": {
              "outlinewidth": 0,
              "ticks": ""
             }
            },
            "type": "parcoords"
           }
          ],
          "pie": [
           {
            "automargin": true,
            "type": "pie"
           }
          ],
          "scatter": [
           {
            "fillpattern": {
             "fillmode": "overlay",
             "size": 10,
             "solidity": 0.2
            },
            "type": "scatter"
           }
          ],
          "scatter3d": [
           {
            "line": {
             "colorbar": {
              "outlinewidth": 0,
              "ticks": ""
             }
            },
            "marker": {
             "colorbar": {
              "outlinewidth": 0,
              "ticks": ""
             }
            },
            "type": "scatter3d"
           }
          ],
          "scattercarpet": [
           {
            "marker": {
             "colorbar": {
              "outlinewidth": 0,
              "ticks": ""
             }
            },
            "type": "scattercarpet"
           }
          ],
          "scattergeo": [
           {
            "marker": {
             "colorbar": {
              "outlinewidth": 0,
              "ticks": ""
             }
            },
            "type": "scattergeo"
           }
          ],
          "scattergl": [
           {
            "marker": {
             "colorbar": {
              "outlinewidth": 0,
              "ticks": ""
             }
            },
            "type": "scattergl"
           }
          ],
          "scattermapbox": [
           {
            "marker": {
             "colorbar": {
              "outlinewidth": 0,
              "ticks": ""
             }
            },
            "type": "scattermapbox"
           }
          ],
          "scatterpolar": [
           {
            "marker": {
             "colorbar": {
              "outlinewidth": 0,
              "ticks": ""
             }
            },
            "type": "scatterpolar"
           }
          ],
          "scatterpolargl": [
           {
            "marker": {
             "colorbar": {
              "outlinewidth": 0,
              "ticks": ""
             }
            },
            "type": "scatterpolargl"
           }
          ],
          "scatterternary": [
           {
            "marker": {
             "colorbar": {
              "outlinewidth": 0,
              "ticks": ""
             }
            },
            "type": "scatterternary"
           }
          ],
          "surface": [
           {
            "colorbar": {
             "outlinewidth": 0,
             "ticks": ""
            },
            "colorscale": [
             [
              0,
              "#0d0887"
             ],
             [
              0.1111111111111111,
              "#46039f"
             ],
             [
              0.2222222222222222,
              "#7201a8"
             ],
             [
              0.3333333333333333,
              "#9c179e"
             ],
             [
              0.4444444444444444,
              "#bd3786"
             ],
             [
              0.5555555555555556,
              "#d8576b"
             ],
             [
              0.6666666666666666,
              "#ed7953"
             ],
             [
              0.7777777777777778,
              "#fb9f3a"
             ],
             [
              0.8888888888888888,
              "#fdca26"
             ],
             [
              1,
              "#f0f921"
             ]
            ],
            "type": "surface"
           }
          ],
          "table": [
           {
            "cells": {
             "fill": {
              "color": "#EBF0F8"
             },
             "line": {
              "color": "white"
             }
            },
            "header": {
             "fill": {
              "color": "#C8D4E3"
             },
             "line": {
              "color": "white"
             }
            },
            "type": "table"
           }
          ]
         },
         "layout": {
          "annotationdefaults": {
           "arrowcolor": "#2a3f5f",
           "arrowhead": 0,
           "arrowwidth": 1
          },
          "autotypenumbers": "strict",
          "coloraxis": {
           "colorbar": {
            "outlinewidth": 0,
            "ticks": ""
           }
          },
          "colorscale": {
           "diverging": [
            [
             0,
             "#8e0152"
            ],
            [
             0.1,
             "#c51b7d"
            ],
            [
             0.2,
             "#de77ae"
            ],
            [
             0.3,
             "#f1b6da"
            ],
            [
             0.4,
             "#fde0ef"
            ],
            [
             0.5,
             "#f7f7f7"
            ],
            [
             0.6,
             "#e6f5d0"
            ],
            [
             0.7,
             "#b8e186"
            ],
            [
             0.8,
             "#7fbc41"
            ],
            [
             0.9,
             "#4d9221"
            ],
            [
             1,
             "#276419"
            ]
           ],
           "sequential": [
            [
             0,
             "#0d0887"
            ],
            [
             0.1111111111111111,
             "#46039f"
            ],
            [
             0.2222222222222222,
             "#7201a8"
            ],
            [
             0.3333333333333333,
             "#9c179e"
            ],
            [
             0.4444444444444444,
             "#bd3786"
            ],
            [
             0.5555555555555556,
             "#d8576b"
            ],
            [
             0.6666666666666666,
             "#ed7953"
            ],
            [
             0.7777777777777778,
             "#fb9f3a"
            ],
            [
             0.8888888888888888,
             "#fdca26"
            ],
            [
             1,
             "#f0f921"
            ]
           ],
           "sequentialminus": [
            [
             0,
             "#0d0887"
            ],
            [
             0.1111111111111111,
             "#46039f"
            ],
            [
             0.2222222222222222,
             "#7201a8"
            ],
            [
             0.3333333333333333,
             "#9c179e"
            ],
            [
             0.4444444444444444,
             "#bd3786"
            ],
            [
             0.5555555555555556,
             "#d8576b"
            ],
            [
             0.6666666666666666,
             "#ed7953"
            ],
            [
             0.7777777777777778,
             "#fb9f3a"
            ],
            [
             0.8888888888888888,
             "#fdca26"
            ],
            [
             1,
             "#f0f921"
            ]
           ]
          },
          "colorway": [
           "#636efa",
           "#EF553B",
           "#00cc96",
           "#ab63fa",
           "#FFA15A",
           "#19d3f3",
           "#FF6692",
           "#B6E880",
           "#FF97FF",
           "#FECB52"
          ],
          "font": {
           "color": "#2a3f5f"
          },
          "geo": {
           "bgcolor": "white",
           "lakecolor": "white",
           "landcolor": "#E5ECF6",
           "showlakes": true,
           "showland": true,
           "subunitcolor": "white"
          },
          "hoverlabel": {
           "align": "left"
          },
          "hovermode": "closest",
          "mapbox": {
           "style": "light"
          },
          "paper_bgcolor": "white",
          "plot_bgcolor": "#E5ECF6",
          "polar": {
           "angularaxis": {
            "gridcolor": "white",
            "linecolor": "white",
            "ticks": ""
           },
           "bgcolor": "#E5ECF6",
           "radialaxis": {
            "gridcolor": "white",
            "linecolor": "white",
            "ticks": ""
           }
          },
          "scene": {
           "xaxis": {
            "backgroundcolor": "#E5ECF6",
            "gridcolor": "white",
            "gridwidth": 2,
            "linecolor": "white",
            "showbackground": true,
            "ticks": "",
            "zerolinecolor": "white"
           },
           "yaxis": {
            "backgroundcolor": "#E5ECF6",
            "gridcolor": "white",
            "gridwidth": 2,
            "linecolor": "white",
            "showbackground": true,
            "ticks": "",
            "zerolinecolor": "white"
           },
           "zaxis": {
            "backgroundcolor": "#E5ECF6",
            "gridcolor": "white",
            "gridwidth": 2,
            "linecolor": "white",
            "showbackground": true,
            "ticks": "",
            "zerolinecolor": "white"
           }
          },
          "shapedefaults": {
           "line": {
            "color": "#2a3f5f"
           }
          },
          "ternary": {
           "aaxis": {
            "gridcolor": "white",
            "linecolor": "white",
            "ticks": ""
           },
           "baxis": {
            "gridcolor": "white",
            "linecolor": "white",
            "ticks": ""
           },
           "bgcolor": "#E5ECF6",
           "caxis": {
            "gridcolor": "white",
            "linecolor": "white",
            "ticks": ""
           }
          },
          "title": {
           "x": 0.05
          },
          "xaxis": {
           "automargin": true,
           "gridcolor": "white",
           "linecolor": "white",
           "ticks": "",
           "title": {
            "standoff": 15
           },
           "zerolinecolor": "white",
           "zerolinewidth": 2
          },
          "yaxis": {
           "automargin": true,
           "gridcolor": "white",
           "linecolor": "white",
           "ticks": "",
           "title": {
            "standoff": 15
           },
           "zerolinecolor": "white",
           "zerolinewidth": 2
          }
         }
        }
       }
      }
     },
     "metadata": {},
     "output_type": "display_data"
    }
   ],
   "source": [
    "#sns.scatterplot(x=data['LAT'], y=data['ZMEAN'], hue=data['TEMP'])\n",
    "fig = px.scatter_3d(data_frame=data, x='LAT', y='ZMEAN', z='ALT', color='SDT', color_continuous_scale='sunsetdark', hover_name='NAME', \n",
    "                 labels={\n",
    "                     'LAT': 'Latitude [°]',\n",
    "                     'SDT': 'Secchi Disk Transparency [m]',\n",
    "                     'ZMEAN': 'Mean Depth [m]',\n",
    "                     'ALT': 'Altitude'\n",
    "                 })\n",
    "fig_title = 'Effect of Latitude and Altitude in Secchi Disk Transparency'\n",
    "xaxis_title='Latitude [°]'\n",
    "yaxis_title='Secchi Disk Transparency [m]'\n",
    "\n",
    "#apply_custom_layout(fig, fig_title, xaxis_title, yaxis_title, font='Garamond')\n",
    "\n",
    "fig.show()"
   ]
  }
 ],
 "metadata": {
  "kernelspec": {
   "display_name": "Python 3 (ipykernel)",
   "language": "python",
   "name": "python3"
  },
  "language_info": {
   "codemirror_mode": {
    "name": "ipython",
    "version": 3
   },
   "file_extension": ".py",
   "mimetype": "text/x-python",
   "name": "python",
   "nbconvert_exporter": "python",
   "pygments_lexer": "ipython3",
   "version": "3.10.8"
  },
  "latex_envs": {
   "LaTeX_envs_menu_present": true,
   "autoclose": false,
   "autocomplete": true,
   "bibliofile": "biblio.bib",
   "cite_by": "apalike",
   "current_citInitial": 1,
   "eqLabelWithNumbers": true,
   "eqNumInitial": 1,
   "hotkeys": {
    "equation": "Ctrl-E",
    "itemize": "Ctrl-I"
   },
   "labels_anchors": false,
   "latex_user_defs": false,
   "report_style_numbering": false,
   "user_envs_cfg": false
  }
 },
 "nbformat": 4,
 "nbformat_minor": 5
}
