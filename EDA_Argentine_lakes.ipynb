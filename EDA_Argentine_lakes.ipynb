{
 "cells": [
  {
   "attachments": {},
   "cell_type": "markdown",
   "id": "bad77501",
   "metadata": {},
   "source": [
    "# EDA on Argentine lakes and reservoirs dataset\n",
    "\n",
    "*Short description: EDA on dataset of 103 argentine lake and reservoir data from Argentina. Dataset adapted from paper by R. Quirós (1988)*"
   ]
  },
  {
   "attachments": {},
   "cell_type": "markdown",
   "id": "6c10d4be",
   "metadata": {},
   "source": [
    "## Table of Contents\n",
    "\n",
    "1. [Description of the problem](#description-of-the-problem)\n",
    "2. [Preliminary steps](#prelimnary-steps) \n",
    "3. [Understanding the data](#understanding-the-data)\n",
    "4. [Feature Engineering](#feature-engineering)\n",
    "5. [Variation correlation](#variable-correlation)\n",
    "\n",
    "![lacar](lacar.jpg)"
   ]
  },
  {
   "attachments": {},
   "cell_type": "markdown",
   "id": "32196e5e",
   "metadata": {},
   "source": [
    "## Description of the problem <a class=\"anchor\" id=\"description\"></a>\n",
    "\n",
    "Small dataset that includes morphometric, climatic, nutrient levels and chlorofill values and from 103 argentine lakes and reservoirs.\n",
    "\n",
    "### Research objective:\n",
    "\n",
    ">*Analyze the influence of different variables regarding the eutrophication of lakes and reservoirs in Argentina*\n"
   ]
  },
  {
   "attachments": {},
   "cell_type": "markdown",
   "id": "8b8487cf",
   "metadata": {},
   "source": [
    "## Prelimnary steps <a class=\"anchor\" id=\"prelim\"></a>\n",
    "\n",
    "First of all, we import the libraries that will be using during this analysis and load the dataset into the **data** variable:"
   ]
  },
  {
   "cell_type": "code",
   "execution_count": 215,
   "id": "d8031eef",
   "metadata": {},
   "outputs": [],
   "source": [
    "import numpy as np\n",
    "import pandas as pd\n",
    "import seaborn as sns\n",
    "import plotly.express as px\n",
    "import plotly.graph_objects as go\n",
    "from plotly.io import write_image\n",
    "\n",
    "filepath = \"./lake_res_data.csv\"\n",
    "data = pd.read_csv(filepath)\n",
    "data = data.drop(columns='ID')\n",
    "data = data.rename(columns={'CHL-a': 'CHL'})\n",
    "data['TYPE'] = data['TYPE'].str.capitalize()\n",
    "data = data.set_index('NAME')"
   ]
  },
  {
   "attachments": {},
   "cell_type": "markdown",
   "id": "6f650271",
   "metadata": {},
   "source": [
    "## Understanding the data <a class=\"anchor\" id=\"understanding\"></a>\n",
    "Next, we will explore some characteristics of the dataset using relevant pandas methods such as **info()**, **describe()** and **head()**:"
   ]
  },
  {
   "cell_type": "code",
   "execution_count": 216,
   "id": "5ecc216f",
   "metadata": {},
   "outputs": [
    {
     "name": "stdout",
     "output_type": "stream",
     "text": [
      "<class 'pandas.core.frame.DataFrame'>\n",
      "Index: 103 entries, Rodeo to Ameghino\n",
      "Data columns (total 11 columns):\n",
      " #   Column  Non-Null Count  Dtype  \n",
      "---  ------  --------------  -----  \n",
      " 0   TYPE    103 non-null    object \n",
      " 1   REGION  103 non-null    object \n",
      " 2   AREA    103 non-null    float64\n",
      " 3   ZMEAN   103 non-null    float64\n",
      " 4   ALT     103 non-null    int64  \n",
      " 5   LAT     103 non-null    float64\n",
      " 6   TEMP    103 non-null    float64\n",
      " 7   SDT     103 non-null    float64\n",
      " 8   TP      103 non-null    int64  \n",
      " 9   TON     103 non-null    int64  \n",
      " 10  CHL     103 non-null    float64\n",
      "dtypes: float64(6), int64(3), object(2)\n",
      "memory usage: 9.7+ KB\n"
     ]
    }
   ],
   "source": [
    "data.info()"
   ]
  },
  {
   "cell_type": "code",
   "execution_count": 217,
   "id": "e719411d",
   "metadata": {},
   "outputs": [
    {
     "name": "stdout",
     "output_type": "stream",
     "text": [
      "Unique values for 'TYPE' column: ['Lake', 'Reservoir']\n",
      "Unique values for 'REGION' column: ['ANW', 'Pampa Mountains', 'Cuyo', 'Pampa Plains', 'Patagonian Plateau', 'Patagonian Andes']\n"
     ]
    }
   ],
   "source": [
    "print(f\"Unique values for 'TYPE' column: {data['TYPE'].unique().tolist()}\")\n",
    "print(f\"Unique values for 'REGION' column: {data['REGION'].unique().tolist()}\")"
   ]
  },
  {
   "cell_type": "code",
   "execution_count": 218,
   "id": "3a95c3a8",
   "metadata": {},
   "outputs": [
    {
     "data": {
      "text/plain": [
       "TYPE\n",
       "Lake         73\n",
       "Reservoir    30\n",
       "Name: count, dtype: int64"
      ]
     },
     "execution_count": 218,
     "metadata": {},
     "output_type": "execute_result"
    }
   ],
   "source": [
    "data['TYPE'].value_counts()"
   ]
  },
  {
   "cell_type": "code",
   "execution_count": 219,
   "id": "bf128f0e",
   "metadata": {},
   "outputs": [
    {
     "data": {
      "text/plain": [
       "REGION\n",
       "Patagonian Andes      39\n",
       "Pampa Plains          26\n",
       "ANW                   11\n",
       "Pampa Mountains       10\n",
       "Patagonian Plateau     9\n",
       "Cuyo                   8\n",
       "Name: count, dtype: int64"
      ]
     },
     "execution_count": 219,
     "metadata": {},
     "output_type": "execute_result"
    }
   ],
   "source": [
    "data['REGION'].value_counts()"
   ]
  },
  {
   "cell_type": "code",
   "execution_count": 220,
   "id": "8ff0dc52",
   "metadata": {},
   "outputs": [
    {
     "data": {
      "text/html": [
       "<div>\n",
       "<style scoped>\n",
       "    .dataframe tbody tr th:only-of-type {\n",
       "        vertical-align: middle;\n",
       "    }\n",
       "\n",
       "    .dataframe tbody tr th {\n",
       "        vertical-align: top;\n",
       "    }\n",
       "\n",
       "    .dataframe thead th {\n",
       "        text-align: right;\n",
       "    }\n",
       "</style>\n",
       "<table border=\"1\" class=\"dataframe\">\n",
       "  <thead>\n",
       "    <tr style=\"text-align: right;\">\n",
       "      <th></th>\n",
       "      <th>AREA</th>\n",
       "      <th>ZMEAN</th>\n",
       "      <th>ALT</th>\n",
       "      <th>LAT</th>\n",
       "      <th>TEMP</th>\n",
       "      <th>SDT</th>\n",
       "      <th>TP</th>\n",
       "      <th>TON</th>\n",
       "      <th>CHL</th>\n",
       "    </tr>\n",
       "  </thead>\n",
       "  <tbody>\n",
       "    <tr>\n",
       "      <th>count</th>\n",
       "      <td>103.000000</td>\n",
       "      <td>103.000000</td>\n",
       "      <td>103.000000</td>\n",
       "      <td>103.000000</td>\n",
       "      <td>103.000000</td>\n",
       "      <td>103.000000</td>\n",
       "      <td>103.000000</td>\n",
       "      <td>103.000000</td>\n",
       "      <td>103.000000</td>\n",
       "    </tr>\n",
       "    <tr>\n",
       "      <th>mean</th>\n",
       "      <td>73.370000</td>\n",
       "      <td>25.610680</td>\n",
       "      <td>583.776699</td>\n",
       "      <td>37.202718</td>\n",
       "      <td>11.866019</td>\n",
       "      <td>4.322718</td>\n",
       "      <td>221.854369</td>\n",
       "      <td>100.368932</td>\n",
       "      <td>25.772621</td>\n",
       "    </tr>\n",
       "    <tr>\n",
       "      <th>std</th>\n",
       "      <td>234.395916</td>\n",
       "      <td>36.272095</td>\n",
       "      <td>481.896192</td>\n",
       "      <td>5.603130</td>\n",
       "      <td>5.239585</td>\n",
       "      <td>4.940594</td>\n",
       "      <td>823.340713</td>\n",
       "      <td>125.403427</td>\n",
       "      <td>54.056045</td>\n",
       "    </tr>\n",
       "    <tr>\n",
       "      <th>min</th>\n",
       "      <td>0.090000</td>\n",
       "      <td>0.700000</td>\n",
       "      <td>2.000000</td>\n",
       "      <td>24.120000</td>\n",
       "      <td>3.000000</td>\n",
       "      <td>0.030000</td>\n",
       "      <td>1.000000</td>\n",
       "      <td>6.000000</td>\n",
       "      <td>0.160000</td>\n",
       "    </tr>\n",
       "    <tr>\n",
       "      <th>25%</th>\n",
       "      <td>4.350000</td>\n",
       "      <td>3.100000</td>\n",
       "      <td>159.500000</td>\n",
       "      <td>34.375000</td>\n",
       "      <td>6.000000</td>\n",
       "      <td>0.675000</td>\n",
       "      <td>9.000000</td>\n",
       "      <td>21.000000</td>\n",
       "      <td>0.830000</td>\n",
       "    </tr>\n",
       "    <tr>\n",
       "      <th>50%</th>\n",
       "      <td>12.000000</td>\n",
       "      <td>8.100000</td>\n",
       "      <td>550.000000</td>\n",
       "      <td>37.880000</td>\n",
       "      <td>14.000000</td>\n",
       "      <td>2.000000</td>\n",
       "      <td>30.000000</td>\n",
       "      <td>45.000000</td>\n",
       "      <td>6.700000</td>\n",
       "    </tr>\n",
       "    <tr>\n",
       "      <th>75%</th>\n",
       "      <td>44.300000</td>\n",
       "      <td>33.150000</td>\n",
       "      <td>844.500000</td>\n",
       "      <td>42.310000</td>\n",
       "      <td>16.000000</td>\n",
       "      <td>7.250000</td>\n",
       "      <td>125.500000</td>\n",
       "      <td>126.000000</td>\n",
       "      <td>23.750000</td>\n",
       "    </tr>\n",
       "    <tr>\n",
       "      <th>max</th>\n",
       "      <td>1984.000000</td>\n",
       "      <td>166.000000</td>\n",
       "      <td>3250.000000</td>\n",
       "      <td>45.900000</td>\n",
       "      <td>20.400000</td>\n",
       "      <td>19.000000</td>\n",
       "      <td>7912.000000</td>\n",
       "      <td>762.000000</td>\n",
       "      <td>405.300000</td>\n",
       "    </tr>\n",
       "  </tbody>\n",
       "</table>\n",
       "</div>"
      ],
      "text/plain": [
       "              AREA       ZMEAN          ALT         LAT        TEMP  \\\n",
       "count   103.000000  103.000000   103.000000  103.000000  103.000000   \n",
       "mean     73.370000   25.610680   583.776699   37.202718   11.866019   \n",
       "std     234.395916   36.272095   481.896192    5.603130    5.239585   \n",
       "min       0.090000    0.700000     2.000000   24.120000    3.000000   \n",
       "25%       4.350000    3.100000   159.500000   34.375000    6.000000   \n",
       "50%      12.000000    8.100000   550.000000   37.880000   14.000000   \n",
       "75%      44.300000   33.150000   844.500000   42.310000   16.000000   \n",
       "max    1984.000000  166.000000  3250.000000   45.900000   20.400000   \n",
       "\n",
       "              SDT           TP         TON         CHL  \n",
       "count  103.000000   103.000000  103.000000  103.000000  \n",
       "mean     4.322718   221.854369  100.368932   25.772621  \n",
       "std      4.940594   823.340713  125.403427   54.056045  \n",
       "min      0.030000     1.000000    6.000000    0.160000  \n",
       "25%      0.675000     9.000000   21.000000    0.830000  \n",
       "50%      2.000000    30.000000   45.000000    6.700000  \n",
       "75%      7.250000   125.500000  126.000000   23.750000  \n",
       "max     19.000000  7912.000000  762.000000  405.300000  "
      ]
     },
     "execution_count": 220,
     "metadata": {},
     "output_type": "execute_result"
    }
   ],
   "source": [
    "data.describe()"
   ]
  },
  {
   "cell_type": "code",
   "execution_count": 221,
   "id": "5a04616f",
   "metadata": {},
   "outputs": [
    {
     "data": {
      "text/html": [
       "<div>\n",
       "<style scoped>\n",
       "    .dataframe tbody tr th:only-of-type {\n",
       "        vertical-align: middle;\n",
       "    }\n",
       "\n",
       "    .dataframe tbody tr th {\n",
       "        vertical-align: top;\n",
       "    }\n",
       "\n",
       "    .dataframe thead th {\n",
       "        text-align: right;\n",
       "    }\n",
       "</style>\n",
       "<table border=\"1\" class=\"dataframe\">\n",
       "  <thead>\n",
       "    <tr style=\"text-align: right;\">\n",
       "      <th></th>\n",
       "      <th>TYPE</th>\n",
       "      <th>REGION</th>\n",
       "      <th>AREA</th>\n",
       "      <th>ZMEAN</th>\n",
       "      <th>ALT</th>\n",
       "      <th>LAT</th>\n",
       "      <th>TEMP</th>\n",
       "      <th>SDT</th>\n",
       "      <th>TP</th>\n",
       "      <th>TON</th>\n",
       "      <th>CHL</th>\n",
       "    </tr>\n",
       "    <tr>\n",
       "      <th>NAME</th>\n",
       "      <th></th>\n",
       "      <th></th>\n",
       "      <th></th>\n",
       "      <th></th>\n",
       "      <th></th>\n",
       "      <th></th>\n",
       "      <th></th>\n",
       "      <th></th>\n",
       "      <th></th>\n",
       "      <th></th>\n",
       "      <th></th>\n",
       "    </tr>\n",
       "  </thead>\n",
       "  <tbody>\n",
       "    <tr>\n",
       "      <th>Huechulafquen</th>\n",
       "      <td>Lake</td>\n",
       "      <td>Patagonian Andes</td>\n",
       "      <td>78.2</td>\n",
       "      <td>142.0</td>\n",
       "      <td>875</td>\n",
       "      <td>39.77</td>\n",
       "      <td>5.0</td>\n",
       "      <td>7.5</td>\n",
       "      <td>14</td>\n",
       "      <td>14</td>\n",
       "      <td>0.74</td>\n",
       "    </tr>\n",
       "    <tr>\n",
       "      <th>Esquel</th>\n",
       "      <td>Lake</td>\n",
       "      <td>Patagonian Andes</td>\n",
       "      <td>2.8</td>\n",
       "      <td>2.1</td>\n",
       "      <td>650</td>\n",
       "      <td>42.88</td>\n",
       "      <td>8.0</td>\n",
       "      <td>2.8</td>\n",
       "      <td>74</td>\n",
       "      <td>72</td>\n",
       "      <td>4.10</td>\n",
       "    </tr>\n",
       "    <tr>\n",
       "      <th>Zeta</th>\n",
       "      <td>Lake</td>\n",
       "      <td>Patagonian Andes</td>\n",
       "      <td>0.8</td>\n",
       "      <td>5.9</td>\n",
       "      <td>850</td>\n",
       "      <td>42.88</td>\n",
       "      <td>8.0</td>\n",
       "      <td>3.6</td>\n",
       "      <td>92</td>\n",
       "      <td>63</td>\n",
       "      <td>6.60</td>\n",
       "    </tr>\n",
       "    <tr>\n",
       "      <th>Wilimanco</th>\n",
       "      <td>Lake</td>\n",
       "      <td>Patagonian Andes</td>\n",
       "      <td>0.6</td>\n",
       "      <td>6.4</td>\n",
       "      <td>700</td>\n",
       "      <td>42.88</td>\n",
       "      <td>8.0</td>\n",
       "      <td>4.0</td>\n",
       "      <td>25</td>\n",
       "      <td>38</td>\n",
       "      <td>7.20</td>\n",
       "    </tr>\n",
       "    <tr>\n",
       "      <th>La Viña</th>\n",
       "      <td>Reservoir</td>\n",
       "      <td>Pampa Mountains</td>\n",
       "      <td>10.5</td>\n",
       "      <td>23.0</td>\n",
       "      <td>846</td>\n",
       "      <td>31.85</td>\n",
       "      <td>16.9</td>\n",
       "      <td>2.2</td>\n",
       "      <td>25</td>\n",
       "      <td>37</td>\n",
       "      <td>6.70</td>\n",
       "    </tr>\n",
       "  </tbody>\n",
       "</table>\n",
       "</div>"
      ],
      "text/plain": [
       "                    TYPE            REGION  AREA  ZMEAN  ALT    LAT  TEMP  \\\n",
       "NAME                                                                        \n",
       "Huechulafquen       Lake  Patagonian Andes  78.2  142.0  875  39.77   5.0   \n",
       "Esquel              Lake  Patagonian Andes   2.8    2.1  650  42.88   8.0   \n",
       "Zeta                Lake  Patagonian Andes   0.8    5.9  850  42.88   8.0   \n",
       "Wilimanco           Lake  Patagonian Andes   0.6    6.4  700  42.88   8.0   \n",
       "La Viña        Reservoir   Pampa Mountains  10.5   23.0  846  31.85  16.9   \n",
       "\n",
       "               SDT  TP  TON   CHL  \n",
       "NAME                               \n",
       "Huechulafquen  7.5  14   14  0.74  \n",
       "Esquel         2.8  74   72  4.10  \n",
       "Zeta           3.6  92   63  6.60  \n",
       "Wilimanco      4.0  25   38  7.20  \n",
       "La Viña        2.2  25   37  6.70  "
      ]
     },
     "execution_count": 221,
     "metadata": {},
     "output_type": "execute_result"
    }
   ],
   "source": [
    "data.sample(5)"
   ]
  },
  {
   "attachments": {},
   "cell_type": "markdown",
   "id": "6e34d6a7",
   "metadata": {},
   "source": [
    "As we can see, the data is structured in an index and 11 fields. The meaning of each column is described below:\n",
    "+ **NAME (index)**: Name of the waterbody.\n",
    "+ **TYPE**: Type of the waterbody.\n",
    "+ **REGION**: Geographical region where the waterbody is lcoated.\n",
    "+ **AREA**: Area, in $km^2$.\n",
    "+ **ZMEAN**: Mean depth, in $m$.\n",
    "+ **ALT**: Elevation, in $m$.\n",
    "+ **LAT**: Latitude, $°S$.\n",
    "+ **TEMP**: Annual mean air temperature, in $°C$.\n",
    "+ **SDT**: Secchi disk transparency, in $m$.\n",
    "+ **TP**: Total phosphorus, in $mg.m^{-3}$.\n",
    "+ **TON**: Total organic nitrogen, in $\\mu.M$\n",
    "+ **CHL**: Total chlorophyll-a, in $mg.m^{-3}$."
   ]
  },
  {
   "attachments": {},
   "cell_type": "markdown",
   "id": "c04e8e08",
   "metadata": {},
   "source": [
    "# Feature Engineering <a class=\"anchor\" id=\"feature\"></a>\n",
    "I will create some other variables that may be useful for our analysis:"
   ]
  },
  {
   "cell_type": "code",
   "execution_count": 222,
   "id": "9c2a7f5d",
   "metadata": {},
   "outputs": [],
   "source": [
    "data['VOL'] = data['AREA'] * data['ZMEAN']\n",
    "data['DEPTH'] = np.where((data['ZMEAN'] > 5), 'Deep', 'Shallow')"
   ]
  },
  {
   "attachments": {},
   "cell_type": "markdown",
   "id": "b63f1ee7",
   "metadata": {},
   "source": [
    "Now, I'll create columns for the three Carlson's Trophic State Index (TSI), as proposed by Carlson (1977):\n",
    "\n",
    "$TSI_{SD} = 60 - 14.41 {\\ln}(SD)$\n",
    "\n",
    "$TSI_{TP} = 4.15 + 14.42 {\\ln}(TP)$\n",
    "\n",
    "$TSI_{Chl} = 30.6 + 9.81 {\\ln}(Chl)$"
   ]
  },
  {
   "cell_type": "code",
   "execution_count": 223,
   "id": "cabbe3a6",
   "metadata": {},
   "outputs": [],
   "source": [
    "data['TSI-SD'] = 60 - 14.41*np.log(data['SDT'])\n",
    "data['TSI-TP'] = 4.15 + 14.42*np.log(data['TP'])\n",
    "data['TSI-CHL'] = 30.6 + 9.81*np.log(data['CHL'])"
   ]
  },
  {
   "cell_type": "code",
   "execution_count": 224,
   "id": "acca0e89",
   "metadata": {},
   "outputs": [
    {
     "data": {
      "text/html": [
       "<div>\n",
       "<style scoped>\n",
       "    .dataframe tbody tr th:only-of-type {\n",
       "        vertical-align: middle;\n",
       "    }\n",
       "\n",
       "    .dataframe tbody tr th {\n",
       "        vertical-align: top;\n",
       "    }\n",
       "\n",
       "    .dataframe thead th {\n",
       "        text-align: right;\n",
       "    }\n",
       "</style>\n",
       "<table border=\"1\" class=\"dataframe\">\n",
       "  <thead>\n",
       "    <tr style=\"text-align: right;\">\n",
       "      <th></th>\n",
       "      <th>AREA</th>\n",
       "      <th>ZMEAN</th>\n",
       "      <th>ALT</th>\n",
       "      <th>LAT</th>\n",
       "      <th>TEMP</th>\n",
       "      <th>SDT</th>\n",
       "      <th>TP</th>\n",
       "      <th>TON</th>\n",
       "      <th>CHL</th>\n",
       "      <th>VOL</th>\n",
       "      <th>TSI-SD</th>\n",
       "      <th>TSI-TP</th>\n",
       "      <th>TSI-CHL</th>\n",
       "    </tr>\n",
       "  </thead>\n",
       "  <tbody>\n",
       "    <tr>\n",
       "      <th>count</th>\n",
       "      <td>103.000000</td>\n",
       "      <td>103.000000</td>\n",
       "      <td>103.000000</td>\n",
       "      <td>103.000000</td>\n",
       "      <td>103.000000</td>\n",
       "      <td>103.000000</td>\n",
       "      <td>103.000000</td>\n",
       "      <td>103.000000</td>\n",
       "      <td>103.000000</td>\n",
       "      <td>103.000000</td>\n",
       "      <td>103.000000</td>\n",
       "      <td>103.000000</td>\n",
       "      <td>103.000000</td>\n",
       "    </tr>\n",
       "    <tr>\n",
       "      <th>mean</th>\n",
       "      <td>73.370000</td>\n",
       "      <td>25.610680</td>\n",
       "      <td>583.776699</td>\n",
       "      <td>37.202718</td>\n",
       "      <td>11.866019</td>\n",
       "      <td>4.322718</td>\n",
       "      <td>221.854369</td>\n",
       "      <td>100.368932</td>\n",
       "      <td>25.772621</td>\n",
       "      <td>2474.747515</td>\n",
       "      <td>51.153562</td>\n",
       "      <td>56.114056</td>\n",
       "      <td>46.743910</td>\n",
       "    </tr>\n",
       "    <tr>\n",
       "      <th>std</th>\n",
       "      <td>234.395916</td>\n",
       "      <td>36.272095</td>\n",
       "      <td>481.896192</td>\n",
       "      <td>5.603130</td>\n",
       "      <td>5.239585</td>\n",
       "      <td>4.940594</td>\n",
       "      <td>823.340713</td>\n",
       "      <td>125.403427</td>\n",
       "      <td>54.056045</td>\n",
       "      <td>9450.337687</td>\n",
       "      <td>21.308156</td>\n",
       "      <td>26.212035</td>\n",
       "      <td>19.383983</td>\n",
       "    </tr>\n",
       "    <tr>\n",
       "      <th>min</th>\n",
       "      <td>0.090000</td>\n",
       "      <td>0.700000</td>\n",
       "      <td>2.000000</td>\n",
       "      <td>24.120000</td>\n",
       "      <td>3.000000</td>\n",
       "      <td>0.030000</td>\n",
       "      <td>1.000000</td>\n",
       "      <td>6.000000</td>\n",
       "      <td>0.160000</td>\n",
       "      <td>0.324000</td>\n",
       "      <td>17.570634</td>\n",
       "      <td>4.150000</td>\n",
       "      <td>12.622376</td>\n",
       "    </tr>\n",
       "    <tr>\n",
       "      <th>25%</th>\n",
       "      <td>4.350000</td>\n",
       "      <td>3.100000</td>\n",
       "      <td>159.500000</td>\n",
       "      <td>34.375000</td>\n",
       "      <td>6.000000</td>\n",
       "      <td>0.675000</td>\n",
       "      <td>9.000000</td>\n",
       "      <td>21.000000</td>\n",
       "      <td>0.830000</td>\n",
       "      <td>14.295000</td>\n",
       "      <td>31.462341</td>\n",
       "      <td>35.833978</td>\n",
       "      <td>28.714093</td>\n",
       "    </tr>\n",
       "    <tr>\n",
       "      <th>50%</th>\n",
       "      <td>12.000000</td>\n",
       "      <td>8.100000</td>\n",
       "      <td>550.000000</td>\n",
       "      <td>37.880000</td>\n",
       "      <td>14.000000</td>\n",
       "      <td>2.000000</td>\n",
       "      <td>30.000000</td>\n",
       "      <td>45.000000</td>\n",
       "      <td>6.700000</td>\n",
       "      <td>109.340000</td>\n",
       "      <td>50.011749</td>\n",
       "      <td>53.195266</td>\n",
       "      <td>49.259675</td>\n",
       "    </tr>\n",
       "    <tr>\n",
       "      <th>75%</th>\n",
       "      <td>44.300000</td>\n",
       "      <td>33.150000</td>\n",
       "      <td>844.500000</td>\n",
       "      <td>42.310000</td>\n",
       "      <td>16.000000</td>\n",
       "      <td>7.250000</td>\n",
       "      <td>125.500000</td>\n",
       "      <td>126.000000</td>\n",
       "      <td>23.750000</td>\n",
       "      <td>625.145000</td>\n",
       "      <td>65.673634</td>\n",
       "      <td>73.830819</td>\n",
       "      <td>61.673963</td>\n",
       "    </tr>\n",
       "    <tr>\n",
       "      <th>max</th>\n",
       "      <td>1984.000000</td>\n",
       "      <td>166.000000</td>\n",
       "      <td>3250.000000</td>\n",
       "      <td>45.900000</td>\n",
       "      <td>20.400000</td>\n",
       "      <td>19.000000</td>\n",
       "      <td>7912.000000</td>\n",
       "      <td>762.000000</td>\n",
       "      <td>405.300000</td>\n",
       "      <td>87449.000000</td>\n",
       "      <td>110.529499</td>\n",
       "      <td>133.585879</td>\n",
       "      <td>89.505396</td>\n",
       "    </tr>\n",
       "  </tbody>\n",
       "</table>\n",
       "</div>"
      ],
      "text/plain": [
       "              AREA       ZMEAN          ALT         LAT        TEMP  \\\n",
       "count   103.000000  103.000000   103.000000  103.000000  103.000000   \n",
       "mean     73.370000   25.610680   583.776699   37.202718   11.866019   \n",
       "std     234.395916   36.272095   481.896192    5.603130    5.239585   \n",
       "min       0.090000    0.700000     2.000000   24.120000    3.000000   \n",
       "25%       4.350000    3.100000   159.500000   34.375000    6.000000   \n",
       "50%      12.000000    8.100000   550.000000   37.880000   14.000000   \n",
       "75%      44.300000   33.150000   844.500000   42.310000   16.000000   \n",
       "max    1984.000000  166.000000  3250.000000   45.900000   20.400000   \n",
       "\n",
       "              SDT           TP         TON         CHL           VOL  \\\n",
       "count  103.000000   103.000000  103.000000  103.000000    103.000000   \n",
       "mean     4.322718   221.854369  100.368932   25.772621   2474.747515   \n",
       "std      4.940594   823.340713  125.403427   54.056045   9450.337687   \n",
       "min      0.030000     1.000000    6.000000    0.160000      0.324000   \n",
       "25%      0.675000     9.000000   21.000000    0.830000     14.295000   \n",
       "50%      2.000000    30.000000   45.000000    6.700000    109.340000   \n",
       "75%      7.250000   125.500000  126.000000   23.750000    625.145000   \n",
       "max     19.000000  7912.000000  762.000000  405.300000  87449.000000   \n",
       "\n",
       "           TSI-SD      TSI-TP     TSI-CHL  \n",
       "count  103.000000  103.000000  103.000000  \n",
       "mean    51.153562   56.114056   46.743910  \n",
       "std     21.308156   26.212035   19.383983  \n",
       "min     17.570634    4.150000   12.622376  \n",
       "25%     31.462341   35.833978   28.714093  \n",
       "50%     50.011749   53.195266   49.259675  \n",
       "75%     65.673634   73.830819   61.673963  \n",
       "max    110.529499  133.585879   89.505396  "
      ]
     },
     "execution_count": 224,
     "metadata": {},
     "output_type": "execute_result"
    }
   ],
   "source": [
    "data.describe()"
   ]
  },
  {
   "cell_type": "code",
   "execution_count": 225,
   "id": "7bd6ccb4",
   "metadata": {},
   "outputs": [],
   "source": [
    "def apply_custom_layout(figure,\n",
    "                        figure_title,\n",
    "                        yaxis_title,\n",
    "                        xaxis_title=None,\n",
    "                        width=None,\n",
    "                        height=None,\n",
    "                        show_legend=True,\n",
    "                        legend_title='Legend',\n",
    "                        font='Open Sans',\n",
    "                        bg_color='#FFFFFF',\n",
    "                        axis_color='#BCCCDC',\n",
    "                        grid_color='#BCCCDC',\n",
    "                        spike_color='#999999',\n",
    "                        title_fontsize=20,\n",
    "                        legend_fontsize=16,\n",
    "                        axis_fontsize=18,\n",
    "                        tick_fontsize=14,\n",
    "                        show_major_xgrid=True,\n",
    "                        display_minor_xaxis=True,\n",
    "                        dtick_xaxis='M3',\n",
    "                        show_minor_xgrid=True,\n",
    "                        show_major_ygrid=False,\n",
    "                        show_xspikes=True):\n",
    "    \"\"\"Applies desired custom formatting to figure layout.\n",
    "\n",
    "    Parameters\n",
    "    ----------\n",
    "    figure : plotly.graph_objects.Figure instance\n",
    "        Figure whose layout will be updated\n",
    "    figure_title : str\n",
    "        Desired figure title\n",
    "    yaxis_title : str\n",
    "        Desired Y-axis title\n",
    "    xaxis_title : str, optional\n",
    "        Desired X-axis title, by default None.\n",
    "    width : int, optional\n",
    "        Figure width, in number of px, by default None. If both widht and height\n",
    "        are None, figure will autosize.\n",
    "    height : int, optional\n",
    "        Figure height, in number of px, by default None. If both widht & height\n",
    "        are None, figure will autosize.\n",
    "    show_legend : bool, optional\n",
    "        Determines if legend will be printed, by default 'True'.\n",
    "    legend_title : str, optional\n",
    "        Legend title, by default 'Legend'. If legend_title=None, no title will\n",
    "        be printed.\n",
    "    font : str, optional\n",
    "        Font to be used on title, axis, ticks and legend, by default 'Garamond'\n",
    "    bg_color : str, optional\n",
    "        Background color, by default '#FFFFFF'\n",
    "    axis_color : str, optional\n",
    "        Axis (not axis title) color, by default '#BCCCDC'\n",
    "    grid_color : str, optional\n",
    "        Grid color, by default '#BCCCDC'\n",
    "    spike_color : str, optional\n",
    "        Spike color, by default '#999999'\n",
    "    title_fontsize : int, optional\n",
    "        Title fontsize, by default 20\n",
    "    legend_fontsize : int, optional\n",
    "        Legend fontsize, by default 16\n",
    "    axis_fontsize : int, optional\n",
    "        Axis title fontsize, by default 18\n",
    "    tick_fontsize : int, optional\n",
    "        Tick fontsize, by default 14\n",
    "    show_major_xgrid : bool, optional\n",
    "        If True displays grid on major ticks for X-axis, by default True\n",
    "    display_minor_xaxis : bool, optional\n",
    "        If True displays grid on minor ticks for X-axis, by default True\n",
    "    dtick_xaxis : str, optional\n",
    "        Minor X-axis ticks steps, by default 'M3'\n",
    "        The default 'M3' means minor ticks every three months. For more info go\n",
    "        to: https://plotly.com/python/reference/layout/xaxis/#layout-xaxis-dtick\n",
    "    show_minor_xgrid : bool, optional\n",
    "        If True displays grid on major ticks for X-axis, by default True\n",
    "    show_major_ygrid : bool, optional\n",
    "        If True displays grid on major ticks for Y-axis, by default False\n",
    "    show_xspikes : bool, optional\n",
    "        If True displays spikes on hover for X-axis, by default True\n",
    "    \"\"\"\n",
    "    # Updates the layout of the figure\n",
    "    figure.update_layout(\n",
    "        font_family=font,  # Font to be used in all elements, unless overridden\n",
    "        plot_bgcolor=bg_color,  # Background color\n",
    "        title_text=figure_title,  # Title text\n",
    "        title_font_size=title_fontsize,  # Title fontsize\n",
    "        autosize=bool((width is None) and (height is None)),\n",
    "        width=width,\n",
    "        height=height,\n",
    "        showlegend=show_legend,\n",
    "        legend={  # Places legend horizontally, top right of the graph\n",
    "            'title': legend_title,\n",
    "            'font_size': legend_fontsize,  # Legend fontsize\n",
    "            'orientation': 'h',\n",
    "            'yanchor': 'bottom',\n",
    "            'y': 1.02,\n",
    "            'xanchor': 'right',\n",
    "            'x': 1\n",
    "        },\n",
    "        hovermode='x',\n",
    "        hoverdistance=1,  # Distance to show hover label of data point\n",
    "        spikedistance=1000,  # Distance to show spike\n",
    "        xaxis={\n",
    "            'title': xaxis_title,  # Text to display in X-axis\n",
    "            'title_font_size': axis_fontsize,  # X-axis fontsize\n",
    "            'linecolor': axis_color,  # Color of X-axis (not X-axis text)\n",
    "            'showgrid': show_major_xgrid,  # Show grid of X-axis major ticks\n",
    "            'gridcolor': grid_color,  # Color of major X-axis grid\n",
    "            'tickfont_size': tick_fontsize,  # Fontsize for X-axis ticks\n",
    "            'minor': {\n",
    "                'dtick': dtick_xaxis,  # Distance of minor X-axis ticks\n",
    "                'ticks': 'inside',  # X-axis minor ticks in or out from axis\n",
    "                'showgrid': show_minor_xgrid  # Show grid of X-axis minor ticks\n",
    "            } if display_minor_xaxis is True else None,\n",
    "            'showspikes': show_xspikes,  # Show spike line for X-axis\n",
    "            # Format spike\n",
    "            'spikethickness': 2,\n",
    "            'spikedash': 'dot',  # Spike linetype\n",
    "            'spikecolor': spike_color,  # Spike color\n",
    "            'spikemode': 'across'\n",
    "        },\n",
    "        yaxis={\n",
    "            'title': yaxis_title,  # Text to display in Y-axis\n",
    "            'title_font_size': axis_fontsize,  # Y-axis fontsize\n",
    "            'linecolor': axis_color,  # Color of Y-axis (not Y-axis text)\n",
    "            'showgrid': show_major_ygrid,  # Show grid of Y-axis major ticks\n",
    "            'gridcolor': grid_color,  # Color of major Y-axis grid\n",
    "            'tickfont_size': tick_fontsize,  # Fontsize for Y-axis ticks\n",
    "        })\n"
   ]
  },
  {
   "cell_type": "code",
   "execution_count": 230,
   "id": "1a6cd70f",
   "metadata": {},
   "outputs": [],
   "source": [
    "# Defining color schemes for different data visualizations\n",
    "colors_type = ['dodgerblue', 'darkorange']\n",
    "colors_depth = ['mediumseagreen', 'indianred']\n",
    "colors_region = ['goldenrod', 'indianred', 'mediumseagreen', 'lightseagreen', 'royalblue', 'darkorchid']\n",
    "colors_region_2 = ['gold', 'indianred', 'mediumseagreen', 'turquoise', 'royalblue', 'darkorchid']\n",
    "colors_region_3 = ['yellow', 'indianred', 'mediumseagreen', 'turquoise', 'dodgerblue', 'orchid']\n",
    "\n",
    "# Defining a dict with partial DataFrames - useful for visualizations\n",
    "df_dict = {\n",
    "    'Lake': data.loc[data['TYPE'] == 'Lake'],\n",
    "    'Reservoir': data.loc[data['TYPE'] == 'Reservoir'],\n",
    "    'Shallow': data.loc[data['DEPTH'] == 'Shallow'],\n",
    "    'Deep': data.loc[data['DEPTH'] == 'Deep'],\n",
    "    'ANW': data.loc[data['REGION'] == 'ANW'],\n",
    "    'Pampa Mountains': data.loc[data['REGION'] == 'Pampa Mountains'],\n",
    "    'Cuyo': data.loc[data['REGION'] == 'Cuyo'],\n",
    "    'Pampa Plains': data.loc[data['REGION'] == 'Pampa Plains'],\n",
    "    'Patagonian Plateau': data.loc[data['REGION'] == 'Patagonian Plateau'],\n",
    "    'Patagonian Andes': data.loc[data['REGION'] == 'Patagonian Andes']\n",
    "}\n",
    "\n",
    "# Defining List of TSI\n",
    "tsi_list = ['TSI-SD', 'TSI-TP', 'TSI-CHL']\n",
    "\n",
    "# Defining List of regions\n",
    "region_list = ['ANW', 'Pampa Mountains', 'Cuyo', 'Pampa Plains', 'Patagonian Plateau', 'Patagonian Andes']"
   ]
  },
  {
   "cell_type": "code",
   "execution_count": 253,
   "metadata": {},
   "outputs": [
    {
     "data": {
      "application/vnd.plotly.v1+json": {
       "config": {
        "plotlyServerURL": "https://plot.ly"
       },
       "data": [
        {
         "alignmentgroup": "True",
         "boxpoints": "all",
         "fillcolor": "rgba(255,255,255,0)",
         "hoveron": "points",
         "hovertemplate": "<b>%{hovertext}</b><br><br>TYPE=Lake<br>REGION=%{x}<br>TSI-SD=%{y}<extra></extra>",
         "hovertext": [
          "Rodeo",
          "Comedero",
          "Mar Chiquita",
          "El Diamante",
          "Melincué",
          "El Carpincho",
          "De Gómez",
          "Navarro",
          "Las mulitas",
          "De Lobos",
          "Indio Muerto",
          "De Monte",
          "La Chilca",
          "Chascomús",
          "La Limpia",
          "La Tablilla",
          "Blanca Grande",
          "Alsina",
          "Cochicó",
          "Salada Grande",
          "Los Horcones",
          "Del Monte",
          "Dulce",
          "Del Venado",
          "Epecuén",
          "La Brava",
          "De los Padres",
          "De Pigüé",
          "De Saavedra",
          "La Dulce",
          "Urre Lauquen",
          "Sauce Grande",
          "Agrio",
          "Pellegrini",
          "Blanca ",
          "Aluminé",
          "Norquinco",
          "Quillén",
          "Huechulafquen",
          "Lacar",
          "Nahuel Huapi",
          "Gutierrez",
          "Ne Luan",
          "Mascardi",
          "Guillermo",
          "Steffen",
          "Las Chultas",
          "Epuyen",
          "Puelo",
          "Cholila",
          "Lezama",
          "Los Mosquitos",
          "Rivadavia",
          "Esquel",
          "Brechman",
          "Verde",
          "Wilimanco",
          "Zeta",
          "Largo",
          "Terraplén",
          "Futalaufquen",
          "Rosario",
          "Quichaura",
          "Cronometro",
          "Los Niños",
          "Pico 4",
          "Pico 3",
          "Pico 1",
          "La Plata",
          "Fontana",
          "Blanco",
          "Muster",
          "Colhue Huapi"
         ],
         "legendgroup": "Lake",
         "line": {
          "color": "rgba(255,255,255,0)"
         },
         "marker": {
          "color": "dodgerblue",
          "line": {
           "color": "DarkSlateGrey",
           "width": 1
          },
          "size": 8
         },
         "name": "Lake",
         "offsetgroup": "Lake",
         "orientation": "v",
         "pointpos": 0,
         "showlegend": true,
         "type": "box",
         "x": [
          "ANW",
          "ANW",
          "Pampa Mountains",
          "Cuyo",
          "Pampa Plains",
          "Pampa Plains",
          "Pampa Plains",
          "Pampa Plains",
          "Pampa Plains",
          "Pampa Plains",
          "Pampa Plains",
          "Pampa Plains",
          "Pampa Plains",
          "Pampa Plains",
          "Pampa Plains",
          "Pampa Plains",
          "Pampa Plains",
          "Pampa Plains",
          "Pampa Plains",
          "Pampa Plains",
          "Pampa Plains",
          "Pampa Plains",
          "Pampa Plains",
          "Pampa Plains",
          "Pampa Plains",
          "Pampa Plains",
          "Pampa Plains",
          "Pampa Plains",
          "Pampa Plains",
          "Patagonian Plateau",
          "Patagonian Plateau",
          "Pampa Plains",
          "Patagonian Andes",
          "Patagonian Andes",
          "Patagonian Andes",
          "Patagonian Andes",
          "Patagonian Andes",
          "Patagonian Andes",
          "Patagonian Andes",
          "Patagonian Andes",
          "Patagonian Andes",
          "Patagonian Andes",
          "Patagonian Plateau",
          "Patagonian Andes",
          "Patagonian Andes",
          "Patagonian Andes",
          "Patagonian Andes",
          "Patagonian Andes",
          "Patagonian Andes",
          "Patagonian Andes",
          "Patagonian Andes",
          "Patagonian Andes",
          "Patagonian Andes",
          "Patagonian Andes",
          "Patagonian Andes",
          "Patagonian Andes",
          "Patagonian Andes",
          "Patagonian Andes",
          "Patagonian Andes",
          "Patagonian Andes",
          "Patagonian Andes",
          "Patagonian Andes",
          "Patagonian Andes",
          "Patagonian Andes",
          "Patagonian Andes",
          "Patagonian Andes",
          "Patagonian Andes",
          "Patagonian Andes",
          "Patagonian Andes",
          "Patagonian Andes",
          "Patagonian Andes",
          "Patagonian Plateau",
          "Patagonian Plateau"
         ],
         "x0": " ",
         "xaxis": "x",
         "y": [
          62.341897774062936,
          57.37274636659912,
          58.62658030901968,
          37.09912069427007,
          87.33749898220555,
          67.36099723846793,
          84.71024534880466,
          85.53389809223832,
          66.20758182089227,
          79.97650174373763,
          60,
          65.13968594215713,
          59.296933734318486,
          87.33749898220555,
          87.33749898220555,
          49.30868286244967,
          83.19200031817539,
          77.34924811033673,
          71.50649590249809,
          38.00952866663634,
          66.20758182089227,
          69.98825087186881,
          79.97650174373763,
          78.3434353884637,
          83.19200031817539,
          55.15143507028832,
          44.65751827993911,
          75.97582841935642,
          69.42308039533003,
          58.62658030901968,
          62.68500922173942,
          75.12793681402594,
          28.337993840585074,
          50.011749128131186,
          35.43457999084429,
          22.710320252368724,
          30.40007699744718,
          19.603576911136834,
          30.965247473985965,
          21.465517961763723,
          23.604250235518037,
          26.11668254427429,
          67.36099723846793,
          27.558885182080402,
          25.446329118975477,
          23.039079758979256,
          28.337993840585074,
          17.570634310211595,
          31.959434752112937,
          24.805779220329768,
          20.04699651252475,
          61.518245030629274,
          24.805779220329768,
          45.163184198419515,
          54.15724779216135,
          25.446329118975477,
          40.02349825626237,
          41.54174328689166,
          22.495241632746428,
          58.62658030901968,
          21.971183880244126,
          34.42293662336278,
          36.80799968182461,
          57.37274636659912,
          24.192495176554914,
          24.192495176554914,
          43.23899683070014,
          23.150354443192505,
          23.4894289108734,
          21.465517961763723,
          110.52949930038093,
          57.37274636659912,
          98.31993713220133
         ],
         "y0": " ",
         "yaxis": "y"
        },
        {
         "alignmentgroup": "True",
         "boxpoints": "all",
         "fillcolor": "rgba(255,255,255,0)",
         "hoveron": "points",
         "hovertemplate": "<b>%{hovertext}</b><br><br>TYPE=Reservoir<br>REGION=%{x}<br>TSI-SD=%{y}<extra></extra>",
         "hovertext": [
          "La Ciénaga",
          "Las Maderas",
          "Campo Alegre",
          "Cabra Corral",
          "El Cadillal",
          "Río Hondo",
          "Sumampa",
          "las Pirquitas",
          "Los Sauces",
          "Anzulón",
          "Portezuelo",
          "Cruz del Eje",
          "Saladillo",
          "San Roque",
          "Ullum",
          "La Viña",
          "Los Molinos",
          "Río Tercero",
          "San Felipe",
          "La Florida",
          "El Carrizal",
          "Agua del Toro",
          "Los Reyunos",
          "Valle Grande",
          "El Nihuil",
          "Marri Menuco",
          "Los Barreales",
          "Ramos Mexía",
          "Amutui Quimen",
          "Ameghino"
         ],
         "legendgroup": "Reservoir",
         "line": {
          "color": "rgba(255,255,255,0)"
         },
         "marker": {
          "color": "darkorange",
          "line": {
           "color": "DarkSlateGrey",
           "width": 1
          },
          "size": 8
         },
         "name": "Reservoir",
         "offsetgroup": "Reservoir",
         "orientation": "v",
         "pointpos": 0,
         "showlegend": true,
         "type": "box",
         "x": [
          "ANW",
          "ANW",
          "ANW",
          "ANW",
          "ANW",
          "ANW",
          "ANW",
          "ANW",
          "ANW",
          "Pampa Mountains",
          "Pampa Mountains",
          "Pampa Mountains",
          "Pampa Mountains",
          "Pampa Mountains",
          "Cuyo",
          "Pampa Mountains",
          "Pampa Mountains",
          "Pampa Mountains",
          "Pampa Mountains",
          "Cuyo",
          "Cuyo",
          "Cuyo",
          "Cuyo",
          "Cuyo",
          "Cuyo",
          "Patagonian Plateau",
          "Patagonian Plateau",
          "Patagonian Plateau",
          "Patagonian Andes",
          "Patagonian Plateau"
         ],
         "x0": " ",
         "xaxis": "x",
         "y": [
          60,
          55.15143507028832,
          57.37274636659912,
          49.30868286244967,
          71.50649590249809,
          73.20374944630657,
          61.518245030629274,
          63.58032818749138,
          65.13968594215713,
          78.3434353884637,
          63.21549857443776,
          58.62658030901968,
          77.34924811033673,
          47.3844954947303,
          56.5557664642201,
          48.638329437150865,
          47.997779538505156,
          46.796250553693426,
          61.518245030629274,
          43.23899683070014,
          50.75088550025579,
          37.09912069427007,
          40.02349825626237,
          37.09912069427007,
          34.6692674080703,
          29.161646584018737,
          49.30868286244967,
          40.02349825626237,
          26.11668254427429,
          48.638329437150865
         ],
         "y0": " ",
         "yaxis": "y"
        }
       ],
       "layout": {
        "annotations": [
         {
          "showarrow": false,
          "text": "Eutrophic",
          "x": 1,
          "xanchor": "right",
          "xref": "x domain",
          "y": 50,
          "yanchor": "bottom",
          "yref": "y"
         },
         {
          "showarrow": false,
          "text": "Oligotrophic",
          "x": 1,
          "xanchor": "right",
          "xref": "x domain",
          "y": 30,
          "yanchor": "top",
          "yref": "y"
         }
        ],
        "autosize": true,
        "boxmode": "group",
        "font": {
         "family": "Open Sans"
        },
        "hoverdistance": 1,
        "hovermode": "x",
        "legend": {
         "font": {
          "size": 16
         },
         "orientation": "h",
         "title": {},
         "tracegroupgap": 0,
         "x": 1,
         "xanchor": "right",
         "y": 1.02,
         "yanchor": "bottom"
        },
        "margin": {
         "t": 60
        },
        "plot_bgcolor": "#FFFFFF",
        "shapes": [
         {
          "line": {
           "color": "DarkSlateGrey",
           "dash": "dot"
          },
          "type": "line",
          "x0": 0,
          "x1": 1,
          "xref": "x domain",
          "y0": 50,
          "y1": 50,
          "yref": "y"
         },
         {
          "line": {
           "color": "DarkSlateGrey",
           "dash": "dot"
          },
          "type": "line",
          "x0": 0,
          "x1": 1,
          "xref": "x domain",
          "y0": 30,
          "y1": 30,
          "yref": "y"
         }
        ],
        "showlegend": true,
        "spikedistance": 1000,
        "template": {
         "data": {
          "bar": [
           {
            "error_x": {
             "color": "#2a3f5f"
            },
            "error_y": {
             "color": "#2a3f5f"
            },
            "marker": {
             "line": {
              "color": "#E5ECF6",
              "width": 0.5
             },
             "pattern": {
              "fillmode": "overlay",
              "size": 10,
              "solidity": 0.2
             }
            },
            "type": "bar"
           }
          ],
          "barpolar": [
           {
            "marker": {
             "line": {
              "color": "#E5ECF6",
              "width": 0.5
             },
             "pattern": {
              "fillmode": "overlay",
              "size": 10,
              "solidity": 0.2
             }
            },
            "type": "barpolar"
           }
          ],
          "carpet": [
           {
            "aaxis": {
             "endlinecolor": "#2a3f5f",
             "gridcolor": "white",
             "linecolor": "white",
             "minorgridcolor": "white",
             "startlinecolor": "#2a3f5f"
            },
            "baxis": {
             "endlinecolor": "#2a3f5f",
             "gridcolor": "white",
             "linecolor": "white",
             "minorgridcolor": "white",
             "startlinecolor": "#2a3f5f"
            },
            "type": "carpet"
           }
          ],
          "choropleth": [
           {
            "colorbar": {
             "outlinewidth": 0,
             "ticks": ""
            },
            "type": "choropleth"
           }
          ],
          "contour": [
           {
            "colorbar": {
             "outlinewidth": 0,
             "ticks": ""
            },
            "colorscale": [
             [
              0,
              "#0d0887"
             ],
             [
              0.1111111111111111,
              "#46039f"
             ],
             [
              0.2222222222222222,
              "#7201a8"
             ],
             [
              0.3333333333333333,
              "#9c179e"
             ],
             [
              0.4444444444444444,
              "#bd3786"
             ],
             [
              0.5555555555555556,
              "#d8576b"
             ],
             [
              0.6666666666666666,
              "#ed7953"
             ],
             [
              0.7777777777777778,
              "#fb9f3a"
             ],
             [
              0.8888888888888888,
              "#fdca26"
             ],
             [
              1,
              "#f0f921"
             ]
            ],
            "type": "contour"
           }
          ],
          "contourcarpet": [
           {
            "colorbar": {
             "outlinewidth": 0,
             "ticks": ""
            },
            "type": "contourcarpet"
           }
          ],
          "heatmap": [
           {
            "colorbar": {
             "outlinewidth": 0,
             "ticks": ""
            },
            "colorscale": [
             [
              0,
              "#0d0887"
             ],
             [
              0.1111111111111111,
              "#46039f"
             ],
             [
              0.2222222222222222,
              "#7201a8"
             ],
             [
              0.3333333333333333,
              "#9c179e"
             ],
             [
              0.4444444444444444,
              "#bd3786"
             ],
             [
              0.5555555555555556,
              "#d8576b"
             ],
             [
              0.6666666666666666,
              "#ed7953"
             ],
             [
              0.7777777777777778,
              "#fb9f3a"
             ],
             [
              0.8888888888888888,
              "#fdca26"
             ],
             [
              1,
              "#f0f921"
             ]
            ],
            "type": "heatmap"
           }
          ],
          "heatmapgl": [
           {
            "colorbar": {
             "outlinewidth": 0,
             "ticks": ""
            },
            "colorscale": [
             [
              0,
              "#0d0887"
             ],
             [
              0.1111111111111111,
              "#46039f"
             ],
             [
              0.2222222222222222,
              "#7201a8"
             ],
             [
              0.3333333333333333,
              "#9c179e"
             ],
             [
              0.4444444444444444,
              "#bd3786"
             ],
             [
              0.5555555555555556,
              "#d8576b"
             ],
             [
              0.6666666666666666,
              "#ed7953"
             ],
             [
              0.7777777777777778,
              "#fb9f3a"
             ],
             [
              0.8888888888888888,
              "#fdca26"
             ],
             [
              1,
              "#f0f921"
             ]
            ],
            "type": "heatmapgl"
           }
          ],
          "histogram": [
           {
            "marker": {
             "pattern": {
              "fillmode": "overlay",
              "size": 10,
              "solidity": 0.2
             }
            },
            "type": "histogram"
           }
          ],
          "histogram2d": [
           {
            "colorbar": {
             "outlinewidth": 0,
             "ticks": ""
            },
            "colorscale": [
             [
              0,
              "#0d0887"
             ],
             [
              0.1111111111111111,
              "#46039f"
             ],
             [
              0.2222222222222222,
              "#7201a8"
             ],
             [
              0.3333333333333333,
              "#9c179e"
             ],
             [
              0.4444444444444444,
              "#bd3786"
             ],
             [
              0.5555555555555556,
              "#d8576b"
             ],
             [
              0.6666666666666666,
              "#ed7953"
             ],
             [
              0.7777777777777778,
              "#fb9f3a"
             ],
             [
              0.8888888888888888,
              "#fdca26"
             ],
             [
              1,
              "#f0f921"
             ]
            ],
            "type": "histogram2d"
           }
          ],
          "histogram2dcontour": [
           {
            "colorbar": {
             "outlinewidth": 0,
             "ticks": ""
            },
            "colorscale": [
             [
              0,
              "#0d0887"
             ],
             [
              0.1111111111111111,
              "#46039f"
             ],
             [
              0.2222222222222222,
              "#7201a8"
             ],
             [
              0.3333333333333333,
              "#9c179e"
             ],
             [
              0.4444444444444444,
              "#bd3786"
             ],
             [
              0.5555555555555556,
              "#d8576b"
             ],
             [
              0.6666666666666666,
              "#ed7953"
             ],
             [
              0.7777777777777778,
              "#fb9f3a"
             ],
             [
              0.8888888888888888,
              "#fdca26"
             ],
             [
              1,
              "#f0f921"
             ]
            ],
            "type": "histogram2dcontour"
           }
          ],
          "mesh3d": [
           {
            "colorbar": {
             "outlinewidth": 0,
             "ticks": ""
            },
            "type": "mesh3d"
           }
          ],
          "parcoords": [
           {
            "line": {
             "colorbar": {
              "outlinewidth": 0,
              "ticks": ""
             }
            },
            "type": "parcoords"
           }
          ],
          "pie": [
           {
            "automargin": true,
            "type": "pie"
           }
          ],
          "scatter": [
           {
            "fillpattern": {
             "fillmode": "overlay",
             "size": 10,
             "solidity": 0.2
            },
            "type": "scatter"
           }
          ],
          "scatter3d": [
           {
            "line": {
             "colorbar": {
              "outlinewidth": 0,
              "ticks": ""
             }
            },
            "marker": {
             "colorbar": {
              "outlinewidth": 0,
              "ticks": ""
             }
            },
            "type": "scatter3d"
           }
          ],
          "scattercarpet": [
           {
            "marker": {
             "colorbar": {
              "outlinewidth": 0,
              "ticks": ""
             }
            },
            "type": "scattercarpet"
           }
          ],
          "scattergeo": [
           {
            "marker": {
             "colorbar": {
              "outlinewidth": 0,
              "ticks": ""
             }
            },
            "type": "scattergeo"
           }
          ],
          "scattergl": [
           {
            "marker": {
             "colorbar": {
              "outlinewidth": 0,
              "ticks": ""
             }
            },
            "type": "scattergl"
           }
          ],
          "scattermapbox": [
           {
            "marker": {
             "colorbar": {
              "outlinewidth": 0,
              "ticks": ""
             }
            },
            "type": "scattermapbox"
           }
          ],
          "scatterpolar": [
           {
            "marker": {
             "colorbar": {
              "outlinewidth": 0,
              "ticks": ""
             }
            },
            "type": "scatterpolar"
           }
          ],
          "scatterpolargl": [
           {
            "marker": {
             "colorbar": {
              "outlinewidth": 0,
              "ticks": ""
             }
            },
            "type": "scatterpolargl"
           }
          ],
          "scatterternary": [
           {
            "marker": {
             "colorbar": {
              "outlinewidth": 0,
              "ticks": ""
             }
            },
            "type": "scatterternary"
           }
          ],
          "surface": [
           {
            "colorbar": {
             "outlinewidth": 0,
             "ticks": ""
            },
            "colorscale": [
             [
              0,
              "#0d0887"
             ],
             [
              0.1111111111111111,
              "#46039f"
             ],
             [
              0.2222222222222222,
              "#7201a8"
             ],
             [
              0.3333333333333333,
              "#9c179e"
             ],
             [
              0.4444444444444444,
              "#bd3786"
             ],
             [
              0.5555555555555556,
              "#d8576b"
             ],
             [
              0.6666666666666666,
              "#ed7953"
             ],
             [
              0.7777777777777778,
              "#fb9f3a"
             ],
             [
              0.8888888888888888,
              "#fdca26"
             ],
             [
              1,
              "#f0f921"
             ]
            ],
            "type": "surface"
           }
          ],
          "table": [
           {
            "cells": {
             "fill": {
              "color": "#EBF0F8"
             },
             "line": {
              "color": "white"
             }
            },
            "header": {
             "fill": {
              "color": "#C8D4E3"
             },
             "line": {
              "color": "white"
             }
            },
            "type": "table"
           }
          ]
         },
         "layout": {
          "annotationdefaults": {
           "arrowcolor": "#2a3f5f",
           "arrowhead": 0,
           "arrowwidth": 1
          },
          "autotypenumbers": "strict",
          "coloraxis": {
           "colorbar": {
            "outlinewidth": 0,
            "ticks": ""
           }
          },
          "colorscale": {
           "diverging": [
            [
             0,
             "#8e0152"
            ],
            [
             0.1,
             "#c51b7d"
            ],
            [
             0.2,
             "#de77ae"
            ],
            [
             0.3,
             "#f1b6da"
            ],
            [
             0.4,
             "#fde0ef"
            ],
            [
             0.5,
             "#f7f7f7"
            ],
            [
             0.6,
             "#e6f5d0"
            ],
            [
             0.7,
             "#b8e186"
            ],
            [
             0.8,
             "#7fbc41"
            ],
            [
             0.9,
             "#4d9221"
            ],
            [
             1,
             "#276419"
            ]
           ],
           "sequential": [
            [
             0,
             "#0d0887"
            ],
            [
             0.1111111111111111,
             "#46039f"
            ],
            [
             0.2222222222222222,
             "#7201a8"
            ],
            [
             0.3333333333333333,
             "#9c179e"
            ],
            [
             0.4444444444444444,
             "#bd3786"
            ],
            [
             0.5555555555555556,
             "#d8576b"
            ],
            [
             0.6666666666666666,
             "#ed7953"
            ],
            [
             0.7777777777777778,
             "#fb9f3a"
            ],
            [
             0.8888888888888888,
             "#fdca26"
            ],
            [
             1,
             "#f0f921"
            ]
           ],
           "sequentialminus": [
            [
             0,
             "#0d0887"
            ],
            [
             0.1111111111111111,
             "#46039f"
            ],
            [
             0.2222222222222222,
             "#7201a8"
            ],
            [
             0.3333333333333333,
             "#9c179e"
            ],
            [
             0.4444444444444444,
             "#bd3786"
            ],
            [
             0.5555555555555556,
             "#d8576b"
            ],
            [
             0.6666666666666666,
             "#ed7953"
            ],
            [
             0.7777777777777778,
             "#fb9f3a"
            ],
            [
             0.8888888888888888,
             "#fdca26"
            ],
            [
             1,
             "#f0f921"
            ]
           ]
          },
          "colorway": [
           "#636efa",
           "#EF553B",
           "#00cc96",
           "#ab63fa",
           "#FFA15A",
           "#19d3f3",
           "#FF6692",
           "#B6E880",
           "#FF97FF",
           "#FECB52"
          ],
          "font": {
           "color": "#2a3f5f"
          },
          "geo": {
           "bgcolor": "white",
           "lakecolor": "white",
           "landcolor": "#E5ECF6",
           "showlakes": true,
           "showland": true,
           "subunitcolor": "white"
          },
          "hoverlabel": {
           "align": "left"
          },
          "hovermode": "closest",
          "mapbox": {
           "style": "light"
          },
          "paper_bgcolor": "white",
          "plot_bgcolor": "#E5ECF6",
          "polar": {
           "angularaxis": {
            "gridcolor": "white",
            "linecolor": "white",
            "ticks": ""
           },
           "bgcolor": "#E5ECF6",
           "radialaxis": {
            "gridcolor": "white",
            "linecolor": "white",
            "ticks": ""
           }
          },
          "scene": {
           "xaxis": {
            "backgroundcolor": "#E5ECF6",
            "gridcolor": "white",
            "gridwidth": 2,
            "linecolor": "white",
            "showbackground": true,
            "ticks": "",
            "zerolinecolor": "white"
           },
           "yaxis": {
            "backgroundcolor": "#E5ECF6",
            "gridcolor": "white",
            "gridwidth": 2,
            "linecolor": "white",
            "showbackground": true,
            "ticks": "",
            "zerolinecolor": "white"
           },
           "zaxis": {
            "backgroundcolor": "#E5ECF6",
            "gridcolor": "white",
            "gridwidth": 2,
            "linecolor": "white",
            "showbackground": true,
            "ticks": "",
            "zerolinecolor": "white"
           }
          },
          "shapedefaults": {
           "line": {
            "color": "#2a3f5f"
           }
          },
          "ternary": {
           "aaxis": {
            "gridcolor": "white",
            "linecolor": "white",
            "ticks": ""
           },
           "baxis": {
            "gridcolor": "white",
            "linecolor": "white",
            "ticks": ""
           },
           "bgcolor": "#E5ECF6",
           "caxis": {
            "gridcolor": "white",
            "linecolor": "white",
            "ticks": ""
           }
          },
          "title": {
           "x": 0.05
          },
          "xaxis": {
           "automargin": true,
           "gridcolor": "white",
           "linecolor": "white",
           "ticks": "",
           "title": {
            "standoff": 15
           },
           "zerolinecolor": "white",
           "zerolinewidth": 2
          },
          "yaxis": {
           "automargin": true,
           "gridcolor": "white",
           "linecolor": "white",
           "ticks": "",
           "title": {
            "standoff": 15
           },
           "zerolinecolor": "white",
           "zerolinewidth": 2
          }
         }
        },
        "title": {
         "font": {
          "size": 20
         },
         "text": "TSI between Lakes and Reservoirs through Argentina's Different Geographic Regions"
        },
        "updatemenus": [
         {
          "active": 0,
          "buttons": [
           {
            "args": [
             {
              "y": [
               [
                62.341897774062936,
                57.37274636659912,
                58.62658030901968,
                37.09912069427007,
                87.33749898220555,
                67.36099723846793,
                84.71024534880466,
                85.53389809223832,
                66.20758182089227,
                79.97650174373763,
                60,
                65.13968594215713,
                59.296933734318486,
                87.33749898220555,
                87.33749898220555,
                49.30868286244967,
                83.19200031817539,
                77.34924811033673,
                71.50649590249809,
                38.00952866663634,
                66.20758182089227,
                69.98825087186881,
                79.97650174373763,
                78.3434353884637,
                83.19200031817539,
                55.15143507028832,
                44.65751827993911,
                75.97582841935642,
                69.42308039533003,
                58.62658030901968,
                62.68500922173942,
                75.12793681402594,
                28.337993840585074,
                50.011749128131186,
                35.43457999084429,
                22.710320252368724,
                30.40007699744718,
                19.603576911136834,
                30.965247473985965,
                21.465517961763723,
                23.604250235518037,
                26.11668254427429,
                67.36099723846793,
                27.558885182080402,
                25.446329118975477,
                23.039079758979256,
                28.337993840585074,
                17.570634310211595,
                31.959434752112937,
                24.805779220329768,
                20.04699651252475,
                61.518245030629274,
                24.805779220329768,
                45.163184198419515,
                54.15724779216135,
                25.446329118975477,
                40.02349825626237,
                41.54174328689166,
                22.495241632746428,
                58.62658030901968,
                21.971183880244126,
                34.42293662336278,
                36.80799968182461,
                57.37274636659912,
                24.192495176554914,
                24.192495176554914,
                43.23899683070014,
                23.150354443192505,
                23.4894289108734,
                21.465517961763723,
                110.52949930038093,
                57.37274636659912,
                98.31993713220133
               ],
               [
                60,
                55.15143507028832,
                57.37274636659912,
                49.30868286244967,
                71.50649590249809,
                73.20374944630657,
                61.518245030629274,
                63.58032818749138,
                65.13968594215713,
                78.3434353884637,
                63.21549857443776,
                58.62658030901968,
                77.34924811033673,
                47.3844954947303,
                56.5557664642201,
                48.638329437150865,
                47.997779538505156,
                46.796250553693426,
                61.518245030629274,
                43.23899683070014,
                50.75088550025579,
                37.09912069427007,
                40.02349825626237,
                37.09912069427007,
                34.6692674080703,
                29.161646584018737,
                49.30868286244967,
                40.02349825626237,
                26.11668254427429,
                48.638329437150865
               ]
              ]
             },
             {
              "yaxis.title": "TSI-SD"
             }
            ],
            "label": "TSI-SD",
            "method": "update"
           },
           {
            "args": [
             {
              "y": [
               [
                43.20008389989387,
                45.82916074886269,
                68.38168801197558,
                38.7276498337525,
                133.58587929302274,
                107.4093979740992,
                106.97756113287332,
                88.62139608765149,
                70.84210796755919,
                85.65889397947394,
                73.06496077066826,
                83.47814339605497,
                67.51795681037657,
                82.56710363467249,
                105.61126127988274,
                49.363826593698334,
                83.76946643557359,
                81.04780499888662,
                79.11232719085322,
                61.401609393421595,
                84.55518606736989,
                77.0610645131226,
                90.4746379162016,
                92.43634631319746,
                110.60920380523511,
                79.65949310400788,
                73.65846017602463,
                74.00317778673289,
                65.81952543621152,
                50.56618939459945,
                56.60399242325448,
                83.53688074814467,
                83.06014311434268,
                49.97753623361738,
                70.84210796755919,
                19.99198920259414,
                27.358094697299727,
                19.99198920259414,
                42.20520669305203,
                24.14036468734882,
                24.14036468734882,
                14.145182343674412,
                64.99530110863947,
                19.99198920259414,
                24.14036468734882,
                19.99198920259414,
                35.83397840518828,
                4.15,
                19.99198920259414,
                35.83397840518828,
                24.14036468734882,
                53.19526624356828,
                19.99198920259414,
                66.21461864400413,
                58.38650566830117,
                24.14036468734882,
                50.56618939459945,
                69.35419128104716,
                32.21002434937762,
                53.19526624356828,
                14.145182343674412,
                47.34845938464855,
                56.60399242325448,
                86.1072202450238,
                29.987171546268556,
                35.83397840518828,
                54.56963903634664,
                35.83397840518828,
                29.987171546268556,
                29.987171546268556,
                110.07946722694969,
                53.19526624356828,
                96.58472179795214
               ],
               [
                50.56618939459945,
                49.363826593698334,
                62.701588212079365,
                44.130729374697644,
                62.94808994112048,
                87.41903328675038,
                61.67114995145684,
                58.718014521101324,
                68.38168801197558,
                93.0855877986099,
                67.15743803257445,
                48.722832177426916,
                87.3291887593462,
                52.200389036726435,
                45.00493642129064,
                50.56618939459945,
                51.13175207826977,
                49.97753623361738,
                57.69970920187612,
                43.20008389989387,
                41.136569734595355,
                27.358094697299727,
                35.83397840518828,
                35.83397840518828,
                45.82916074886269,
                24.14036468734882,
                35.83397840518828,
                35.83397840518828,
                19.99198920259414,
                58.38650566830117
               ]
              ]
             },
             {
              "yaxis.title": "TSI-TP"
             }
            ],
            "label": "TSI-TP",
            "method": "update"
           },
           {
            "args": [
             {
              "y": [
               [
                57.42414526740612,
                61.14358518335378,
                66.41295734709158,
                26.6713150716822,
                47.67397317518535,
                73.87765313614034,
                89.50539610495213,
                76.94959562045862,
                61.817498155271736,
                80.76041236655342,
                55.45556574492241,
                66.93396473342142,
                56.13238581420941,
                70.31382911870001,
                51.70878721397533,
                37.39977384129307,
                71.90642762577815,
                77.63047696076202,
                75.59853097268572,
                35.21073560290067,
                57.61341158819532,
                74.6335227870723,
                77.15631090729008,
                79.97420960043425,
                69.98302581471927,
                50.8759236704299,
                42.31237941571459,
                68.3071302554603,
                61.69461554644558,
                55.61005712677986,
                50.49613430593732,
                66.25887040958702,
                25.750953082997007,
                56.558974762338245,
                34.10878629830651,
                19.11069495145611,
                22.320653610410673,
                18.456452567624133,
                27.64615903978973,
                20.846385198496666,
                21.853422449826084,
                21.362820223988656,
                61.69461554644558,
                15.746406942901903,
                24.735219022587366,
                15.290045589523604,
                26.95986528555594,
                12.622375840629076,
                16.182478733721783,
                19.724019653442994,
                27.64615903978973,
                69.7500833632124,
                20.301244958667972,
                44.44178221209767,
                54.976934234420284,
                26.81665106323443,
                49.96573486527592,
                49.11215325700765,
                23.60203759992207,
                60.03706138578795,
                23.800226158706938,
                35.747586868852174,
                31.53499286388043,
                52.787895996027885,
                23.1932284482325,
                36.42053635217458,
                40.70056648254716,
                29.78202641630791,
                17.385207513447565,
                18.112206720275577,
                73.31412743991845,
                49.828529831503715,
                58.393822905191485
               ],
               [
                50.23451880206132,
                55.98596518558382,
                61.653310222264054,
                49.828529831503715,
                43.69636046464426,
                53.57311495830528,
                62.01894260522489,
                57.42414526740612,
                66.12858961036497,
                44.19954768258613,
                62.21633357061121,
                47.50034032384023,
                83.4263955341664,
                52.15477310366832,
                29.888081503290266,
                49.259674833953795,
                56.558974762338245,
                59.223330881746776,
                69.13266323847333,
                43.69636046464426,
                45.988122154734825,
                31.623771750330825,
                34.24503848860266,
                32.05600025021026,
                33.17379343442609,
                26.52379349473606,
                35.977071017480036,
                38.15476165483849,
                26.81665106323443,
                38.200073513688736
               ]
              ]
             },
             {
              "yaxis.title": "TSI-CHL"
             }
            ],
            "label": "TSI-CHL",
            "method": "update"
           }
          ],
          "direction": "right",
          "showactive": true,
          "type": "buttons",
          "x": 0.7,
          "y": 1.15
         }
        ],
        "xaxis": {
         "anchor": "y",
         "domain": [
          0,
          1
         ],
         "gridcolor": "#BCCCDC",
         "linecolor": "#BCCCDC",
         "minor": {
          "dtick": "M3",
          "showgrid": true,
          "ticks": "inside"
         },
         "showgrid": true,
         "showspikes": false,
         "spikecolor": "#999999",
         "spikedash": "dot",
         "spikemode": "across",
         "spikethickness": 2,
         "tickfont": {
          "size": 14
         },
         "title": {
          "font": {
           "size": 18
          }
         }
        },
        "yaxis": {
         "anchor": "x",
         "domain": [
          0,
          1
         ],
         "gridcolor": "#BCCCDC",
         "linecolor": "#BCCCDC",
         "range": [
          0,
          140
         ],
         "showgrid": false,
         "tickfont": {
          "size": 14
         },
         "title": {
          "font": {
           "size": 18
          },
          "text": "TSI-SD"
         }
        }
       }
      }
     },
     "metadata": {},
     "output_type": "display_data"
    }
   ],
   "source": [
    "fig1 = px.strip(data_frame=data, x='REGION', y='TSI-SD', color='TYPE', color_discrete_sequence=colors_type, hover_name=data.index)\n",
    "fig_title = 'TSI between Lakes and Reservoirs through Argentina\\'s Different Geographic Regions'\n",
    "yaxis_title = 'TSI-SD'\n",
    "xaxis_title = None\n",
    "\n",
    "apply_custom_layout(fig1, fig_title, yaxis_title, show_xspikes=False, show_legend=True, legend_title=None)\n",
    "fig1.update_traces(marker={\n",
    "    'size': 8,\n",
    "    'line_width': 1,\n",
    "    'line_color':'DarkSlateGrey'\n",
    "    })\n",
    "\n",
    "buttons = [dict(label=tsi,\n",
    "                     method='update',\n",
    "                     args=[{'y': [df_dict['Lake'][tsi], df_dict['Reservoir'][tsi]]}, {'yaxis.title': tsi}]) for tsi in tsi_list]\n",
    "\n",
    "fig1.update_layout(\n",
    "    yaxis_range=[0, 140],\n",
    "    updatemenus=[\n",
    "        dict(\n",
    "            type=\"buttons\",\n",
    "            direction=\"right\",\n",
    "            showactive=True,\n",
    "            active=0,\n",
    "            x=0.7,\n",
    "            y=1.15,\n",
    "            buttons=buttons,\n",
    "        )\n",
    "    ])\n",
    "\n",
    "fig1.add_hline(y=50, line_dash=\"dot\", line_color='DarkSlateGrey',\n",
    "              annotation_text=\"Eutrophic\", \n",
    "              annotation_position=\"top right\")\n",
    "fig1.add_hline(y=30, line_dash=\"dot\", line_color='DarkSlateGrey',\n",
    "              annotation_text=\"Oligotrophic\", \n",
    "              annotation_position=\"bottom right\")\n",
    "\n",
    "fig1.show()"
   ]
  },
  {
   "cell_type": "code",
   "execution_count": 255,
   "id": "634991ed",
   "metadata": {},
   "outputs": [
    {
     "data": {
      "application/vnd.plotly.v1+json": {
       "config": {
        "plotlyServerURL": "https://plot.ly"
       },
       "data": [
        {
         "alignmentgroup": "True",
         "boxpoints": "all",
         "fillcolor": "rgba(255,255,255,0)",
         "hoveron": "points",
         "hovertemplate": "<b>%{hovertext}</b><br><br>DEPTH=Shallow<br>REGION=%{x}<br>TSI-SD=%{y}<extra></extra>",
         "hovertext": [
          "Rodeo",
          "Comedero",
          "Anzulón",
          "Portezuelo",
          "Saladillo",
          "El Nihuil",
          "Melincué",
          "El Carpincho",
          "De Gómez",
          "Navarro",
          "Las mulitas",
          "De Lobos",
          "Indio Muerto",
          "De Monte",
          "La Chilca",
          "Chascomús",
          "La Limpia",
          "La Tablilla",
          "Blanca Grande",
          "Alsina",
          "Cochicó",
          "Salada Grande",
          "Los Horcones",
          "Dulce",
          "Del Venado",
          "Epecuén",
          "La Brava",
          "De los Padres",
          "De Pigüé",
          "De Saavedra",
          "La Dulce",
          "Urre Lauquen",
          "Sauce Grande",
          "Esquel",
          "Brechman",
          "Terraplén",
          "Quichaura",
          "Cronometro",
          "Los Niños",
          "Pico 3",
          "Blanco",
          "Colhue Huapi"
         ],
         "legendgroup": "Shallow",
         "line": {
          "color": "rgba(255,255,255,0)"
         },
         "marker": {
          "color": "mediumseagreen",
          "line": {
           "color": "DarkSlateGrey",
           "width": 1
          },
          "size": 8
         },
         "name": "Shallow",
         "offsetgroup": "Shallow",
         "orientation": "v",
         "pointpos": 0,
         "showlegend": true,
         "type": "box",
         "x": [
          "ANW",
          "ANW",
          "Pampa Mountains",
          "Pampa Mountains",
          "Pampa Mountains",
          "Cuyo",
          "Pampa Plains",
          "Pampa Plains",
          "Pampa Plains",
          "Pampa Plains",
          "Pampa Plains",
          "Pampa Plains",
          "Pampa Plains",
          "Pampa Plains",
          "Pampa Plains",
          "Pampa Plains",
          "Pampa Plains",
          "Pampa Plains",
          "Pampa Plains",
          "Pampa Plains",
          "Pampa Plains",
          "Pampa Plains",
          "Pampa Plains",
          "Pampa Plains",
          "Pampa Plains",
          "Pampa Plains",
          "Pampa Plains",
          "Pampa Plains",
          "Pampa Plains",
          "Pampa Plains",
          "Patagonian Plateau",
          "Patagonian Plateau",
          "Pampa Plains",
          "Patagonian Andes",
          "Patagonian Andes",
          "Patagonian Andes",
          "Patagonian Andes",
          "Patagonian Andes",
          "Patagonian Andes",
          "Patagonian Andes",
          "Patagonian Andes",
          "Patagonian Plateau"
         ],
         "x0": " ",
         "xaxis": "x",
         "y": [
          62.341897774062936,
          57.37274636659912,
          78.3434353884637,
          63.21549857443776,
          77.34924811033673,
          34.6692674080703,
          87.33749898220555,
          67.36099723846793,
          84.71024534880466,
          85.53389809223832,
          66.20758182089227,
          79.97650174373763,
          60,
          65.13968594215713,
          59.296933734318486,
          87.33749898220555,
          87.33749898220555,
          49.30868286244967,
          83.19200031817539,
          77.34924811033673,
          71.50649590249809,
          38.00952866663634,
          66.20758182089227,
          79.97650174373763,
          78.3434353884637,
          83.19200031817539,
          55.15143507028832,
          44.65751827993911,
          75.97582841935642,
          69.42308039533003,
          58.62658030901968,
          62.68500922173942,
          75.12793681402594,
          45.163184198419515,
          54.15724779216135,
          58.62658030901968,
          36.80799968182461,
          57.37274636659912,
          24.192495176554914,
          43.23899683070014,
          110.52949930038093,
          98.31993713220133
         ],
         "y0": " ",
         "yaxis": "y"
        },
        {
         "alignmentgroup": "True",
         "boxpoints": "all",
         "fillcolor": "rgba(255,255,255,0)",
         "hoveron": "points",
         "hovertemplate": "<b>%{hovertext}</b><br><br>DEPTH=Deep<br>REGION=%{x}<br>TSI-SD=%{y}<extra></extra>",
         "hovertext": [
          "La Ciénaga",
          "Las Maderas",
          "Campo Alegre",
          "Cabra Corral",
          "El Cadillal",
          "Río Hondo",
          "Sumampa",
          "las Pirquitas",
          "Los Sauces",
          "Cruz del Eje",
          "Mar Chiquita",
          "San Roque",
          "Ullum",
          "La Viña",
          "Los Molinos",
          "Río Tercero",
          "San Felipe",
          "La Florida",
          "El Carrizal",
          "El Diamante",
          "Agua del Toro",
          "Los Reyunos",
          "Valle Grande",
          "Del Monte",
          "Agrio",
          "Pellegrini",
          "Marri Menuco",
          "Los Barreales",
          "Blanca ",
          "Aluminé",
          "Ramos Mexía",
          "Norquinco",
          "Quillén",
          "Huechulafquen",
          "Lacar",
          "Nahuel Huapi",
          "Gutierrez",
          "Ne Luan",
          "Mascardi",
          "Guillermo",
          "Steffen",
          "Las Chultas",
          "Epuyen",
          "Puelo",
          "Cholila",
          "Lezama",
          "Los Mosquitos",
          "Rivadavia",
          "Verde",
          "Wilimanco",
          "Zeta",
          "Largo",
          "Amutui Quimen",
          "Futalaufquen",
          "Rosario",
          "Pico 4",
          "Pico 1",
          "La Plata",
          "Fontana",
          "Muster",
          "Ameghino"
         ],
         "legendgroup": "Deep",
         "line": {
          "color": "rgba(255,255,255,0)"
         },
         "marker": {
          "color": "indianred",
          "line": {
           "color": "DarkSlateGrey",
           "width": 1
          },
          "size": 8
         },
         "name": "Deep",
         "offsetgroup": "Deep",
         "orientation": "v",
         "pointpos": 0,
         "showlegend": true,
         "type": "box",
         "x": [
          "ANW",
          "ANW",
          "ANW",
          "ANW",
          "ANW",
          "ANW",
          "ANW",
          "ANW",
          "ANW",
          "Pampa Mountains",
          "Pampa Mountains",
          "Pampa Mountains",
          "Cuyo",
          "Pampa Mountains",
          "Pampa Mountains",
          "Pampa Mountains",
          "Pampa Mountains",
          "Cuyo",
          "Cuyo",
          "Cuyo",
          "Cuyo",
          "Cuyo",
          "Cuyo",
          "Pampa Plains",
          "Patagonian Andes",
          "Patagonian Andes",
          "Patagonian Plateau",
          "Patagonian Plateau",
          "Patagonian Andes",
          "Patagonian Andes",
          "Patagonian Plateau",
          "Patagonian Andes",
          "Patagonian Andes",
          "Patagonian Andes",
          "Patagonian Andes",
          "Patagonian Andes",
          "Patagonian Andes",
          "Patagonian Plateau",
          "Patagonian Andes",
          "Patagonian Andes",
          "Patagonian Andes",
          "Patagonian Andes",
          "Patagonian Andes",
          "Patagonian Andes",
          "Patagonian Andes",
          "Patagonian Andes",
          "Patagonian Andes",
          "Patagonian Andes",
          "Patagonian Andes",
          "Patagonian Andes",
          "Patagonian Andes",
          "Patagonian Andes",
          "Patagonian Andes",
          "Patagonian Andes",
          "Patagonian Andes",
          "Patagonian Andes",
          "Patagonian Andes",
          "Patagonian Andes",
          "Patagonian Andes",
          "Patagonian Plateau",
          "Patagonian Plateau"
         ],
         "x0": " ",
         "xaxis": "x",
         "y": [
          60,
          55.15143507028832,
          57.37274636659912,
          49.30868286244967,
          71.50649590249809,
          73.20374944630657,
          61.518245030629274,
          63.58032818749138,
          65.13968594215713,
          58.62658030901968,
          58.62658030901968,
          47.3844954947303,
          56.5557664642201,
          48.638329437150865,
          47.997779538505156,
          46.796250553693426,
          61.518245030629274,
          43.23899683070014,
          50.75088550025579,
          37.09912069427007,
          37.09912069427007,
          40.02349825626237,
          37.09912069427007,
          69.98825087186881,
          28.337993840585074,
          50.011749128131186,
          29.161646584018737,
          49.30868286244967,
          35.43457999084429,
          22.710320252368724,
          40.02349825626237,
          30.40007699744718,
          19.603576911136834,
          30.965247473985965,
          21.465517961763723,
          23.604250235518037,
          26.11668254427429,
          67.36099723846793,
          27.558885182080402,
          25.446329118975477,
          23.039079758979256,
          28.337993840585074,
          17.570634310211595,
          31.959434752112937,
          24.805779220329768,
          20.04699651252475,
          61.518245030629274,
          24.805779220329768,
          25.446329118975477,
          40.02349825626237,
          41.54174328689166,
          22.495241632746428,
          26.11668254427429,
          21.971183880244126,
          34.42293662336278,
          24.192495176554914,
          23.150354443192505,
          23.4894289108734,
          21.465517961763723,
          57.37274636659912,
          48.638329437150865
         ],
         "y0": " ",
         "yaxis": "y"
        }
       ],
       "layout": {
        "annotations": [
         {
          "showarrow": false,
          "text": "Eutrophic",
          "x": 1,
          "xanchor": "right",
          "xref": "x domain",
          "y": 50,
          "yanchor": "bottom",
          "yref": "y"
         },
         {
          "showarrow": false,
          "text": "Oligotrophic",
          "x": 1,
          "xanchor": "right",
          "xref": "x domain",
          "y": 30,
          "yanchor": "top",
          "yref": "y"
         }
        ],
        "autosize": true,
        "boxmode": "group",
        "font": {
         "family": "Open Sans"
        },
        "hoverdistance": 1,
        "hovermode": "x",
        "legend": {
         "font": {
          "size": 16
         },
         "orientation": "h",
         "title": {},
         "tracegroupgap": 0,
         "x": 1,
         "xanchor": "right",
         "y": 1.02,
         "yanchor": "bottom"
        },
        "margin": {
         "t": 60
        },
        "plot_bgcolor": "#FFFFFF",
        "shapes": [
         {
          "line": {
           "color": "DarkSlateGrey",
           "dash": "dot"
          },
          "type": "line",
          "x0": 0,
          "x1": 1,
          "xref": "x domain",
          "y0": 50,
          "y1": 50,
          "yref": "y"
         },
         {
          "line": {
           "color": "DarkSlateGrey",
           "dash": "dot"
          },
          "type": "line",
          "x0": 0,
          "x1": 1,
          "xref": "x domain",
          "y0": 30,
          "y1": 30,
          "yref": "y"
         }
        ],
        "showlegend": true,
        "spikedistance": 1000,
        "template": {
         "data": {
          "bar": [
           {
            "error_x": {
             "color": "#2a3f5f"
            },
            "error_y": {
             "color": "#2a3f5f"
            },
            "marker": {
             "line": {
              "color": "#E5ECF6",
              "width": 0.5
             },
             "pattern": {
              "fillmode": "overlay",
              "size": 10,
              "solidity": 0.2
             }
            },
            "type": "bar"
           }
          ],
          "barpolar": [
           {
            "marker": {
             "line": {
              "color": "#E5ECF6",
              "width": 0.5
             },
             "pattern": {
              "fillmode": "overlay",
              "size": 10,
              "solidity": 0.2
             }
            },
            "type": "barpolar"
           }
          ],
          "carpet": [
           {
            "aaxis": {
             "endlinecolor": "#2a3f5f",
             "gridcolor": "white",
             "linecolor": "white",
             "minorgridcolor": "white",
             "startlinecolor": "#2a3f5f"
            },
            "baxis": {
             "endlinecolor": "#2a3f5f",
             "gridcolor": "white",
             "linecolor": "white",
             "minorgridcolor": "white",
             "startlinecolor": "#2a3f5f"
            },
            "type": "carpet"
           }
          ],
          "choropleth": [
           {
            "colorbar": {
             "outlinewidth": 0,
             "ticks": ""
            },
            "type": "choropleth"
           }
          ],
          "contour": [
           {
            "colorbar": {
             "outlinewidth": 0,
             "ticks": ""
            },
            "colorscale": [
             [
              0,
              "#0d0887"
             ],
             [
              0.1111111111111111,
              "#46039f"
             ],
             [
              0.2222222222222222,
              "#7201a8"
             ],
             [
              0.3333333333333333,
              "#9c179e"
             ],
             [
              0.4444444444444444,
              "#bd3786"
             ],
             [
              0.5555555555555556,
              "#d8576b"
             ],
             [
              0.6666666666666666,
              "#ed7953"
             ],
             [
              0.7777777777777778,
              "#fb9f3a"
             ],
             [
              0.8888888888888888,
              "#fdca26"
             ],
             [
              1,
              "#f0f921"
             ]
            ],
            "type": "contour"
           }
          ],
          "contourcarpet": [
           {
            "colorbar": {
             "outlinewidth": 0,
             "ticks": ""
            },
            "type": "contourcarpet"
           }
          ],
          "heatmap": [
           {
            "colorbar": {
             "outlinewidth": 0,
             "ticks": ""
            },
            "colorscale": [
             [
              0,
              "#0d0887"
             ],
             [
              0.1111111111111111,
              "#46039f"
             ],
             [
              0.2222222222222222,
              "#7201a8"
             ],
             [
              0.3333333333333333,
              "#9c179e"
             ],
             [
              0.4444444444444444,
              "#bd3786"
             ],
             [
              0.5555555555555556,
              "#d8576b"
             ],
             [
              0.6666666666666666,
              "#ed7953"
             ],
             [
              0.7777777777777778,
              "#fb9f3a"
             ],
             [
              0.8888888888888888,
              "#fdca26"
             ],
             [
              1,
              "#f0f921"
             ]
            ],
            "type": "heatmap"
           }
          ],
          "heatmapgl": [
           {
            "colorbar": {
             "outlinewidth": 0,
             "ticks": ""
            },
            "colorscale": [
             [
              0,
              "#0d0887"
             ],
             [
              0.1111111111111111,
              "#46039f"
             ],
             [
              0.2222222222222222,
              "#7201a8"
             ],
             [
              0.3333333333333333,
              "#9c179e"
             ],
             [
              0.4444444444444444,
              "#bd3786"
             ],
             [
              0.5555555555555556,
              "#d8576b"
             ],
             [
              0.6666666666666666,
              "#ed7953"
             ],
             [
              0.7777777777777778,
              "#fb9f3a"
             ],
             [
              0.8888888888888888,
              "#fdca26"
             ],
             [
              1,
              "#f0f921"
             ]
            ],
            "type": "heatmapgl"
           }
          ],
          "histogram": [
           {
            "marker": {
             "pattern": {
              "fillmode": "overlay",
              "size": 10,
              "solidity": 0.2
             }
            },
            "type": "histogram"
           }
          ],
          "histogram2d": [
           {
            "colorbar": {
             "outlinewidth": 0,
             "ticks": ""
            },
            "colorscale": [
             [
              0,
              "#0d0887"
             ],
             [
              0.1111111111111111,
              "#46039f"
             ],
             [
              0.2222222222222222,
              "#7201a8"
             ],
             [
              0.3333333333333333,
              "#9c179e"
             ],
             [
              0.4444444444444444,
              "#bd3786"
             ],
             [
              0.5555555555555556,
              "#d8576b"
             ],
             [
              0.6666666666666666,
              "#ed7953"
             ],
             [
              0.7777777777777778,
              "#fb9f3a"
             ],
             [
              0.8888888888888888,
              "#fdca26"
             ],
             [
              1,
              "#f0f921"
             ]
            ],
            "type": "histogram2d"
           }
          ],
          "histogram2dcontour": [
           {
            "colorbar": {
             "outlinewidth": 0,
             "ticks": ""
            },
            "colorscale": [
             [
              0,
              "#0d0887"
             ],
             [
              0.1111111111111111,
              "#46039f"
             ],
             [
              0.2222222222222222,
              "#7201a8"
             ],
             [
              0.3333333333333333,
              "#9c179e"
             ],
             [
              0.4444444444444444,
              "#bd3786"
             ],
             [
              0.5555555555555556,
              "#d8576b"
             ],
             [
              0.6666666666666666,
              "#ed7953"
             ],
             [
              0.7777777777777778,
              "#fb9f3a"
             ],
             [
              0.8888888888888888,
              "#fdca26"
             ],
             [
              1,
              "#f0f921"
             ]
            ],
            "type": "histogram2dcontour"
           }
          ],
          "mesh3d": [
           {
            "colorbar": {
             "outlinewidth": 0,
             "ticks": ""
            },
            "type": "mesh3d"
           }
          ],
          "parcoords": [
           {
            "line": {
             "colorbar": {
              "outlinewidth": 0,
              "ticks": ""
             }
            },
            "type": "parcoords"
           }
          ],
          "pie": [
           {
            "automargin": true,
            "type": "pie"
           }
          ],
          "scatter": [
           {
            "fillpattern": {
             "fillmode": "overlay",
             "size": 10,
             "solidity": 0.2
            },
            "type": "scatter"
           }
          ],
          "scatter3d": [
           {
            "line": {
             "colorbar": {
              "outlinewidth": 0,
              "ticks": ""
             }
            },
            "marker": {
             "colorbar": {
              "outlinewidth": 0,
              "ticks": ""
             }
            },
            "type": "scatter3d"
           }
          ],
          "scattercarpet": [
           {
            "marker": {
             "colorbar": {
              "outlinewidth": 0,
              "ticks": ""
             }
            },
            "type": "scattercarpet"
           }
          ],
          "scattergeo": [
           {
            "marker": {
             "colorbar": {
              "outlinewidth": 0,
              "ticks": ""
             }
            },
            "type": "scattergeo"
           }
          ],
          "scattergl": [
           {
            "marker": {
             "colorbar": {
              "outlinewidth": 0,
              "ticks": ""
             }
            },
            "type": "scattergl"
           }
          ],
          "scattermapbox": [
           {
            "marker": {
             "colorbar": {
              "outlinewidth": 0,
              "ticks": ""
             }
            },
            "type": "scattermapbox"
           }
          ],
          "scatterpolar": [
           {
            "marker": {
             "colorbar": {
              "outlinewidth": 0,
              "ticks": ""
             }
            },
            "type": "scatterpolar"
           }
          ],
          "scatterpolargl": [
           {
            "marker": {
             "colorbar": {
              "outlinewidth": 0,
              "ticks": ""
             }
            },
            "type": "scatterpolargl"
           }
          ],
          "scatterternary": [
           {
            "marker": {
             "colorbar": {
              "outlinewidth": 0,
              "ticks": ""
             }
            },
            "type": "scatterternary"
           }
          ],
          "surface": [
           {
            "colorbar": {
             "outlinewidth": 0,
             "ticks": ""
            },
            "colorscale": [
             [
              0,
              "#0d0887"
             ],
             [
              0.1111111111111111,
              "#46039f"
             ],
             [
              0.2222222222222222,
              "#7201a8"
             ],
             [
              0.3333333333333333,
              "#9c179e"
             ],
             [
              0.4444444444444444,
              "#bd3786"
             ],
             [
              0.5555555555555556,
              "#d8576b"
             ],
             [
              0.6666666666666666,
              "#ed7953"
             ],
             [
              0.7777777777777778,
              "#fb9f3a"
             ],
             [
              0.8888888888888888,
              "#fdca26"
             ],
             [
              1,
              "#f0f921"
             ]
            ],
            "type": "surface"
           }
          ],
          "table": [
           {
            "cells": {
             "fill": {
              "color": "#EBF0F8"
             },
             "line": {
              "color": "white"
             }
            },
            "header": {
             "fill": {
              "color": "#C8D4E3"
             },
             "line": {
              "color": "white"
             }
            },
            "type": "table"
           }
          ]
         },
         "layout": {
          "annotationdefaults": {
           "arrowcolor": "#2a3f5f",
           "arrowhead": 0,
           "arrowwidth": 1
          },
          "autotypenumbers": "strict",
          "coloraxis": {
           "colorbar": {
            "outlinewidth": 0,
            "ticks": ""
           }
          },
          "colorscale": {
           "diverging": [
            [
             0,
             "#8e0152"
            ],
            [
             0.1,
             "#c51b7d"
            ],
            [
             0.2,
             "#de77ae"
            ],
            [
             0.3,
             "#f1b6da"
            ],
            [
             0.4,
             "#fde0ef"
            ],
            [
             0.5,
             "#f7f7f7"
            ],
            [
             0.6,
             "#e6f5d0"
            ],
            [
             0.7,
             "#b8e186"
            ],
            [
             0.8,
             "#7fbc41"
            ],
            [
             0.9,
             "#4d9221"
            ],
            [
             1,
             "#276419"
            ]
           ],
           "sequential": [
            [
             0,
             "#0d0887"
            ],
            [
             0.1111111111111111,
             "#46039f"
            ],
            [
             0.2222222222222222,
             "#7201a8"
            ],
            [
             0.3333333333333333,
             "#9c179e"
            ],
            [
             0.4444444444444444,
             "#bd3786"
            ],
            [
             0.5555555555555556,
             "#d8576b"
            ],
            [
             0.6666666666666666,
             "#ed7953"
            ],
            [
             0.7777777777777778,
             "#fb9f3a"
            ],
            [
             0.8888888888888888,
             "#fdca26"
            ],
            [
             1,
             "#f0f921"
            ]
           ],
           "sequentialminus": [
            [
             0,
             "#0d0887"
            ],
            [
             0.1111111111111111,
             "#46039f"
            ],
            [
             0.2222222222222222,
             "#7201a8"
            ],
            [
             0.3333333333333333,
             "#9c179e"
            ],
            [
             0.4444444444444444,
             "#bd3786"
            ],
            [
             0.5555555555555556,
             "#d8576b"
            ],
            [
             0.6666666666666666,
             "#ed7953"
            ],
            [
             0.7777777777777778,
             "#fb9f3a"
            ],
            [
             0.8888888888888888,
             "#fdca26"
            ],
            [
             1,
             "#f0f921"
            ]
           ]
          },
          "colorway": [
           "#636efa",
           "#EF553B",
           "#00cc96",
           "#ab63fa",
           "#FFA15A",
           "#19d3f3",
           "#FF6692",
           "#B6E880",
           "#FF97FF",
           "#FECB52"
          ],
          "font": {
           "color": "#2a3f5f"
          },
          "geo": {
           "bgcolor": "white",
           "lakecolor": "white",
           "landcolor": "#E5ECF6",
           "showlakes": true,
           "showland": true,
           "subunitcolor": "white"
          },
          "hoverlabel": {
           "align": "left"
          },
          "hovermode": "closest",
          "mapbox": {
           "style": "light"
          },
          "paper_bgcolor": "white",
          "plot_bgcolor": "#E5ECF6",
          "polar": {
           "angularaxis": {
            "gridcolor": "white",
            "linecolor": "white",
            "ticks": ""
           },
           "bgcolor": "#E5ECF6",
           "radialaxis": {
            "gridcolor": "white",
            "linecolor": "white",
            "ticks": ""
           }
          },
          "scene": {
           "xaxis": {
            "backgroundcolor": "#E5ECF6",
            "gridcolor": "white",
            "gridwidth": 2,
            "linecolor": "white",
            "showbackground": true,
            "ticks": "",
            "zerolinecolor": "white"
           },
           "yaxis": {
            "backgroundcolor": "#E5ECF6",
            "gridcolor": "white",
            "gridwidth": 2,
            "linecolor": "white",
            "showbackground": true,
            "ticks": "",
            "zerolinecolor": "white"
           },
           "zaxis": {
            "backgroundcolor": "#E5ECF6",
            "gridcolor": "white",
            "gridwidth": 2,
            "linecolor": "white",
            "showbackground": true,
            "ticks": "",
            "zerolinecolor": "white"
           }
          },
          "shapedefaults": {
           "line": {
            "color": "#2a3f5f"
           }
          },
          "ternary": {
           "aaxis": {
            "gridcolor": "white",
            "linecolor": "white",
            "ticks": ""
           },
           "baxis": {
            "gridcolor": "white",
            "linecolor": "white",
            "ticks": ""
           },
           "bgcolor": "#E5ECF6",
           "caxis": {
            "gridcolor": "white",
            "linecolor": "white",
            "ticks": ""
           }
          },
          "title": {
           "x": 0.05
          },
          "xaxis": {
           "automargin": true,
           "gridcolor": "white",
           "linecolor": "white",
           "ticks": "",
           "title": {
            "standoff": 15
           },
           "zerolinecolor": "white",
           "zerolinewidth": 2
          },
          "yaxis": {
           "automargin": true,
           "gridcolor": "white",
           "linecolor": "white",
           "ticks": "",
           "title": {
            "standoff": 15
           },
           "zerolinecolor": "white",
           "zerolinewidth": 2
          }
         }
        },
        "title": {
         "font": {
          "size": 20
         },
         "text": "Impact of Lake Depth on TSI through Argentina's Different Geographic Regions"
        },
        "updatemenus": [
         {
          "active": 0,
          "buttons": [
           {
            "args": [
             {
              "y": [
               [
                62.341897774062936,
                57.37274636659912,
                78.3434353884637,
                63.21549857443776,
                77.34924811033673,
                34.6692674080703,
                87.33749898220555,
                67.36099723846793,
                84.71024534880466,
                85.53389809223832,
                66.20758182089227,
                79.97650174373763,
                60,
                65.13968594215713,
                59.296933734318486,
                87.33749898220555,
                87.33749898220555,
                49.30868286244967,
                83.19200031817539,
                77.34924811033673,
                71.50649590249809,
                38.00952866663634,
                66.20758182089227,
                79.97650174373763,
                78.3434353884637,
                83.19200031817539,
                55.15143507028832,
                44.65751827993911,
                75.97582841935642,
                69.42308039533003,
                58.62658030901968,
                62.68500922173942,
                75.12793681402594,
                45.163184198419515,
                54.15724779216135,
                58.62658030901968,
                36.80799968182461,
                57.37274636659912,
                24.192495176554914,
                43.23899683070014,
                110.52949930038093,
                98.31993713220133
               ],
               [
                60,
                55.15143507028832,
                57.37274636659912,
                49.30868286244967,
                71.50649590249809,
                73.20374944630657,
                61.518245030629274,
                63.58032818749138,
                65.13968594215713,
                58.62658030901968,
                58.62658030901968,
                47.3844954947303,
                56.5557664642201,
                48.638329437150865,
                47.997779538505156,
                46.796250553693426,
                61.518245030629274,
                43.23899683070014,
                50.75088550025579,
                37.09912069427007,
                37.09912069427007,
                40.02349825626237,
                37.09912069427007,
                69.98825087186881,
                28.337993840585074,
                50.011749128131186,
                29.161646584018737,
                49.30868286244967,
                35.43457999084429,
                22.710320252368724,
                40.02349825626237,
                30.40007699744718,
                19.603576911136834,
                30.965247473985965,
                21.465517961763723,
                23.604250235518037,
                26.11668254427429,
                67.36099723846793,
                27.558885182080402,
                25.446329118975477,
                23.039079758979256,
                28.337993840585074,
                17.570634310211595,
                31.959434752112937,
                24.805779220329768,
                20.04699651252475,
                61.518245030629274,
                24.805779220329768,
                25.446329118975477,
                40.02349825626237,
                41.54174328689166,
                22.495241632746428,
                26.11668254427429,
                21.971183880244126,
                34.42293662336278,
                24.192495176554914,
                23.150354443192505,
                23.4894289108734,
                21.465517961763723,
                57.37274636659912,
                48.638329437150865
               ]
              ]
             },
             {
              "yaxis.title": "TSI-SD"
             }
            ],
            "label": "TSI-SD",
            "method": "update"
           },
           {
            "args": [
             {
              "y": [
               [
                43.20008389989387,
                45.82916074886269,
                93.0855877986099,
                67.15743803257445,
                87.3291887593462,
                45.82916074886269,
                133.58587929302274,
                107.4093979740992,
                106.97756113287332,
                88.62139608765149,
                70.84210796755919,
                85.65889397947394,
                73.06496077066826,
                83.47814339605497,
                67.51795681037657,
                82.56710363467249,
                105.61126127988274,
                49.363826593698334,
                83.76946643557359,
                81.04780499888662,
                79.11232719085322,
                61.401609393421595,
                84.55518606736989,
                90.4746379162016,
                92.43634631319746,
                110.60920380523511,
                79.65949310400788,
                73.65846017602463,
                74.00317778673289,
                65.81952543621152,
                50.56618939459945,
                56.60399242325448,
                83.53688074814467,
                66.21461864400413,
                58.38650566830117,
                53.19526624356828,
                56.60399242325448,
                86.1072202450238,
                29.987171546268556,
                54.56963903634664,
                110.07946722694969,
                96.58472179795214
               ],
               [
                50.56618939459945,
                49.363826593698334,
                62.701588212079365,
                44.130729374697644,
                62.94808994112048,
                87.41903328675038,
                61.67114995145684,
                58.718014521101324,
                68.38168801197558,
                48.722832177426916,
                68.38168801197558,
                52.200389036726435,
                45.00493642129064,
                50.56618939459945,
                51.13175207826977,
                49.97753623361738,
                57.69970920187612,
                43.20008389989387,
                41.136569734595355,
                38.7276498337525,
                27.358094697299727,
                35.83397840518828,
                35.83397840518828,
                77.0610645131226,
                83.06014311434268,
                49.97753623361738,
                24.14036468734882,
                35.83397840518828,
                70.84210796755919,
                19.99198920259414,
                35.83397840518828,
                27.358094697299727,
                19.99198920259414,
                42.20520669305203,
                24.14036468734882,
                24.14036468734882,
                14.145182343674412,
                64.99530110863947,
                19.99198920259414,
                24.14036468734882,
                19.99198920259414,
                35.83397840518828,
                4.15,
                19.99198920259414,
                35.83397840518828,
                24.14036468734882,
                53.19526624356828,
                19.99198920259414,
                24.14036468734882,
                50.56618939459945,
                69.35419128104716,
                32.21002434937762,
                19.99198920259414,
                14.145182343674412,
                47.34845938464855,
                35.83397840518828,
                35.83397840518828,
                29.987171546268556,
                29.987171546268556,
                53.19526624356828,
                58.38650566830117
               ]
              ]
             },
             {
              "yaxis.title": "TSI-TP"
             }
            ],
            "label": "TSI-TP",
            "method": "update"
           },
           {
            "args": [
             {
              "y": [
               [
                57.42414526740612,
                61.14358518335378,
                44.19954768258613,
                62.21633357061121,
                83.4263955341664,
                33.17379343442609,
                47.67397317518535,
                73.87765313614034,
                89.50539610495213,
                76.94959562045862,
                61.817498155271736,
                80.76041236655342,
                55.45556574492241,
                66.93396473342142,
                56.13238581420941,
                70.31382911870001,
                51.70878721397533,
                37.39977384129307,
                71.90642762577815,
                77.63047696076202,
                75.59853097268572,
                35.21073560290067,
                57.61341158819532,
                77.15631090729008,
                79.97420960043425,
                69.98302581471927,
                50.8759236704299,
                42.31237941571459,
                68.3071302554603,
                61.69461554644558,
                55.61005712677986,
                50.49613430593732,
                66.25887040958702,
                44.44178221209767,
                54.976934234420284,
                60.03706138578795,
                31.53499286388043,
                52.787895996027885,
                23.1932284482325,
                40.70056648254716,
                73.31412743991845,
                58.393822905191485
               ],
               [
                50.23451880206132,
                55.98596518558382,
                61.653310222264054,
                49.828529831503715,
                43.69636046464426,
                53.57311495830528,
                62.01894260522489,
                57.42414526740612,
                66.12858961036497,
                47.50034032384023,
                66.41295734709158,
                52.15477310366832,
                29.888081503290266,
                49.259674833953795,
                56.558974762338245,
                59.223330881746776,
                69.13266323847333,
                43.69636046464426,
                45.988122154734825,
                26.6713150716822,
                31.623771750330825,
                34.24503848860266,
                32.05600025021026,
                74.6335227870723,
                25.750953082997007,
                56.558974762338245,
                26.52379349473606,
                35.977071017480036,
                34.10878629830651,
                19.11069495145611,
                38.15476165483849,
                22.320653610410673,
                18.456452567624133,
                27.64615903978973,
                20.846385198496666,
                21.853422449826084,
                21.362820223988656,
                61.69461554644558,
                15.746406942901903,
                24.735219022587366,
                15.290045589523604,
                26.95986528555594,
                12.622375840629076,
                16.182478733721783,
                19.724019653442994,
                27.64615903978973,
                69.7500833632124,
                20.301244958667972,
                26.81665106323443,
                49.96573486527592,
                49.11215325700765,
                23.60203759992207,
                26.81665106323443,
                23.800226158706938,
                35.747586868852174,
                36.42053635217458,
                29.78202641630791,
                17.385207513447565,
                18.112206720275577,
                49.828529831503715,
                38.200073513688736
               ]
              ]
             },
             {
              "yaxis.title": "TSI-CHL"
             }
            ],
            "label": "TSI-CHL",
            "method": "update"
           }
          ],
          "direction": "right",
          "showactive": true,
          "type": "buttons",
          "x": 0.7,
          "y": 1.15
         }
        ],
        "xaxis": {
         "anchor": "y",
         "domain": [
          0,
          1
         ],
         "gridcolor": "#BCCCDC",
         "linecolor": "#BCCCDC",
         "minor": {
          "dtick": "M3",
          "showgrid": true,
          "ticks": "inside"
         },
         "showgrid": true,
         "showspikes": false,
         "spikecolor": "#999999",
         "spikedash": "dot",
         "spikemode": "across",
         "spikethickness": 2,
         "tickfont": {
          "size": 14
         },
         "title": {
          "font": {
           "size": 18
          }
         }
        },
        "yaxis": {
         "anchor": "x",
         "domain": [
          0,
          1
         ],
         "gridcolor": "#BCCCDC",
         "linecolor": "#BCCCDC",
         "range": [
          0,
          140
         ],
         "showgrid": false,
         "tickfont": {
          "size": 14
         },
         "title": {
          "font": {
           "size": 18
          },
          "text": "TSI-SD"
         }
        }
       }
      }
     },
     "metadata": {},
     "output_type": "display_data"
    }
   ],
   "source": [
    "fig2 = px.strip(data_frame=data, x='REGION', y='TSI-SD', color='DEPTH', color_discrete_sequence=colors_depth, hover_name=data.index)\n",
    "fig_title = 'Impact of Lake Depth on TSI through Argentina\\'s Different Geographic Regions'\n",
    "yaxis_title= 'TSI-SD'\n",
    "\n",
    "apply_custom_layout(fig2, fig_title, yaxis_title, show_xspikes=False, show_legend=True, legend_title=None)\n",
    "fig2.update_traces(marker={\n",
    "    'size': 8,\n",
    "    'line_width': 1,\n",
    "    'line_color':'DarkSlateGrey'\n",
    "    })\n",
    "\n",
    "buttons = [dict(label=tsi,\n",
    "                     method='update',\n",
    "                     args=[{'y': [df_dict['Shallow'][tsi], df_dict['Deep'][tsi]]}, {'yaxis.title': tsi}]) for tsi in tsi_list]\n",
    "\n",
    "fig2.update_layout(\n",
    "    yaxis_range=[0, 140],\n",
    "    updatemenus=[\n",
    "        dict(\n",
    "            type=\"buttons\",\n",
    "            direction=\"right\",\n",
    "            showactive=True,\n",
    "            active=0,\n",
    "            x=0.7,\n",
    "            y=1.15,\n",
    "            buttons=buttons,\n",
    "        )\n",
    "    ])\n",
    "\n",
    "fig2.add_hline(y=50, line_dash=\"dot\", line_color='DarkSlateGrey',\n",
    "              annotation_text=\"Eutrophic\", \n",
    "              annotation_position=\"top right\")\n",
    "fig2.add_hline(y=30, line_dash=\"dot\", line_color='DarkSlateGrey',\n",
    "              annotation_text=\"Oligotrophic\", \n",
    "              annotation_position=\"bottom right\")\n",
    "\n",
    "fig2.show()"
   ]
  },
  {
   "cell_type": "code",
   "execution_count": 257,
   "id": "c17c51d4",
   "metadata": {},
   "outputs": [
    {
     "data": {
      "application/vnd.plotly.v1+json": {
       "config": {
        "plotlyServerURL": "https://plot.ly"
       },
       "data": [
        {
         "alignmentgroup": "True",
         "box": {
          "visible": true
         },
         "hovertemplate": "<b>%{hovertext}</b><br><br>REGION=%{x}<br>TSI-SD=%{y}<extra></extra>",
         "hovertext": [
          "Rodeo",
          "Comedero",
          "La Ciénaga",
          "Las Maderas",
          "Campo Alegre",
          "Cabra Corral",
          "El Cadillal",
          "Río Hondo",
          "Sumampa",
          "las Pirquitas",
          "Los Sauces"
         ],
         "legendgroup": "ANW",
         "marker": {
          "color": "goldenrod",
          "line": {
           "color": "DarkSlateGrey",
           "width": 1
          },
          "size": 8
         },
         "name": "ANW",
         "offsetgroup": "ANW",
         "orientation": "v",
         "points": "all",
         "scalegroup": "True",
         "showlegend": true,
         "type": "violin",
         "x": [
          "ANW",
          "ANW",
          "ANW",
          "ANW",
          "ANW",
          "ANW",
          "ANW",
          "ANW",
          "ANW",
          "ANW",
          "ANW"
         ],
         "x0": " ",
         "xaxis": "x",
         "y": [
          62.341897774062936,
          57.37274636659912,
          60,
          55.15143507028832,
          57.37274636659912,
          49.30868286244967,
          71.50649590249809,
          73.20374944630657,
          61.518245030629274,
          63.58032818749138,
          65.13968594215713
         ],
         "y0": " ",
         "yaxis": "y"
        },
        {
         "alignmentgroup": "True",
         "box": {
          "visible": true
         },
         "hovertemplate": "<b>%{hovertext}</b><br><br>REGION=%{x}<br>TSI-SD=%{y}<extra></extra>",
         "hovertext": [
          "Anzulón",
          "Portezuelo",
          "Cruz del Eje",
          "Mar Chiquita",
          "Saladillo",
          "San Roque",
          "La Viña",
          "Los Molinos",
          "Río Tercero",
          "San Felipe"
         ],
         "legendgroup": "Pampa Mountains",
         "marker": {
          "color": "indianred",
          "line": {
           "color": "DarkSlateGrey",
           "width": 1
          },
          "size": 8
         },
         "name": "Pampa Mountains",
         "offsetgroup": "Pampa Mountains",
         "orientation": "v",
         "points": "all",
         "scalegroup": "True",
         "showlegend": true,
         "type": "violin",
         "x": [
          "Pampa Mountains",
          "Pampa Mountains",
          "Pampa Mountains",
          "Pampa Mountains",
          "Pampa Mountains",
          "Pampa Mountains",
          "Pampa Mountains",
          "Pampa Mountains",
          "Pampa Mountains",
          "Pampa Mountains"
         ],
         "x0": " ",
         "xaxis": "x",
         "y": [
          78.3434353884637,
          63.21549857443776,
          58.62658030901968,
          58.62658030901968,
          77.34924811033673,
          47.3844954947303,
          48.638329437150865,
          47.997779538505156,
          46.796250553693426,
          61.518245030629274
         ],
         "y0": " ",
         "yaxis": "y"
        },
        {
         "alignmentgroup": "True",
         "box": {
          "visible": true
         },
         "hovertemplate": "<b>%{hovertext}</b><br><br>REGION=%{x}<br>TSI-SD=%{y}<extra></extra>",
         "hovertext": [
          "Ullum",
          "La Florida",
          "El Carrizal",
          "El Diamante",
          "Agua del Toro",
          "Los Reyunos",
          "Valle Grande",
          "El Nihuil"
         ],
         "legendgroup": "Cuyo",
         "marker": {
          "color": "mediumseagreen",
          "line": {
           "color": "DarkSlateGrey",
           "width": 1
          },
          "size": 8
         },
         "name": "Cuyo",
         "offsetgroup": "Cuyo",
         "orientation": "v",
         "points": "all",
         "scalegroup": "True",
         "showlegend": true,
         "type": "violin",
         "x": [
          "Cuyo",
          "Cuyo",
          "Cuyo",
          "Cuyo",
          "Cuyo",
          "Cuyo",
          "Cuyo",
          "Cuyo"
         ],
         "x0": " ",
         "xaxis": "x",
         "y": [
          56.5557664642201,
          43.23899683070014,
          50.75088550025579,
          37.09912069427007,
          37.09912069427007,
          40.02349825626237,
          37.09912069427007,
          34.6692674080703
         ],
         "y0": " ",
         "yaxis": "y"
        },
        {
         "alignmentgroup": "True",
         "box": {
          "visible": true
         },
         "hovertemplate": "<b>%{hovertext}</b><br><br>REGION=%{x}<br>TSI-SD=%{y}<extra></extra>",
         "hovertext": [
          "Melincué",
          "El Carpincho",
          "De Gómez",
          "Navarro",
          "Las mulitas",
          "De Lobos",
          "Indio Muerto",
          "De Monte",
          "La Chilca",
          "Chascomús",
          "La Limpia",
          "La Tablilla",
          "Blanca Grande",
          "Alsina",
          "Cochicó",
          "Salada Grande",
          "Los Horcones",
          "Del Monte",
          "Dulce",
          "Del Venado",
          "Epecuén",
          "La Brava",
          "De los Padres",
          "De Pigüé",
          "De Saavedra",
          "Sauce Grande"
         ],
         "legendgroup": "Pampa Plains",
         "marker": {
          "color": "lightseagreen",
          "line": {
           "color": "DarkSlateGrey",
           "width": 1
          },
          "size": 8
         },
         "name": "Pampa Plains",
         "offsetgroup": "Pampa Plains",
         "orientation": "v",
         "points": "all",
         "scalegroup": "True",
         "showlegend": true,
         "type": "violin",
         "x": [
          "Pampa Plains",
          "Pampa Plains",
          "Pampa Plains",
          "Pampa Plains",
          "Pampa Plains",
          "Pampa Plains",
          "Pampa Plains",
          "Pampa Plains",
          "Pampa Plains",
          "Pampa Plains",
          "Pampa Plains",
          "Pampa Plains",
          "Pampa Plains",
          "Pampa Plains",
          "Pampa Plains",
          "Pampa Plains",
          "Pampa Plains",
          "Pampa Plains",
          "Pampa Plains",
          "Pampa Plains",
          "Pampa Plains",
          "Pampa Plains",
          "Pampa Plains",
          "Pampa Plains",
          "Pampa Plains",
          "Pampa Plains"
         ],
         "x0": " ",
         "xaxis": "x",
         "y": [
          87.33749898220555,
          67.36099723846793,
          84.71024534880466,
          85.53389809223832,
          66.20758182089227,
          79.97650174373763,
          60,
          65.13968594215713,
          59.296933734318486,
          87.33749898220555,
          87.33749898220555,
          49.30868286244967,
          83.19200031817539,
          77.34924811033673,
          71.50649590249809,
          38.00952866663634,
          66.20758182089227,
          69.98825087186881,
          79.97650174373763,
          78.3434353884637,
          83.19200031817539,
          55.15143507028832,
          44.65751827993911,
          75.97582841935642,
          69.42308039533003,
          75.12793681402594
         ],
         "y0": " ",
         "yaxis": "y"
        },
        {
         "alignmentgroup": "True",
         "box": {
          "visible": true
         },
         "hovertemplate": "<b>%{hovertext}</b><br><br>REGION=%{x}<br>TSI-SD=%{y}<extra></extra>",
         "hovertext": [
          "La Dulce",
          "Urre Lauquen",
          "Marri Menuco",
          "Los Barreales",
          "Ramos Mexía",
          "Ne Luan",
          "Muster",
          "Colhue Huapi",
          "Ameghino"
         ],
         "legendgroup": "Patagonian Plateau",
         "marker": {
          "color": "royalblue",
          "line": {
           "color": "DarkSlateGrey",
           "width": 1
          },
          "size": 8
         },
         "name": "Patagonian Plateau",
         "offsetgroup": "Patagonian Plateau",
         "orientation": "v",
         "points": "all",
         "scalegroup": "True",
         "showlegend": true,
         "type": "violin",
         "x": [
          "Patagonian Plateau",
          "Patagonian Plateau",
          "Patagonian Plateau",
          "Patagonian Plateau",
          "Patagonian Plateau",
          "Patagonian Plateau",
          "Patagonian Plateau",
          "Patagonian Plateau",
          "Patagonian Plateau"
         ],
         "x0": " ",
         "xaxis": "x",
         "y": [
          58.62658030901968,
          62.68500922173942,
          29.161646584018737,
          49.30868286244967,
          40.02349825626237,
          67.36099723846793,
          57.37274636659912,
          98.31993713220133,
          48.638329437150865
         ],
         "y0": " ",
         "yaxis": "y"
        },
        {
         "alignmentgroup": "True",
         "box": {
          "visible": true
         },
         "hovertemplate": "<b>%{hovertext}</b><br><br>REGION=%{x}<br>TSI-SD=%{y}<extra></extra>",
         "hovertext": [
          "Agrio",
          "Pellegrini",
          "Blanca ",
          "Aluminé",
          "Norquinco",
          "Quillén",
          "Huechulafquen",
          "Lacar",
          "Nahuel Huapi",
          "Gutierrez",
          "Mascardi",
          "Guillermo",
          "Steffen",
          "Las Chultas",
          "Epuyen",
          "Puelo",
          "Cholila",
          "Lezama",
          "Los Mosquitos",
          "Rivadavia",
          "Esquel",
          "Brechman",
          "Verde",
          "Wilimanco",
          "Zeta",
          "Largo",
          "Terraplén",
          "Amutui Quimen",
          "Futalaufquen",
          "Rosario",
          "Quichaura",
          "Cronometro",
          "Los Niños",
          "Pico 4",
          "Pico 3",
          "Pico 1",
          "La Plata",
          "Fontana",
          "Blanco"
         ],
         "legendgroup": "Patagonian Andes",
         "marker": {
          "color": "darkorchid",
          "line": {
           "color": "DarkSlateGrey",
           "width": 1
          },
          "size": 8
         },
         "name": "Patagonian Andes",
         "offsetgroup": "Patagonian Andes",
         "orientation": "v",
         "points": "all",
         "scalegroup": "True",
         "showlegend": true,
         "type": "violin",
         "x": [
          "Patagonian Andes",
          "Patagonian Andes",
          "Patagonian Andes",
          "Patagonian Andes",
          "Patagonian Andes",
          "Patagonian Andes",
          "Patagonian Andes",
          "Patagonian Andes",
          "Patagonian Andes",
          "Patagonian Andes",
          "Patagonian Andes",
          "Patagonian Andes",
          "Patagonian Andes",
          "Patagonian Andes",
          "Patagonian Andes",
          "Patagonian Andes",
          "Patagonian Andes",
          "Patagonian Andes",
          "Patagonian Andes",
          "Patagonian Andes",
          "Patagonian Andes",
          "Patagonian Andes",
          "Patagonian Andes",
          "Patagonian Andes",
          "Patagonian Andes",
          "Patagonian Andes",
          "Patagonian Andes",
          "Patagonian Andes",
          "Patagonian Andes",
          "Patagonian Andes",
          "Patagonian Andes",
          "Patagonian Andes",
          "Patagonian Andes",
          "Patagonian Andes",
          "Patagonian Andes",
          "Patagonian Andes",
          "Patagonian Andes",
          "Patagonian Andes",
          "Patagonian Andes"
         ],
         "x0": " ",
         "xaxis": "x",
         "y": [
          28.337993840585074,
          50.011749128131186,
          35.43457999084429,
          22.710320252368724,
          30.40007699744718,
          19.603576911136834,
          30.965247473985965,
          21.465517961763723,
          23.604250235518037,
          26.11668254427429,
          27.558885182080402,
          25.446329118975477,
          23.039079758979256,
          28.337993840585074,
          17.570634310211595,
          31.959434752112937,
          24.805779220329768,
          20.04699651252475,
          61.518245030629274,
          24.805779220329768,
          45.163184198419515,
          54.15724779216135,
          25.446329118975477,
          40.02349825626237,
          41.54174328689166,
          22.495241632746428,
          58.62658030901968,
          26.11668254427429,
          21.971183880244126,
          34.42293662336278,
          36.80799968182461,
          57.37274636659912,
          24.192495176554914,
          24.192495176554914,
          43.23899683070014,
          23.150354443192505,
          23.4894289108734,
          21.465517961763723,
          110.52949930038093
         ],
         "y0": " ",
         "yaxis": "y"
        }
       ],
       "layout": {
        "annotations": [
         {
          "showarrow": false,
          "text": "Eutrophic",
          "x": 1,
          "xanchor": "right",
          "xref": "x domain",
          "y": 50,
          "yanchor": "bottom",
          "yref": "y"
         },
         {
          "showarrow": false,
          "text": "Oligotrophic",
          "x": 1,
          "xanchor": "right",
          "xref": "x domain",
          "y": 30,
          "yanchor": "top",
          "yref": "y"
         }
        ],
        "autosize": true,
        "font": {
         "family": "Open Sans"
        },
        "hoverdistance": 1,
        "hovermode": "x",
        "legend": {
         "font": {
          "size": 16
         },
         "orientation": "h",
         "title": {
          "text": "Legend"
         },
         "tracegroupgap": 0,
         "x": 1,
         "xanchor": "right",
         "y": 1.02,
         "yanchor": "bottom"
        },
        "margin": {
         "t": 60
        },
        "plot_bgcolor": "#FFFFFF",
        "shapes": [
         {
          "line": {
           "color": "DarkSlateGrey",
           "dash": "dot"
          },
          "type": "line",
          "x0": 0,
          "x1": 1,
          "xref": "x domain",
          "y0": 50,
          "y1": 50,
          "yref": "y"
         },
         {
          "line": {
           "color": "DarkSlateGrey",
           "dash": "dot"
          },
          "type": "line",
          "x0": 0,
          "x1": 1,
          "xref": "x domain",
          "y0": 30,
          "y1": 30,
          "yref": "y"
         }
        ],
        "showlegend": false,
        "spikedistance": 1000,
        "template": {
         "data": {
          "bar": [
           {
            "error_x": {
             "color": "#2a3f5f"
            },
            "error_y": {
             "color": "#2a3f5f"
            },
            "marker": {
             "line": {
              "color": "#E5ECF6",
              "width": 0.5
             },
             "pattern": {
              "fillmode": "overlay",
              "size": 10,
              "solidity": 0.2
             }
            },
            "type": "bar"
           }
          ],
          "barpolar": [
           {
            "marker": {
             "line": {
              "color": "#E5ECF6",
              "width": 0.5
             },
             "pattern": {
              "fillmode": "overlay",
              "size": 10,
              "solidity": 0.2
             }
            },
            "type": "barpolar"
           }
          ],
          "carpet": [
           {
            "aaxis": {
             "endlinecolor": "#2a3f5f",
             "gridcolor": "white",
             "linecolor": "white",
             "minorgridcolor": "white",
             "startlinecolor": "#2a3f5f"
            },
            "baxis": {
             "endlinecolor": "#2a3f5f",
             "gridcolor": "white",
             "linecolor": "white",
             "minorgridcolor": "white",
             "startlinecolor": "#2a3f5f"
            },
            "type": "carpet"
           }
          ],
          "choropleth": [
           {
            "colorbar": {
             "outlinewidth": 0,
             "ticks": ""
            },
            "type": "choropleth"
           }
          ],
          "contour": [
           {
            "colorbar": {
             "outlinewidth": 0,
             "ticks": ""
            },
            "colorscale": [
             [
              0,
              "#0d0887"
             ],
             [
              0.1111111111111111,
              "#46039f"
             ],
             [
              0.2222222222222222,
              "#7201a8"
             ],
             [
              0.3333333333333333,
              "#9c179e"
             ],
             [
              0.4444444444444444,
              "#bd3786"
             ],
             [
              0.5555555555555556,
              "#d8576b"
             ],
             [
              0.6666666666666666,
              "#ed7953"
             ],
             [
              0.7777777777777778,
              "#fb9f3a"
             ],
             [
              0.8888888888888888,
              "#fdca26"
             ],
             [
              1,
              "#f0f921"
             ]
            ],
            "type": "contour"
           }
          ],
          "contourcarpet": [
           {
            "colorbar": {
             "outlinewidth": 0,
             "ticks": ""
            },
            "type": "contourcarpet"
           }
          ],
          "heatmap": [
           {
            "colorbar": {
             "outlinewidth": 0,
             "ticks": ""
            },
            "colorscale": [
             [
              0,
              "#0d0887"
             ],
             [
              0.1111111111111111,
              "#46039f"
             ],
             [
              0.2222222222222222,
              "#7201a8"
             ],
             [
              0.3333333333333333,
              "#9c179e"
             ],
             [
              0.4444444444444444,
              "#bd3786"
             ],
             [
              0.5555555555555556,
              "#d8576b"
             ],
             [
              0.6666666666666666,
              "#ed7953"
             ],
             [
              0.7777777777777778,
              "#fb9f3a"
             ],
             [
              0.8888888888888888,
              "#fdca26"
             ],
             [
              1,
              "#f0f921"
             ]
            ],
            "type": "heatmap"
           }
          ],
          "heatmapgl": [
           {
            "colorbar": {
             "outlinewidth": 0,
             "ticks": ""
            },
            "colorscale": [
             [
              0,
              "#0d0887"
             ],
             [
              0.1111111111111111,
              "#46039f"
             ],
             [
              0.2222222222222222,
              "#7201a8"
             ],
             [
              0.3333333333333333,
              "#9c179e"
             ],
             [
              0.4444444444444444,
              "#bd3786"
             ],
             [
              0.5555555555555556,
              "#d8576b"
             ],
             [
              0.6666666666666666,
              "#ed7953"
             ],
             [
              0.7777777777777778,
              "#fb9f3a"
             ],
             [
              0.8888888888888888,
              "#fdca26"
             ],
             [
              1,
              "#f0f921"
             ]
            ],
            "type": "heatmapgl"
           }
          ],
          "histogram": [
           {
            "marker": {
             "pattern": {
              "fillmode": "overlay",
              "size": 10,
              "solidity": 0.2
             }
            },
            "type": "histogram"
           }
          ],
          "histogram2d": [
           {
            "colorbar": {
             "outlinewidth": 0,
             "ticks": ""
            },
            "colorscale": [
             [
              0,
              "#0d0887"
             ],
             [
              0.1111111111111111,
              "#46039f"
             ],
             [
              0.2222222222222222,
              "#7201a8"
             ],
             [
              0.3333333333333333,
              "#9c179e"
             ],
             [
              0.4444444444444444,
              "#bd3786"
             ],
             [
              0.5555555555555556,
              "#d8576b"
             ],
             [
              0.6666666666666666,
              "#ed7953"
             ],
             [
              0.7777777777777778,
              "#fb9f3a"
             ],
             [
              0.8888888888888888,
              "#fdca26"
             ],
             [
              1,
              "#f0f921"
             ]
            ],
            "type": "histogram2d"
           }
          ],
          "histogram2dcontour": [
           {
            "colorbar": {
             "outlinewidth": 0,
             "ticks": ""
            },
            "colorscale": [
             [
              0,
              "#0d0887"
             ],
             [
              0.1111111111111111,
              "#46039f"
             ],
             [
              0.2222222222222222,
              "#7201a8"
             ],
             [
              0.3333333333333333,
              "#9c179e"
             ],
             [
              0.4444444444444444,
              "#bd3786"
             ],
             [
              0.5555555555555556,
              "#d8576b"
             ],
             [
              0.6666666666666666,
              "#ed7953"
             ],
             [
              0.7777777777777778,
              "#fb9f3a"
             ],
             [
              0.8888888888888888,
              "#fdca26"
             ],
             [
              1,
              "#f0f921"
             ]
            ],
            "type": "histogram2dcontour"
           }
          ],
          "mesh3d": [
           {
            "colorbar": {
             "outlinewidth": 0,
             "ticks": ""
            },
            "type": "mesh3d"
           }
          ],
          "parcoords": [
           {
            "line": {
             "colorbar": {
              "outlinewidth": 0,
              "ticks": ""
             }
            },
            "type": "parcoords"
           }
          ],
          "pie": [
           {
            "automargin": true,
            "type": "pie"
           }
          ],
          "scatter": [
           {
            "fillpattern": {
             "fillmode": "overlay",
             "size": 10,
             "solidity": 0.2
            },
            "type": "scatter"
           }
          ],
          "scatter3d": [
           {
            "line": {
             "colorbar": {
              "outlinewidth": 0,
              "ticks": ""
             }
            },
            "marker": {
             "colorbar": {
              "outlinewidth": 0,
              "ticks": ""
             }
            },
            "type": "scatter3d"
           }
          ],
          "scattercarpet": [
           {
            "marker": {
             "colorbar": {
              "outlinewidth": 0,
              "ticks": ""
             }
            },
            "type": "scattercarpet"
           }
          ],
          "scattergeo": [
           {
            "marker": {
             "colorbar": {
              "outlinewidth": 0,
              "ticks": ""
             }
            },
            "type": "scattergeo"
           }
          ],
          "scattergl": [
           {
            "marker": {
             "colorbar": {
              "outlinewidth": 0,
              "ticks": ""
             }
            },
            "type": "scattergl"
           }
          ],
          "scattermapbox": [
           {
            "marker": {
             "colorbar": {
              "outlinewidth": 0,
              "ticks": ""
             }
            },
            "type": "scattermapbox"
           }
          ],
          "scatterpolar": [
           {
            "marker": {
             "colorbar": {
              "outlinewidth": 0,
              "ticks": ""
             }
            },
            "type": "scatterpolar"
           }
          ],
          "scatterpolargl": [
           {
            "marker": {
             "colorbar": {
              "outlinewidth": 0,
              "ticks": ""
             }
            },
            "type": "scatterpolargl"
           }
          ],
          "scatterternary": [
           {
            "marker": {
             "colorbar": {
              "outlinewidth": 0,
              "ticks": ""
             }
            },
            "type": "scatterternary"
           }
          ],
          "surface": [
           {
            "colorbar": {
             "outlinewidth": 0,
             "ticks": ""
            },
            "colorscale": [
             [
              0,
              "#0d0887"
             ],
             [
              0.1111111111111111,
              "#46039f"
             ],
             [
              0.2222222222222222,
              "#7201a8"
             ],
             [
              0.3333333333333333,
              "#9c179e"
             ],
             [
              0.4444444444444444,
              "#bd3786"
             ],
             [
              0.5555555555555556,
              "#d8576b"
             ],
             [
              0.6666666666666666,
              "#ed7953"
             ],
             [
              0.7777777777777778,
              "#fb9f3a"
             ],
             [
              0.8888888888888888,
              "#fdca26"
             ],
             [
              1,
              "#f0f921"
             ]
            ],
            "type": "surface"
           }
          ],
          "table": [
           {
            "cells": {
             "fill": {
              "color": "#EBF0F8"
             },
             "line": {
              "color": "white"
             }
            },
            "header": {
             "fill": {
              "color": "#C8D4E3"
             },
             "line": {
              "color": "white"
             }
            },
            "type": "table"
           }
          ]
         },
         "layout": {
          "annotationdefaults": {
           "arrowcolor": "#2a3f5f",
           "arrowhead": 0,
           "arrowwidth": 1
          },
          "autotypenumbers": "strict",
          "coloraxis": {
           "colorbar": {
            "outlinewidth": 0,
            "ticks": ""
           }
          },
          "colorscale": {
           "diverging": [
            [
             0,
             "#8e0152"
            ],
            [
             0.1,
             "#c51b7d"
            ],
            [
             0.2,
             "#de77ae"
            ],
            [
             0.3,
             "#f1b6da"
            ],
            [
             0.4,
             "#fde0ef"
            ],
            [
             0.5,
             "#f7f7f7"
            ],
            [
             0.6,
             "#e6f5d0"
            ],
            [
             0.7,
             "#b8e186"
            ],
            [
             0.8,
             "#7fbc41"
            ],
            [
             0.9,
             "#4d9221"
            ],
            [
             1,
             "#276419"
            ]
           ],
           "sequential": [
            [
             0,
             "#0d0887"
            ],
            [
             0.1111111111111111,
             "#46039f"
            ],
            [
             0.2222222222222222,
             "#7201a8"
            ],
            [
             0.3333333333333333,
             "#9c179e"
            ],
            [
             0.4444444444444444,
             "#bd3786"
            ],
            [
             0.5555555555555556,
             "#d8576b"
            ],
            [
             0.6666666666666666,
             "#ed7953"
            ],
            [
             0.7777777777777778,
             "#fb9f3a"
            ],
            [
             0.8888888888888888,
             "#fdca26"
            ],
            [
             1,
             "#f0f921"
            ]
           ],
           "sequentialminus": [
            [
             0,
             "#0d0887"
            ],
            [
             0.1111111111111111,
             "#46039f"
            ],
            [
             0.2222222222222222,
             "#7201a8"
            ],
            [
             0.3333333333333333,
             "#9c179e"
            ],
            [
             0.4444444444444444,
             "#bd3786"
            ],
            [
             0.5555555555555556,
             "#d8576b"
            ],
            [
             0.6666666666666666,
             "#ed7953"
            ],
            [
             0.7777777777777778,
             "#fb9f3a"
            ],
            [
             0.8888888888888888,
             "#fdca26"
            ],
            [
             1,
             "#f0f921"
            ]
           ]
          },
          "colorway": [
           "#636efa",
           "#EF553B",
           "#00cc96",
           "#ab63fa",
           "#FFA15A",
           "#19d3f3",
           "#FF6692",
           "#B6E880",
           "#FF97FF",
           "#FECB52"
          ],
          "font": {
           "color": "#2a3f5f"
          },
          "geo": {
           "bgcolor": "white",
           "lakecolor": "white",
           "landcolor": "#E5ECF6",
           "showlakes": true,
           "showland": true,
           "subunitcolor": "white"
          },
          "hoverlabel": {
           "align": "left"
          },
          "hovermode": "closest",
          "mapbox": {
           "style": "light"
          },
          "paper_bgcolor": "white",
          "plot_bgcolor": "#E5ECF6",
          "polar": {
           "angularaxis": {
            "gridcolor": "white",
            "linecolor": "white",
            "ticks": ""
           },
           "bgcolor": "#E5ECF6",
           "radialaxis": {
            "gridcolor": "white",
            "linecolor": "white",
            "ticks": ""
           }
          },
          "scene": {
           "xaxis": {
            "backgroundcolor": "#E5ECF6",
            "gridcolor": "white",
            "gridwidth": 2,
            "linecolor": "white",
            "showbackground": true,
            "ticks": "",
            "zerolinecolor": "white"
           },
           "yaxis": {
            "backgroundcolor": "#E5ECF6",
            "gridcolor": "white",
            "gridwidth": 2,
            "linecolor": "white",
            "showbackground": true,
            "ticks": "",
            "zerolinecolor": "white"
           },
           "zaxis": {
            "backgroundcolor": "#E5ECF6",
            "gridcolor": "white",
            "gridwidth": 2,
            "linecolor": "white",
            "showbackground": true,
            "ticks": "",
            "zerolinecolor": "white"
           }
          },
          "shapedefaults": {
           "line": {
            "color": "#2a3f5f"
           }
          },
          "ternary": {
           "aaxis": {
            "gridcolor": "white",
            "linecolor": "white",
            "ticks": ""
           },
           "baxis": {
            "gridcolor": "white",
            "linecolor": "white",
            "ticks": ""
           },
           "bgcolor": "#E5ECF6",
           "caxis": {
            "gridcolor": "white",
            "linecolor": "white",
            "ticks": ""
           }
          },
          "title": {
           "x": 0.05
          },
          "xaxis": {
           "automargin": true,
           "gridcolor": "white",
           "linecolor": "white",
           "ticks": "",
           "title": {
            "standoff": 15
           },
           "zerolinecolor": "white",
           "zerolinewidth": 2
          },
          "yaxis": {
           "automargin": true,
           "gridcolor": "white",
           "linecolor": "white",
           "ticks": "",
           "title": {
            "standoff": 15
           },
           "zerolinecolor": "white",
           "zerolinewidth": 2
          }
         }
        },
        "title": {
         "font": {
          "size": 20
         },
         "text": "Distribution of TSI-SD in Argentina's Different Geographic Regions"
        },
        "updatemenus": [
         {
          "active": 0,
          "buttons": [
           {
            "args": [
             {
              "y": [
               [
                62.341897774062936,
                57.37274636659912,
                60,
                55.15143507028832,
                57.37274636659912,
                49.30868286244967,
                71.50649590249809,
                73.20374944630657,
                61.518245030629274,
                63.58032818749138,
                65.13968594215713
               ],
               [
                78.3434353884637,
                63.21549857443776,
                58.62658030901968,
                58.62658030901968,
                77.34924811033673,
                47.3844954947303,
                48.638329437150865,
                47.997779538505156,
                46.796250553693426,
                61.518245030629274
               ],
               [
                56.5557664642201,
                43.23899683070014,
                50.75088550025579,
                37.09912069427007,
                37.09912069427007,
                40.02349825626237,
                37.09912069427007,
                34.6692674080703
               ],
               [
                87.33749898220555,
                67.36099723846793,
                84.71024534880466,
                85.53389809223832,
                66.20758182089227,
                79.97650174373763,
                60,
                65.13968594215713,
                59.296933734318486,
                87.33749898220555,
                87.33749898220555,
                49.30868286244967,
                83.19200031817539,
                77.34924811033673,
                71.50649590249809,
                38.00952866663634,
                66.20758182089227,
                69.98825087186881,
                79.97650174373763,
                78.3434353884637,
                83.19200031817539,
                55.15143507028832,
                44.65751827993911,
                75.97582841935642,
                69.42308039533003,
                75.12793681402594
               ],
               [
                58.62658030901968,
                62.68500922173942,
                29.161646584018737,
                49.30868286244967,
                40.02349825626237,
                67.36099723846793,
                57.37274636659912,
                98.31993713220133,
                48.638329437150865
               ],
               [
                28.337993840585074,
                50.011749128131186,
                35.43457999084429,
                22.710320252368724,
                30.40007699744718,
                19.603576911136834,
                30.965247473985965,
                21.465517961763723,
                23.604250235518037,
                26.11668254427429,
                27.558885182080402,
                25.446329118975477,
                23.039079758979256,
                28.337993840585074,
                17.570634310211595,
                31.959434752112937,
                24.805779220329768,
                20.04699651252475,
                61.518245030629274,
                24.805779220329768,
                45.163184198419515,
                54.15724779216135,
                25.446329118975477,
                40.02349825626237,
                41.54174328689166,
                22.495241632746428,
                58.62658030901968,
                26.11668254427429,
                21.971183880244126,
                34.42293662336278,
                36.80799968182461,
                57.37274636659912,
                24.192495176554914,
                24.192495176554914,
                43.23899683070014,
                23.150354443192505,
                23.4894289108734,
                21.465517961763723,
                110.52949930038093
               ]
              ]
             },
             {
              "yaxis.title": "TSI-SD"
             }
            ],
            "label": "TSI-SD",
            "method": "update"
           },
           {
            "args": [
             {
              "y": [
               [
                43.20008389989387,
                45.82916074886269,
                50.56618939459945,
                49.363826593698334,
                62.701588212079365,
                44.130729374697644,
                62.94808994112048,
                87.41903328675038,
                61.67114995145684,
                58.718014521101324,
                68.38168801197558
               ],
               [
                93.0855877986099,
                67.15743803257445,
                48.722832177426916,
                68.38168801197558,
                87.3291887593462,
                52.200389036726435,
                50.56618939459945,
                51.13175207826977,
                49.97753623361738,
                57.69970920187612
               ],
               [
                45.00493642129064,
                43.20008389989387,
                41.136569734595355,
                38.7276498337525,
                27.358094697299727,
                35.83397840518828,
                35.83397840518828,
                45.82916074886269
               ],
               [
                133.58587929302274,
                107.4093979740992,
                106.97756113287332,
                88.62139608765149,
                70.84210796755919,
                85.65889397947394,
                73.06496077066826,
                83.47814339605497,
                67.51795681037657,
                82.56710363467249,
                105.61126127988274,
                49.363826593698334,
                83.76946643557359,
                81.04780499888662,
                79.11232719085322,
                61.401609393421595,
                84.55518606736989,
                77.0610645131226,
                90.4746379162016,
                92.43634631319746,
                110.60920380523511,
                79.65949310400788,
                73.65846017602463,
                74.00317778673289,
                65.81952543621152,
                83.53688074814467
               ],
               [
                50.56618939459945,
                56.60399242325448,
                24.14036468734882,
                35.83397840518828,
                35.83397840518828,
                64.99530110863947,
                53.19526624356828,
                96.58472179795214,
                58.38650566830117
               ],
               [
                83.06014311434268,
                49.97753623361738,
                70.84210796755919,
                19.99198920259414,
                27.358094697299727,
                19.99198920259414,
                42.20520669305203,
                24.14036468734882,
                24.14036468734882,
                14.145182343674412,
                19.99198920259414,
                24.14036468734882,
                19.99198920259414,
                35.83397840518828,
                4.15,
                19.99198920259414,
                35.83397840518828,
                24.14036468734882,
                53.19526624356828,
                19.99198920259414,
                66.21461864400413,
                58.38650566830117,
                24.14036468734882,
                50.56618939459945,
                69.35419128104716,
                32.21002434937762,
                53.19526624356828,
                19.99198920259414,
                14.145182343674412,
                47.34845938464855,
                56.60399242325448,
                86.1072202450238,
                29.987171546268556,
                35.83397840518828,
                54.56963903634664,
                35.83397840518828,
                29.987171546268556,
                29.987171546268556,
                110.07946722694969
               ]
              ]
             },
             {
              "yaxis.title": "TSI-TP"
             }
            ],
            "label": "TSI-TP",
            "method": "update"
           },
           {
            "args": [
             {
              "y": [
               [
                57.42414526740612,
                61.14358518335378,
                50.23451880206132,
                55.98596518558382,
                61.653310222264054,
                49.828529831503715,
                43.69636046464426,
                53.57311495830528,
                62.01894260522489,
                57.42414526740612,
                66.12858961036497
               ],
               [
                44.19954768258613,
                62.21633357061121,
                47.50034032384023,
                66.41295734709158,
                83.4263955341664,
                52.15477310366832,
                49.259674833953795,
                56.558974762338245,
                59.223330881746776,
                69.13266323847333
               ],
               [
                29.888081503290266,
                43.69636046464426,
                45.988122154734825,
                26.6713150716822,
                31.623771750330825,
                34.24503848860266,
                32.05600025021026,
                33.17379343442609
               ],
               [
                47.67397317518535,
                73.87765313614034,
                89.50539610495213,
                76.94959562045862,
                61.817498155271736,
                80.76041236655342,
                55.45556574492241,
                66.93396473342142,
                56.13238581420941,
                70.31382911870001,
                51.70878721397533,
                37.39977384129307,
                71.90642762577815,
                77.63047696076202,
                75.59853097268572,
                35.21073560290067,
                57.61341158819532,
                74.6335227870723,
                77.15631090729008,
                79.97420960043425,
                69.98302581471927,
                50.8759236704299,
                42.31237941571459,
                68.3071302554603,
                61.69461554644558,
                66.25887040958702
               ],
               [
                55.61005712677986,
                50.49613430593732,
                26.52379349473606,
                35.977071017480036,
                38.15476165483849,
                61.69461554644558,
                49.828529831503715,
                58.393822905191485,
                38.200073513688736
               ],
               [
                25.750953082997007,
                56.558974762338245,
                34.10878629830651,
                19.11069495145611,
                22.320653610410673,
                18.456452567624133,
                27.64615903978973,
                20.846385198496666,
                21.853422449826084,
                21.362820223988656,
                15.746406942901903,
                24.735219022587366,
                15.290045589523604,
                26.95986528555594,
                12.622375840629076,
                16.182478733721783,
                19.724019653442994,
                27.64615903978973,
                69.7500833632124,
                20.301244958667972,
                44.44178221209767,
                54.976934234420284,
                26.81665106323443,
                49.96573486527592,
                49.11215325700765,
                23.60203759992207,
                60.03706138578795,
                26.81665106323443,
                23.800226158706938,
                35.747586868852174,
                31.53499286388043,
                52.787895996027885,
                23.1932284482325,
                36.42053635217458,
                40.70056648254716,
                29.78202641630791,
                17.385207513447565,
                18.112206720275577,
                73.31412743991845
               ]
              ]
             },
             {
              "yaxis.title": "TSI-CHL"
             }
            ],
            "label": "TSI-CHL",
            "method": "update"
           }
          ],
          "direction": "right",
          "showactive": true,
          "type": "buttons",
          "x": 0.7,
          "y": 1.15
         }
        ],
        "violinmode": "overlay",
        "xaxis": {
         "anchor": "y",
         "categoryarray": [
          "ANW",
          "Pampa Mountains",
          "Cuyo",
          "Pampa Plains",
          "Patagonian Plateau",
          "Patagonian Andes"
         ],
         "categoryorder": "array",
         "domain": [
          0,
          1
         ],
         "gridcolor": "#BCCCDC",
         "linecolor": "#BCCCDC",
         "minor": {
          "dtick": "M3",
          "showgrid": true,
          "ticks": "inside"
         },
         "showgrid": true,
         "showspikes": false,
         "spikecolor": "#999999",
         "spikedash": "dot",
         "spikemode": "across",
         "spikethickness": 2,
         "tickfont": {
          "size": 14
         },
         "title": {
          "font": {
           "size": 18
          }
         }
        },
        "yaxis": {
         "anchor": "x",
         "domain": [
          0,
          1
         ],
         "gridcolor": "#BCCCDC",
         "linecolor": "#BCCCDC",
         "range": [
          0,
          140
         ],
         "showgrid": false,
         "tickfont": {
          "size": 14
         },
         "title": {
          "font": {
           "size": 18
          },
          "text": "TSI-SD"
         }
        }
       }
      }
     },
     "metadata": {},
     "output_type": "display_data"
    }
   ],
   "source": [
    "fig3 = px.violin(data_frame=data, x='REGION', y='TSI-SD', color='REGION', box=True, color_discrete_sequence=colors_region, points='all', hover_name=data.index)\n",
    "fig_title = 'Distribution of TSI-SD in Argentina\\'s Different Geographic Regions'\n",
    "yaxis_title='TSI-SD'\n",
    "\n",
    "apply_custom_layout(fig3, fig_title, yaxis_title, show_xspikes=False, show_legend=False)\n",
    "fig3.update_traces(marker={\n",
    "    'size': 8,\n",
    "    'line_width': 1,\n",
    "    'line_color':'DarkSlateGrey'\n",
    "    })\n",
    "\n",
    "buttons = [dict(label=tsi,\n",
    "                     method='update',\n",
    "                     args=[{'y': [df_dict[region][tsi] for region in region_list]}, {'yaxis.title': tsi}]) for tsi in tsi_list]\n",
    "\n",
    "\n",
    "fig3.update_layout(\n",
    "    yaxis_range=[0, 140],\n",
    "    updatemenus=[\n",
    "        dict(\n",
    "            type=\"buttons\",\n",
    "            direction=\"right\",\n",
    "            showactive=True,\n",
    "            active=0,\n",
    "            x=0.7,\n",
    "            y=1.15,\n",
    "            buttons=buttons,\n",
    "        )\n",
    "    ])\n",
    "\n",
    "fig3.add_hline(y=50, line_dash=\"dot\", line_color='DarkSlateGrey',\n",
    "              annotation_text=\"Eutrophic\", \n",
    "              annotation_position=\"top right\")\n",
    "fig3.add_hline(y=30, line_dash=\"dot\", line_color='DarkSlateGrey',\n",
    "              annotation_text=\"Oligotrophic\", \n",
    "              annotation_position=\"bottom right\")\n",
    "\n",
    "fig3.show()"
   ]
  },
  {
   "cell_type": "code",
   "execution_count": 259,
   "id": "900a95d5",
   "metadata": {},
   "outputs": [
    {
     "data": {
      "application/vnd.plotly.v1+json": {
       "config": {
        "plotlyServerURL": "https://plot.ly"
       },
       "data": [
        {
         "alignmentgroup": "True",
         "box": {
          "visible": true
         },
         "hovertemplate": "<b>%{hovertext}</b><br><br>DEPTH=%{x}<br>TSI-SD=%{y}<extra></extra>",
         "hovertext": [
          "Rodeo",
          "Comedero",
          "Anzulón",
          "Portezuelo",
          "Saladillo",
          "El Nihuil",
          "Melincué",
          "El Carpincho",
          "De Gómez",
          "Navarro",
          "Las mulitas",
          "De Lobos",
          "Indio Muerto",
          "De Monte",
          "La Chilca",
          "Chascomús",
          "La Limpia",
          "La Tablilla",
          "Blanca Grande",
          "Alsina",
          "Cochicó",
          "Salada Grande",
          "Los Horcones",
          "Dulce",
          "Del Venado",
          "Epecuén",
          "La Brava",
          "De los Padres",
          "De Pigüé",
          "De Saavedra",
          "La Dulce",
          "Urre Lauquen",
          "Sauce Grande",
          "Esquel",
          "Brechman",
          "Terraplén",
          "Quichaura",
          "Cronometro",
          "Los Niños",
          "Pico 3",
          "Blanco",
          "Colhue Huapi"
         ],
         "legendgroup": "Shallow",
         "marker": {
          "color": "mediumseagreen",
          "line": {
           "color": "DarkSlateGrey",
           "width": 1
          },
          "size": 8
         },
         "name": "Shallow",
         "offsetgroup": "Shallow",
         "orientation": "v",
         "points": "all",
         "scalegroup": "True",
         "showlegend": true,
         "type": "violin",
         "x": [
          "Shallow",
          "Shallow",
          "Shallow",
          "Shallow",
          "Shallow",
          "Shallow",
          "Shallow",
          "Shallow",
          "Shallow",
          "Shallow",
          "Shallow",
          "Shallow",
          "Shallow",
          "Shallow",
          "Shallow",
          "Shallow",
          "Shallow",
          "Shallow",
          "Shallow",
          "Shallow",
          "Shallow",
          "Shallow",
          "Shallow",
          "Shallow",
          "Shallow",
          "Shallow",
          "Shallow",
          "Shallow",
          "Shallow",
          "Shallow",
          "Shallow",
          "Shallow",
          "Shallow",
          "Shallow",
          "Shallow",
          "Shallow",
          "Shallow",
          "Shallow",
          "Shallow",
          "Shallow",
          "Shallow",
          "Shallow"
         ],
         "x0": " ",
         "xaxis": "x",
         "y": [
          62.341897774062936,
          57.37274636659912,
          78.3434353884637,
          63.21549857443776,
          77.34924811033673,
          34.6692674080703,
          87.33749898220555,
          67.36099723846793,
          84.71024534880466,
          85.53389809223832,
          66.20758182089227,
          79.97650174373763,
          60,
          65.13968594215713,
          59.296933734318486,
          87.33749898220555,
          87.33749898220555,
          49.30868286244967,
          83.19200031817539,
          77.34924811033673,
          71.50649590249809,
          38.00952866663634,
          66.20758182089227,
          79.97650174373763,
          78.3434353884637,
          83.19200031817539,
          55.15143507028832,
          44.65751827993911,
          75.97582841935642,
          69.42308039533003,
          58.62658030901968,
          62.68500922173942,
          75.12793681402594,
          45.163184198419515,
          54.15724779216135,
          58.62658030901968,
          36.80799968182461,
          57.37274636659912,
          24.192495176554914,
          43.23899683070014,
          110.52949930038093,
          98.31993713220133
         ],
         "y0": " ",
         "yaxis": "y"
        },
        {
         "alignmentgroup": "True",
         "box": {
          "visible": true
         },
         "hovertemplate": "<b>%{hovertext}</b><br><br>DEPTH=%{x}<br>TSI-SD=%{y}<extra></extra>",
         "hovertext": [
          "La Ciénaga",
          "Las Maderas",
          "Campo Alegre",
          "Cabra Corral",
          "El Cadillal",
          "Río Hondo",
          "Sumampa",
          "las Pirquitas",
          "Los Sauces",
          "Cruz del Eje",
          "Mar Chiquita",
          "San Roque",
          "Ullum",
          "La Viña",
          "Los Molinos",
          "Río Tercero",
          "San Felipe",
          "La Florida",
          "El Carrizal",
          "El Diamante",
          "Agua del Toro",
          "Los Reyunos",
          "Valle Grande",
          "Del Monte",
          "Agrio",
          "Pellegrini",
          "Marri Menuco",
          "Los Barreales",
          "Blanca ",
          "Aluminé",
          "Ramos Mexía",
          "Norquinco",
          "Quillén",
          "Huechulafquen",
          "Lacar",
          "Nahuel Huapi",
          "Gutierrez",
          "Ne Luan",
          "Mascardi",
          "Guillermo",
          "Steffen",
          "Las Chultas",
          "Epuyen",
          "Puelo",
          "Cholila",
          "Lezama",
          "Los Mosquitos",
          "Rivadavia",
          "Verde",
          "Wilimanco",
          "Zeta",
          "Largo",
          "Amutui Quimen",
          "Futalaufquen",
          "Rosario",
          "Pico 4",
          "Pico 1",
          "La Plata",
          "Fontana",
          "Muster",
          "Ameghino"
         ],
         "legendgroup": "Deep",
         "marker": {
          "color": "indianred",
          "line": {
           "color": "DarkSlateGrey",
           "width": 1
          },
          "size": 8
         },
         "name": "Deep",
         "offsetgroup": "Deep",
         "orientation": "v",
         "points": "all",
         "scalegroup": "True",
         "showlegend": true,
         "type": "violin",
         "x": [
          "Deep",
          "Deep",
          "Deep",
          "Deep",
          "Deep",
          "Deep",
          "Deep",
          "Deep",
          "Deep",
          "Deep",
          "Deep",
          "Deep",
          "Deep",
          "Deep",
          "Deep",
          "Deep",
          "Deep",
          "Deep",
          "Deep",
          "Deep",
          "Deep",
          "Deep",
          "Deep",
          "Deep",
          "Deep",
          "Deep",
          "Deep",
          "Deep",
          "Deep",
          "Deep",
          "Deep",
          "Deep",
          "Deep",
          "Deep",
          "Deep",
          "Deep",
          "Deep",
          "Deep",
          "Deep",
          "Deep",
          "Deep",
          "Deep",
          "Deep",
          "Deep",
          "Deep",
          "Deep",
          "Deep",
          "Deep",
          "Deep",
          "Deep",
          "Deep",
          "Deep",
          "Deep",
          "Deep",
          "Deep",
          "Deep",
          "Deep",
          "Deep",
          "Deep",
          "Deep",
          "Deep"
         ],
         "x0": " ",
         "xaxis": "x",
         "y": [
          60,
          55.15143507028832,
          57.37274636659912,
          49.30868286244967,
          71.50649590249809,
          73.20374944630657,
          61.518245030629274,
          63.58032818749138,
          65.13968594215713,
          58.62658030901968,
          58.62658030901968,
          47.3844954947303,
          56.5557664642201,
          48.638329437150865,
          47.997779538505156,
          46.796250553693426,
          61.518245030629274,
          43.23899683070014,
          50.75088550025579,
          37.09912069427007,
          37.09912069427007,
          40.02349825626237,
          37.09912069427007,
          69.98825087186881,
          28.337993840585074,
          50.011749128131186,
          29.161646584018737,
          49.30868286244967,
          35.43457999084429,
          22.710320252368724,
          40.02349825626237,
          30.40007699744718,
          19.603576911136834,
          30.965247473985965,
          21.465517961763723,
          23.604250235518037,
          26.11668254427429,
          67.36099723846793,
          27.558885182080402,
          25.446329118975477,
          23.039079758979256,
          28.337993840585074,
          17.570634310211595,
          31.959434752112937,
          24.805779220329768,
          20.04699651252475,
          61.518245030629274,
          24.805779220329768,
          25.446329118975477,
          40.02349825626237,
          41.54174328689166,
          22.495241632746428,
          26.11668254427429,
          21.971183880244126,
          34.42293662336278,
          24.192495176554914,
          23.150354443192505,
          23.4894289108734,
          21.465517961763723,
          57.37274636659912,
          48.638329437150865
         ],
         "y0": " ",
         "yaxis": "y"
        }
       ],
       "layout": {
        "annotations": [
         {
          "showarrow": false,
          "text": "Eutrophic",
          "x": 1,
          "xanchor": "right",
          "xref": "x domain",
          "y": 50,
          "yanchor": "bottom",
          "yref": "y"
         },
         {
          "showarrow": false,
          "text": "Oligotrophic",
          "x": 1,
          "xanchor": "right",
          "xref": "x domain",
          "y": 30,
          "yanchor": "top",
          "yref": "y"
         }
        ],
        "autosize": true,
        "font": {
         "family": "Open Sans"
        },
        "hoverdistance": 1,
        "hovermode": "x",
        "legend": {
         "font": {
          "size": 16
         },
         "orientation": "h",
         "title": {
          "text": "Legend"
         },
         "tracegroupgap": 0,
         "x": 1,
         "xanchor": "right",
         "y": 1.02,
         "yanchor": "bottom"
        },
        "margin": {
         "t": 60
        },
        "plot_bgcolor": "#FFFFFF",
        "shapes": [
         {
          "line": {
           "color": "DarkSlateGrey",
           "dash": "dot"
          },
          "type": "line",
          "x0": 0,
          "x1": 1,
          "xref": "x domain",
          "y0": 50,
          "y1": 50,
          "yref": "y"
         },
         {
          "line": {
           "color": "DarkSlateGrey",
           "dash": "dot"
          },
          "type": "line",
          "x0": 0,
          "x1": 1,
          "xref": "x domain",
          "y0": 30,
          "y1": 30,
          "yref": "y"
         }
        ],
        "showlegend": false,
        "spikedistance": 1000,
        "template": {
         "data": {
          "bar": [
           {
            "error_x": {
             "color": "#2a3f5f"
            },
            "error_y": {
             "color": "#2a3f5f"
            },
            "marker": {
             "line": {
              "color": "#E5ECF6",
              "width": 0.5
             },
             "pattern": {
              "fillmode": "overlay",
              "size": 10,
              "solidity": 0.2
             }
            },
            "type": "bar"
           }
          ],
          "barpolar": [
           {
            "marker": {
             "line": {
              "color": "#E5ECF6",
              "width": 0.5
             },
             "pattern": {
              "fillmode": "overlay",
              "size": 10,
              "solidity": 0.2
             }
            },
            "type": "barpolar"
           }
          ],
          "carpet": [
           {
            "aaxis": {
             "endlinecolor": "#2a3f5f",
             "gridcolor": "white",
             "linecolor": "white",
             "minorgridcolor": "white",
             "startlinecolor": "#2a3f5f"
            },
            "baxis": {
             "endlinecolor": "#2a3f5f",
             "gridcolor": "white",
             "linecolor": "white",
             "minorgridcolor": "white",
             "startlinecolor": "#2a3f5f"
            },
            "type": "carpet"
           }
          ],
          "choropleth": [
           {
            "colorbar": {
             "outlinewidth": 0,
             "ticks": ""
            },
            "type": "choropleth"
           }
          ],
          "contour": [
           {
            "colorbar": {
             "outlinewidth": 0,
             "ticks": ""
            },
            "colorscale": [
             [
              0,
              "#0d0887"
             ],
             [
              0.1111111111111111,
              "#46039f"
             ],
             [
              0.2222222222222222,
              "#7201a8"
             ],
             [
              0.3333333333333333,
              "#9c179e"
             ],
             [
              0.4444444444444444,
              "#bd3786"
             ],
             [
              0.5555555555555556,
              "#d8576b"
             ],
             [
              0.6666666666666666,
              "#ed7953"
             ],
             [
              0.7777777777777778,
              "#fb9f3a"
             ],
             [
              0.8888888888888888,
              "#fdca26"
             ],
             [
              1,
              "#f0f921"
             ]
            ],
            "type": "contour"
           }
          ],
          "contourcarpet": [
           {
            "colorbar": {
             "outlinewidth": 0,
             "ticks": ""
            },
            "type": "contourcarpet"
           }
          ],
          "heatmap": [
           {
            "colorbar": {
             "outlinewidth": 0,
             "ticks": ""
            },
            "colorscale": [
             [
              0,
              "#0d0887"
             ],
             [
              0.1111111111111111,
              "#46039f"
             ],
             [
              0.2222222222222222,
              "#7201a8"
             ],
             [
              0.3333333333333333,
              "#9c179e"
             ],
             [
              0.4444444444444444,
              "#bd3786"
             ],
             [
              0.5555555555555556,
              "#d8576b"
             ],
             [
              0.6666666666666666,
              "#ed7953"
             ],
             [
              0.7777777777777778,
              "#fb9f3a"
             ],
             [
              0.8888888888888888,
              "#fdca26"
             ],
             [
              1,
              "#f0f921"
             ]
            ],
            "type": "heatmap"
           }
          ],
          "heatmapgl": [
           {
            "colorbar": {
             "outlinewidth": 0,
             "ticks": ""
            },
            "colorscale": [
             [
              0,
              "#0d0887"
             ],
             [
              0.1111111111111111,
              "#46039f"
             ],
             [
              0.2222222222222222,
              "#7201a8"
             ],
             [
              0.3333333333333333,
              "#9c179e"
             ],
             [
              0.4444444444444444,
              "#bd3786"
             ],
             [
              0.5555555555555556,
              "#d8576b"
             ],
             [
              0.6666666666666666,
              "#ed7953"
             ],
             [
              0.7777777777777778,
              "#fb9f3a"
             ],
             [
              0.8888888888888888,
              "#fdca26"
             ],
             [
              1,
              "#f0f921"
             ]
            ],
            "type": "heatmapgl"
           }
          ],
          "histogram": [
           {
            "marker": {
             "pattern": {
              "fillmode": "overlay",
              "size": 10,
              "solidity": 0.2
             }
            },
            "type": "histogram"
           }
          ],
          "histogram2d": [
           {
            "colorbar": {
             "outlinewidth": 0,
             "ticks": ""
            },
            "colorscale": [
             [
              0,
              "#0d0887"
             ],
             [
              0.1111111111111111,
              "#46039f"
             ],
             [
              0.2222222222222222,
              "#7201a8"
             ],
             [
              0.3333333333333333,
              "#9c179e"
             ],
             [
              0.4444444444444444,
              "#bd3786"
             ],
             [
              0.5555555555555556,
              "#d8576b"
             ],
             [
              0.6666666666666666,
              "#ed7953"
             ],
             [
              0.7777777777777778,
              "#fb9f3a"
             ],
             [
              0.8888888888888888,
              "#fdca26"
             ],
             [
              1,
              "#f0f921"
             ]
            ],
            "type": "histogram2d"
           }
          ],
          "histogram2dcontour": [
           {
            "colorbar": {
             "outlinewidth": 0,
             "ticks": ""
            },
            "colorscale": [
             [
              0,
              "#0d0887"
             ],
             [
              0.1111111111111111,
              "#46039f"
             ],
             [
              0.2222222222222222,
              "#7201a8"
             ],
             [
              0.3333333333333333,
              "#9c179e"
             ],
             [
              0.4444444444444444,
              "#bd3786"
             ],
             [
              0.5555555555555556,
              "#d8576b"
             ],
             [
              0.6666666666666666,
              "#ed7953"
             ],
             [
              0.7777777777777778,
              "#fb9f3a"
             ],
             [
              0.8888888888888888,
              "#fdca26"
             ],
             [
              1,
              "#f0f921"
             ]
            ],
            "type": "histogram2dcontour"
           }
          ],
          "mesh3d": [
           {
            "colorbar": {
             "outlinewidth": 0,
             "ticks": ""
            },
            "type": "mesh3d"
           }
          ],
          "parcoords": [
           {
            "line": {
             "colorbar": {
              "outlinewidth": 0,
              "ticks": ""
             }
            },
            "type": "parcoords"
           }
          ],
          "pie": [
           {
            "automargin": true,
            "type": "pie"
           }
          ],
          "scatter": [
           {
            "fillpattern": {
             "fillmode": "overlay",
             "size": 10,
             "solidity": 0.2
            },
            "type": "scatter"
           }
          ],
          "scatter3d": [
           {
            "line": {
             "colorbar": {
              "outlinewidth": 0,
              "ticks": ""
             }
            },
            "marker": {
             "colorbar": {
              "outlinewidth": 0,
              "ticks": ""
             }
            },
            "type": "scatter3d"
           }
          ],
          "scattercarpet": [
           {
            "marker": {
             "colorbar": {
              "outlinewidth": 0,
              "ticks": ""
             }
            },
            "type": "scattercarpet"
           }
          ],
          "scattergeo": [
           {
            "marker": {
             "colorbar": {
              "outlinewidth": 0,
              "ticks": ""
             }
            },
            "type": "scattergeo"
           }
          ],
          "scattergl": [
           {
            "marker": {
             "colorbar": {
              "outlinewidth": 0,
              "ticks": ""
             }
            },
            "type": "scattergl"
           }
          ],
          "scattermapbox": [
           {
            "marker": {
             "colorbar": {
              "outlinewidth": 0,
              "ticks": ""
             }
            },
            "type": "scattermapbox"
           }
          ],
          "scatterpolar": [
           {
            "marker": {
             "colorbar": {
              "outlinewidth": 0,
              "ticks": ""
             }
            },
            "type": "scatterpolar"
           }
          ],
          "scatterpolargl": [
           {
            "marker": {
             "colorbar": {
              "outlinewidth": 0,
              "ticks": ""
             }
            },
            "type": "scatterpolargl"
           }
          ],
          "scatterternary": [
           {
            "marker": {
             "colorbar": {
              "outlinewidth": 0,
              "ticks": ""
             }
            },
            "type": "scatterternary"
           }
          ],
          "surface": [
           {
            "colorbar": {
             "outlinewidth": 0,
             "ticks": ""
            },
            "colorscale": [
             [
              0,
              "#0d0887"
             ],
             [
              0.1111111111111111,
              "#46039f"
             ],
             [
              0.2222222222222222,
              "#7201a8"
             ],
             [
              0.3333333333333333,
              "#9c179e"
             ],
             [
              0.4444444444444444,
              "#bd3786"
             ],
             [
              0.5555555555555556,
              "#d8576b"
             ],
             [
              0.6666666666666666,
              "#ed7953"
             ],
             [
              0.7777777777777778,
              "#fb9f3a"
             ],
             [
              0.8888888888888888,
              "#fdca26"
             ],
             [
              1,
              "#f0f921"
             ]
            ],
            "type": "surface"
           }
          ],
          "table": [
           {
            "cells": {
             "fill": {
              "color": "#EBF0F8"
             },
             "line": {
              "color": "white"
             }
            },
            "header": {
             "fill": {
              "color": "#C8D4E3"
             },
             "line": {
              "color": "white"
             }
            },
            "type": "table"
           }
          ]
         },
         "layout": {
          "annotationdefaults": {
           "arrowcolor": "#2a3f5f",
           "arrowhead": 0,
           "arrowwidth": 1
          },
          "autotypenumbers": "strict",
          "coloraxis": {
           "colorbar": {
            "outlinewidth": 0,
            "ticks": ""
           }
          },
          "colorscale": {
           "diverging": [
            [
             0,
             "#8e0152"
            ],
            [
             0.1,
             "#c51b7d"
            ],
            [
             0.2,
             "#de77ae"
            ],
            [
             0.3,
             "#f1b6da"
            ],
            [
             0.4,
             "#fde0ef"
            ],
            [
             0.5,
             "#f7f7f7"
            ],
            [
             0.6,
             "#e6f5d0"
            ],
            [
             0.7,
             "#b8e186"
            ],
            [
             0.8,
             "#7fbc41"
            ],
            [
             0.9,
             "#4d9221"
            ],
            [
             1,
             "#276419"
            ]
           ],
           "sequential": [
            [
             0,
             "#0d0887"
            ],
            [
             0.1111111111111111,
             "#46039f"
            ],
            [
             0.2222222222222222,
             "#7201a8"
            ],
            [
             0.3333333333333333,
             "#9c179e"
            ],
            [
             0.4444444444444444,
             "#bd3786"
            ],
            [
             0.5555555555555556,
             "#d8576b"
            ],
            [
             0.6666666666666666,
             "#ed7953"
            ],
            [
             0.7777777777777778,
             "#fb9f3a"
            ],
            [
             0.8888888888888888,
             "#fdca26"
            ],
            [
             1,
             "#f0f921"
            ]
           ],
           "sequentialminus": [
            [
             0,
             "#0d0887"
            ],
            [
             0.1111111111111111,
             "#46039f"
            ],
            [
             0.2222222222222222,
             "#7201a8"
            ],
            [
             0.3333333333333333,
             "#9c179e"
            ],
            [
             0.4444444444444444,
             "#bd3786"
            ],
            [
             0.5555555555555556,
             "#d8576b"
            ],
            [
             0.6666666666666666,
             "#ed7953"
            ],
            [
             0.7777777777777778,
             "#fb9f3a"
            ],
            [
             0.8888888888888888,
             "#fdca26"
            ],
            [
             1,
             "#f0f921"
            ]
           ]
          },
          "colorway": [
           "#636efa",
           "#EF553B",
           "#00cc96",
           "#ab63fa",
           "#FFA15A",
           "#19d3f3",
           "#FF6692",
           "#B6E880",
           "#FF97FF",
           "#FECB52"
          ],
          "font": {
           "color": "#2a3f5f"
          },
          "geo": {
           "bgcolor": "white",
           "lakecolor": "white",
           "landcolor": "#E5ECF6",
           "showlakes": true,
           "showland": true,
           "subunitcolor": "white"
          },
          "hoverlabel": {
           "align": "left"
          },
          "hovermode": "closest",
          "mapbox": {
           "style": "light"
          },
          "paper_bgcolor": "white",
          "plot_bgcolor": "#E5ECF6",
          "polar": {
           "angularaxis": {
            "gridcolor": "white",
            "linecolor": "white",
            "ticks": ""
           },
           "bgcolor": "#E5ECF6",
           "radialaxis": {
            "gridcolor": "white",
            "linecolor": "white",
            "ticks": ""
           }
          },
          "scene": {
           "xaxis": {
            "backgroundcolor": "#E5ECF6",
            "gridcolor": "white",
            "gridwidth": 2,
            "linecolor": "white",
            "showbackground": true,
            "ticks": "",
            "zerolinecolor": "white"
           },
           "yaxis": {
            "backgroundcolor": "#E5ECF6",
            "gridcolor": "white",
            "gridwidth": 2,
            "linecolor": "white",
            "showbackground": true,
            "ticks": "",
            "zerolinecolor": "white"
           },
           "zaxis": {
            "backgroundcolor": "#E5ECF6",
            "gridcolor": "white",
            "gridwidth": 2,
            "linecolor": "white",
            "showbackground": true,
            "ticks": "",
            "zerolinecolor": "white"
           }
          },
          "shapedefaults": {
           "line": {
            "color": "#2a3f5f"
           }
          },
          "ternary": {
           "aaxis": {
            "gridcolor": "white",
            "linecolor": "white",
            "ticks": ""
           },
           "baxis": {
            "gridcolor": "white",
            "linecolor": "white",
            "ticks": ""
           },
           "bgcolor": "#E5ECF6",
           "caxis": {
            "gridcolor": "white",
            "linecolor": "white",
            "ticks": ""
           }
          },
          "title": {
           "x": 0.05
          },
          "xaxis": {
           "automargin": true,
           "gridcolor": "white",
           "linecolor": "white",
           "ticks": "",
           "title": {
            "standoff": 15
           },
           "zerolinecolor": "white",
           "zerolinewidth": 2
          },
          "yaxis": {
           "automargin": true,
           "gridcolor": "white",
           "linecolor": "white",
           "ticks": "",
           "title": {
            "standoff": 15
           },
           "zerolinecolor": "white",
           "zerolinewidth": 2
          }
         }
        },
        "title": {
         "font": {
          "size": 20
         },
         "text": "Difference in TSI-Chl in Between Shallow and Deep Waterbodies"
        },
        "updatemenus": [
         {
          "active": 0,
          "buttons": [
           {
            "args": [
             {
              "y": [
               [
                62.341897774062936,
                57.37274636659912,
                78.3434353884637,
                63.21549857443776,
                77.34924811033673,
                34.6692674080703,
                87.33749898220555,
                67.36099723846793,
                84.71024534880466,
                85.53389809223832,
                66.20758182089227,
                79.97650174373763,
                60,
                65.13968594215713,
                59.296933734318486,
                87.33749898220555,
                87.33749898220555,
                49.30868286244967,
                83.19200031817539,
                77.34924811033673,
                71.50649590249809,
                38.00952866663634,
                66.20758182089227,
                79.97650174373763,
                78.3434353884637,
                83.19200031817539,
                55.15143507028832,
                44.65751827993911,
                75.97582841935642,
                69.42308039533003,
                58.62658030901968,
                62.68500922173942,
                75.12793681402594,
                45.163184198419515,
                54.15724779216135,
                58.62658030901968,
                36.80799968182461,
                57.37274636659912,
                24.192495176554914,
                43.23899683070014,
                110.52949930038093,
                98.31993713220133
               ],
               [
                60,
                55.15143507028832,
                57.37274636659912,
                49.30868286244967,
                71.50649590249809,
                73.20374944630657,
                61.518245030629274,
                63.58032818749138,
                65.13968594215713,
                58.62658030901968,
                58.62658030901968,
                47.3844954947303,
                56.5557664642201,
                48.638329437150865,
                47.997779538505156,
                46.796250553693426,
                61.518245030629274,
                43.23899683070014,
                50.75088550025579,
                37.09912069427007,
                37.09912069427007,
                40.02349825626237,
                37.09912069427007,
                69.98825087186881,
                28.337993840585074,
                50.011749128131186,
                29.161646584018737,
                49.30868286244967,
                35.43457999084429,
                22.710320252368724,
                40.02349825626237,
                30.40007699744718,
                19.603576911136834,
                30.965247473985965,
                21.465517961763723,
                23.604250235518037,
                26.11668254427429,
                67.36099723846793,
                27.558885182080402,
                25.446329118975477,
                23.039079758979256,
                28.337993840585074,
                17.570634310211595,
                31.959434752112937,
                24.805779220329768,
                20.04699651252475,
                61.518245030629274,
                24.805779220329768,
                25.446329118975477,
                40.02349825626237,
                41.54174328689166,
                22.495241632746428,
                26.11668254427429,
                21.971183880244126,
                34.42293662336278,
                24.192495176554914,
                23.150354443192505,
                23.4894289108734,
                21.465517961763723,
                57.37274636659912,
                48.638329437150865
               ]
              ]
             },
             {
              "yaxis.title": "TSI-SD"
             }
            ],
            "label": "TSI-SD",
            "method": "update"
           },
           {
            "args": [
             {
              "y": [
               [
                43.20008389989387,
                45.82916074886269,
                93.0855877986099,
                67.15743803257445,
                87.3291887593462,
                45.82916074886269,
                133.58587929302274,
                107.4093979740992,
                106.97756113287332,
                88.62139608765149,
                70.84210796755919,
                85.65889397947394,
                73.06496077066826,
                83.47814339605497,
                67.51795681037657,
                82.56710363467249,
                105.61126127988274,
                49.363826593698334,
                83.76946643557359,
                81.04780499888662,
                79.11232719085322,
                61.401609393421595,
                84.55518606736989,
                90.4746379162016,
                92.43634631319746,
                110.60920380523511,
                79.65949310400788,
                73.65846017602463,
                74.00317778673289,
                65.81952543621152,
                50.56618939459945,
                56.60399242325448,
                83.53688074814467,
                66.21461864400413,
                58.38650566830117,
                53.19526624356828,
                56.60399242325448,
                86.1072202450238,
                29.987171546268556,
                54.56963903634664,
                110.07946722694969,
                96.58472179795214
               ],
               [
                50.56618939459945,
                49.363826593698334,
                62.701588212079365,
                44.130729374697644,
                62.94808994112048,
                87.41903328675038,
                61.67114995145684,
                58.718014521101324,
                68.38168801197558,
                48.722832177426916,
                68.38168801197558,
                52.200389036726435,
                45.00493642129064,
                50.56618939459945,
                51.13175207826977,
                49.97753623361738,
                57.69970920187612,
                43.20008389989387,
                41.136569734595355,
                38.7276498337525,
                27.358094697299727,
                35.83397840518828,
                35.83397840518828,
                77.0610645131226,
                83.06014311434268,
                49.97753623361738,
                24.14036468734882,
                35.83397840518828,
                70.84210796755919,
                19.99198920259414,
                35.83397840518828,
                27.358094697299727,
                19.99198920259414,
                42.20520669305203,
                24.14036468734882,
                24.14036468734882,
                14.145182343674412,
                64.99530110863947,
                19.99198920259414,
                24.14036468734882,
                19.99198920259414,
                35.83397840518828,
                4.15,
                19.99198920259414,
                35.83397840518828,
                24.14036468734882,
                53.19526624356828,
                19.99198920259414,
                24.14036468734882,
                50.56618939459945,
                69.35419128104716,
                32.21002434937762,
                19.99198920259414,
                14.145182343674412,
                47.34845938464855,
                35.83397840518828,
                35.83397840518828,
                29.987171546268556,
                29.987171546268556,
                53.19526624356828,
                58.38650566830117
               ]
              ]
             },
             {
              "yaxis.title": "TSI-TP"
             }
            ],
            "label": "TSI-TP",
            "method": "update"
           },
           {
            "args": [
             {
              "y": [
               [
                57.42414526740612,
                61.14358518335378,
                44.19954768258613,
                62.21633357061121,
                83.4263955341664,
                33.17379343442609,
                47.67397317518535,
                73.87765313614034,
                89.50539610495213,
                76.94959562045862,
                61.817498155271736,
                80.76041236655342,
                55.45556574492241,
                66.93396473342142,
                56.13238581420941,
                70.31382911870001,
                51.70878721397533,
                37.39977384129307,
                71.90642762577815,
                77.63047696076202,
                75.59853097268572,
                35.21073560290067,
                57.61341158819532,
                77.15631090729008,
                79.97420960043425,
                69.98302581471927,
                50.8759236704299,
                42.31237941571459,
                68.3071302554603,
                61.69461554644558,
                55.61005712677986,
                50.49613430593732,
                66.25887040958702,
                44.44178221209767,
                54.976934234420284,
                60.03706138578795,
                31.53499286388043,
                52.787895996027885,
                23.1932284482325,
                40.70056648254716,
                73.31412743991845,
                58.393822905191485
               ],
               [
                50.23451880206132,
                55.98596518558382,
                61.653310222264054,
                49.828529831503715,
                43.69636046464426,
                53.57311495830528,
                62.01894260522489,
                57.42414526740612,
                66.12858961036497,
                47.50034032384023,
                66.41295734709158,
                52.15477310366832,
                29.888081503290266,
                49.259674833953795,
                56.558974762338245,
                59.223330881746776,
                69.13266323847333,
                43.69636046464426,
                45.988122154734825,
                26.6713150716822,
                31.623771750330825,
                34.24503848860266,
                32.05600025021026,
                74.6335227870723,
                25.750953082997007,
                56.558974762338245,
                26.52379349473606,
                35.977071017480036,
                34.10878629830651,
                19.11069495145611,
                38.15476165483849,
                22.320653610410673,
                18.456452567624133,
                27.64615903978973,
                20.846385198496666,
                21.853422449826084,
                21.362820223988656,
                61.69461554644558,
                15.746406942901903,
                24.735219022587366,
                15.290045589523604,
                26.95986528555594,
                12.622375840629076,
                16.182478733721783,
                19.724019653442994,
                27.64615903978973,
                69.7500833632124,
                20.301244958667972,
                26.81665106323443,
                49.96573486527592,
                49.11215325700765,
                23.60203759992207,
                26.81665106323443,
                23.800226158706938,
                35.747586868852174,
                36.42053635217458,
                29.78202641630791,
                17.385207513447565,
                18.112206720275577,
                49.828529831503715,
                38.200073513688736
               ]
              ]
             },
             {
              "yaxis.title": "TSI-CHL"
             }
            ],
            "label": "TSI-CHL",
            "method": "update"
           }
          ],
          "direction": "right",
          "showactive": true,
          "type": "buttons",
          "x": 0.7,
          "y": 1.15
         }
        ],
        "violinmode": "overlay",
        "xaxis": {
         "anchor": "y",
         "categoryarray": [
          "Shallow",
          "Deep"
         ],
         "categoryorder": "array",
         "domain": [
          0,
          1
         ],
         "gridcolor": "#BCCCDC",
         "linecolor": "#BCCCDC",
         "minor": {
          "dtick": "M3",
          "showgrid": true,
          "ticks": "inside"
         },
         "showgrid": true,
         "showspikes": false,
         "spikecolor": "#999999",
         "spikedash": "dot",
         "spikemode": "across",
         "spikethickness": 2,
         "tickfont": {
          "size": 14
         },
         "title": {
          "font": {
           "size": 18
          }
         }
        },
        "yaxis": {
         "anchor": "x",
         "domain": [
          0,
          1
         ],
         "gridcolor": "#BCCCDC",
         "linecolor": "#BCCCDC",
         "range": [
          0,
          140
         ],
         "showgrid": false,
         "tickfont": {
          "size": 14
         },
         "title": {
          "font": {
           "size": 18
          },
          "text": "TSI-SD"
         }
        }
       }
      }
     },
     "metadata": {},
     "output_type": "display_data"
    }
   ],
   "source": [
    "fig5 = px.violin(data_frame=data, x='DEPTH', y='TSI-SD', color='DEPTH', box=True, color_discrete_sequence=colors_depth, points='all', hover_name=data.index)\n",
    "fig_title = 'Difference in TSI-Chl in Between Shallow and Deep Waterbodies'\n",
    "yaxis_title='TSI-SD'\n",
    "\n",
    "apply_custom_layout(fig5, fig_title, yaxis_title, show_xspikes=False, show_legend=False)\n",
    "fig5.update_traces(marker={\n",
    "    'size': 8,\n",
    "    'line_width': 1,\n",
    "    'line_color':'DarkSlateGrey'\n",
    "    })\n",
    "\n",
    "buttons = [dict(label=tsi,\n",
    "                     method='update',\n",
    "                     args=[{'y': [df_dict['Shallow'][tsi], df_dict['Deep'][tsi]]}, {'yaxis.title': tsi}]) for tsi in tsi_list]\n",
    "\n",
    "fig5.update_layout(\n",
    "    yaxis_range=[0, 140],\n",
    "    updatemenus=[\n",
    "        dict(\n",
    "            type=\"buttons\",\n",
    "            direction=\"right\",\n",
    "            showactive=True,\n",
    "            active=0,\n",
    "            x=0.7,\n",
    "            y=1.15,\n",
    "            buttons=buttons,\n",
    "        )\n",
    "    ])\n",
    "\n",
    "fig5.add_hline(y=50, line_dash=\"dot\", line_color='DarkSlateGrey',\n",
    "              annotation_text=\"Eutrophic\", \n",
    "              annotation_position=\"top right\")\n",
    "fig5.add_hline(y=30, line_dash=\"dot\", line_color='DarkSlateGrey',\n",
    "              annotation_text=\"Oligotrophic\", \n",
    "              annotation_position=\"bottom right\")\n",
    "\n",
    "fig5.show()"
   ]
  },
  {
   "cell_type": "code",
   "execution_count": 260,
   "metadata": {},
   "outputs": [
    {
     "data": {
      "application/vnd.plotly.v1+json": {
       "config": {
        "plotlyServerURL": "https://plot.ly"
       },
       "data": [
        {
         "alignmentgroup": "True",
         "box": {
          "visible": true
         },
         "hovertemplate": "<b>%{hovertext}</b><br><br>TYPE=%{x}<br>TSI-SD=%{y}<extra></extra>",
         "hovertext": [
          "Rodeo",
          "Comedero",
          "Mar Chiquita",
          "El Diamante",
          "Melincué",
          "El Carpincho",
          "De Gómez",
          "Navarro",
          "Las mulitas",
          "De Lobos",
          "Indio Muerto",
          "De Monte",
          "La Chilca",
          "Chascomús",
          "La Limpia",
          "La Tablilla",
          "Blanca Grande",
          "Alsina",
          "Cochicó",
          "Salada Grande",
          "Los Horcones",
          "Del Monte",
          "Dulce",
          "Del Venado",
          "Epecuén",
          "La Brava",
          "De los Padres",
          "De Pigüé",
          "De Saavedra",
          "La Dulce",
          "Urre Lauquen",
          "Sauce Grande",
          "Agrio",
          "Pellegrini",
          "Blanca ",
          "Aluminé",
          "Norquinco",
          "Quillén",
          "Huechulafquen",
          "Lacar",
          "Nahuel Huapi",
          "Gutierrez",
          "Ne Luan",
          "Mascardi",
          "Guillermo",
          "Steffen",
          "Las Chultas",
          "Epuyen",
          "Puelo",
          "Cholila",
          "Lezama",
          "Los Mosquitos",
          "Rivadavia",
          "Esquel",
          "Brechman",
          "Verde",
          "Wilimanco",
          "Zeta",
          "Largo",
          "Terraplén",
          "Futalaufquen",
          "Rosario",
          "Quichaura",
          "Cronometro",
          "Los Niños",
          "Pico 4",
          "Pico 3",
          "Pico 1",
          "La Plata",
          "Fontana",
          "Blanco",
          "Muster",
          "Colhue Huapi"
         ],
         "legendgroup": "Lake",
         "marker": {
          "color": "dodgerblue",
          "line": {
           "color": "DarkSlateGrey",
           "width": 1
          },
          "size": 8
         },
         "name": "Lake",
         "offsetgroup": "Lake",
         "orientation": "v",
         "points": "all",
         "scalegroup": "True",
         "showlegend": true,
         "type": "violin",
         "x": [
          "Lake",
          "Lake",
          "Lake",
          "Lake",
          "Lake",
          "Lake",
          "Lake",
          "Lake",
          "Lake",
          "Lake",
          "Lake",
          "Lake",
          "Lake",
          "Lake",
          "Lake",
          "Lake",
          "Lake",
          "Lake",
          "Lake",
          "Lake",
          "Lake",
          "Lake",
          "Lake",
          "Lake",
          "Lake",
          "Lake",
          "Lake",
          "Lake",
          "Lake",
          "Lake",
          "Lake",
          "Lake",
          "Lake",
          "Lake",
          "Lake",
          "Lake",
          "Lake",
          "Lake",
          "Lake",
          "Lake",
          "Lake",
          "Lake",
          "Lake",
          "Lake",
          "Lake",
          "Lake",
          "Lake",
          "Lake",
          "Lake",
          "Lake",
          "Lake",
          "Lake",
          "Lake",
          "Lake",
          "Lake",
          "Lake",
          "Lake",
          "Lake",
          "Lake",
          "Lake",
          "Lake",
          "Lake",
          "Lake",
          "Lake",
          "Lake",
          "Lake",
          "Lake",
          "Lake",
          "Lake",
          "Lake",
          "Lake",
          "Lake",
          "Lake"
         ],
         "x0": " ",
         "xaxis": "x",
         "y": [
          62.341897774062936,
          57.37274636659912,
          58.62658030901968,
          37.09912069427007,
          87.33749898220555,
          67.36099723846793,
          84.71024534880466,
          85.53389809223832,
          66.20758182089227,
          79.97650174373763,
          60,
          65.13968594215713,
          59.296933734318486,
          87.33749898220555,
          87.33749898220555,
          49.30868286244967,
          83.19200031817539,
          77.34924811033673,
          71.50649590249809,
          38.00952866663634,
          66.20758182089227,
          69.98825087186881,
          79.97650174373763,
          78.3434353884637,
          83.19200031817539,
          55.15143507028832,
          44.65751827993911,
          75.97582841935642,
          69.42308039533003,
          58.62658030901968,
          62.68500922173942,
          75.12793681402594,
          28.337993840585074,
          50.011749128131186,
          35.43457999084429,
          22.710320252368724,
          30.40007699744718,
          19.603576911136834,
          30.965247473985965,
          21.465517961763723,
          23.604250235518037,
          26.11668254427429,
          67.36099723846793,
          27.558885182080402,
          25.446329118975477,
          23.039079758979256,
          28.337993840585074,
          17.570634310211595,
          31.959434752112937,
          24.805779220329768,
          20.04699651252475,
          61.518245030629274,
          24.805779220329768,
          45.163184198419515,
          54.15724779216135,
          25.446329118975477,
          40.02349825626237,
          41.54174328689166,
          22.495241632746428,
          58.62658030901968,
          21.971183880244126,
          34.42293662336278,
          36.80799968182461,
          57.37274636659912,
          24.192495176554914,
          24.192495176554914,
          43.23899683070014,
          23.150354443192505,
          23.4894289108734,
          21.465517961763723,
          110.52949930038093,
          57.37274636659912,
          98.31993713220133
         ],
         "y0": " ",
         "yaxis": "y"
        },
        {
         "alignmentgroup": "True",
         "box": {
          "visible": true
         },
         "hovertemplate": "<b>%{hovertext}</b><br><br>TYPE=%{x}<br>TSI-SD=%{y}<extra></extra>",
         "hovertext": [
          "La Ciénaga",
          "Las Maderas",
          "Campo Alegre",
          "Cabra Corral",
          "El Cadillal",
          "Río Hondo",
          "Sumampa",
          "las Pirquitas",
          "Los Sauces",
          "Anzulón",
          "Portezuelo",
          "Cruz del Eje",
          "Saladillo",
          "San Roque",
          "Ullum",
          "La Viña",
          "Los Molinos",
          "Río Tercero",
          "San Felipe",
          "La Florida",
          "El Carrizal",
          "Agua del Toro",
          "Los Reyunos",
          "Valle Grande",
          "El Nihuil",
          "Marri Menuco",
          "Los Barreales",
          "Ramos Mexía",
          "Amutui Quimen",
          "Ameghino"
         ],
         "legendgroup": "Reservoir",
         "marker": {
          "color": "darkorange",
          "line": {
           "color": "DarkSlateGrey",
           "width": 1
          },
          "size": 8
         },
         "name": "Reservoir",
         "offsetgroup": "Reservoir",
         "orientation": "v",
         "points": "all",
         "scalegroup": "True",
         "showlegend": true,
         "type": "violin",
         "x": [
          "Reservoir",
          "Reservoir",
          "Reservoir",
          "Reservoir",
          "Reservoir",
          "Reservoir",
          "Reservoir",
          "Reservoir",
          "Reservoir",
          "Reservoir",
          "Reservoir",
          "Reservoir",
          "Reservoir",
          "Reservoir",
          "Reservoir",
          "Reservoir",
          "Reservoir",
          "Reservoir",
          "Reservoir",
          "Reservoir",
          "Reservoir",
          "Reservoir",
          "Reservoir",
          "Reservoir",
          "Reservoir",
          "Reservoir",
          "Reservoir",
          "Reservoir",
          "Reservoir",
          "Reservoir"
         ],
         "x0": " ",
         "xaxis": "x",
         "y": [
          60,
          55.15143507028832,
          57.37274636659912,
          49.30868286244967,
          71.50649590249809,
          73.20374944630657,
          61.518245030629274,
          63.58032818749138,
          65.13968594215713,
          78.3434353884637,
          63.21549857443776,
          58.62658030901968,
          77.34924811033673,
          47.3844954947303,
          56.5557664642201,
          48.638329437150865,
          47.997779538505156,
          46.796250553693426,
          61.518245030629274,
          43.23899683070014,
          50.75088550025579,
          37.09912069427007,
          40.02349825626237,
          37.09912069427007,
          34.6692674080703,
          29.161646584018737,
          49.30868286244967,
          40.02349825626237,
          26.11668254427429,
          48.638329437150865
         ],
         "y0": " ",
         "yaxis": "y"
        }
       ],
       "layout": {
        "annotations": [
         {
          "showarrow": false,
          "text": "Eutrophic",
          "x": 1,
          "xanchor": "right",
          "xref": "x domain",
          "y": 50,
          "yanchor": "bottom",
          "yref": "y"
         },
         {
          "showarrow": false,
          "text": "Oligotrophic",
          "x": 1,
          "xanchor": "right",
          "xref": "x domain",
          "y": 30,
          "yanchor": "top",
          "yref": "y"
         }
        ],
        "autosize": true,
        "font": {
         "family": "Open Sans"
        },
        "hoverdistance": 1,
        "hovermode": "x",
        "legend": {
         "font": {
          "size": 16
         },
         "orientation": "h",
         "title": {
          "text": "Legend"
         },
         "tracegroupgap": 0,
         "x": 1,
         "xanchor": "right",
         "y": 1.02,
         "yanchor": "bottom"
        },
        "margin": {
         "t": 60
        },
        "plot_bgcolor": "#FFFFFF",
        "shapes": [
         {
          "line": {
           "color": "DarkSlateGrey",
           "dash": "dot"
          },
          "type": "line",
          "x0": 0,
          "x1": 1,
          "xref": "x domain",
          "y0": 50,
          "y1": 50,
          "yref": "y"
         },
         {
          "line": {
           "color": "DarkSlateGrey",
           "dash": "dot"
          },
          "type": "line",
          "x0": 0,
          "x1": 1,
          "xref": "x domain",
          "y0": 30,
          "y1": 30,
          "yref": "y"
         }
        ],
        "showlegend": false,
        "spikedistance": 1000,
        "template": {
         "data": {
          "bar": [
           {
            "error_x": {
             "color": "#2a3f5f"
            },
            "error_y": {
             "color": "#2a3f5f"
            },
            "marker": {
             "line": {
              "color": "#E5ECF6",
              "width": 0.5
             },
             "pattern": {
              "fillmode": "overlay",
              "size": 10,
              "solidity": 0.2
             }
            },
            "type": "bar"
           }
          ],
          "barpolar": [
           {
            "marker": {
             "line": {
              "color": "#E5ECF6",
              "width": 0.5
             },
             "pattern": {
              "fillmode": "overlay",
              "size": 10,
              "solidity": 0.2
             }
            },
            "type": "barpolar"
           }
          ],
          "carpet": [
           {
            "aaxis": {
             "endlinecolor": "#2a3f5f",
             "gridcolor": "white",
             "linecolor": "white",
             "minorgridcolor": "white",
             "startlinecolor": "#2a3f5f"
            },
            "baxis": {
             "endlinecolor": "#2a3f5f",
             "gridcolor": "white",
             "linecolor": "white",
             "minorgridcolor": "white",
             "startlinecolor": "#2a3f5f"
            },
            "type": "carpet"
           }
          ],
          "choropleth": [
           {
            "colorbar": {
             "outlinewidth": 0,
             "ticks": ""
            },
            "type": "choropleth"
           }
          ],
          "contour": [
           {
            "colorbar": {
             "outlinewidth": 0,
             "ticks": ""
            },
            "colorscale": [
             [
              0,
              "#0d0887"
             ],
             [
              0.1111111111111111,
              "#46039f"
             ],
             [
              0.2222222222222222,
              "#7201a8"
             ],
             [
              0.3333333333333333,
              "#9c179e"
             ],
             [
              0.4444444444444444,
              "#bd3786"
             ],
             [
              0.5555555555555556,
              "#d8576b"
             ],
             [
              0.6666666666666666,
              "#ed7953"
             ],
             [
              0.7777777777777778,
              "#fb9f3a"
             ],
             [
              0.8888888888888888,
              "#fdca26"
             ],
             [
              1,
              "#f0f921"
             ]
            ],
            "type": "contour"
           }
          ],
          "contourcarpet": [
           {
            "colorbar": {
             "outlinewidth": 0,
             "ticks": ""
            },
            "type": "contourcarpet"
           }
          ],
          "heatmap": [
           {
            "colorbar": {
             "outlinewidth": 0,
             "ticks": ""
            },
            "colorscale": [
             [
              0,
              "#0d0887"
             ],
             [
              0.1111111111111111,
              "#46039f"
             ],
             [
              0.2222222222222222,
              "#7201a8"
             ],
             [
              0.3333333333333333,
              "#9c179e"
             ],
             [
              0.4444444444444444,
              "#bd3786"
             ],
             [
              0.5555555555555556,
              "#d8576b"
             ],
             [
              0.6666666666666666,
              "#ed7953"
             ],
             [
              0.7777777777777778,
              "#fb9f3a"
             ],
             [
              0.8888888888888888,
              "#fdca26"
             ],
             [
              1,
              "#f0f921"
             ]
            ],
            "type": "heatmap"
           }
          ],
          "heatmapgl": [
           {
            "colorbar": {
             "outlinewidth": 0,
             "ticks": ""
            },
            "colorscale": [
             [
              0,
              "#0d0887"
             ],
             [
              0.1111111111111111,
              "#46039f"
             ],
             [
              0.2222222222222222,
              "#7201a8"
             ],
             [
              0.3333333333333333,
              "#9c179e"
             ],
             [
              0.4444444444444444,
              "#bd3786"
             ],
             [
              0.5555555555555556,
              "#d8576b"
             ],
             [
              0.6666666666666666,
              "#ed7953"
             ],
             [
              0.7777777777777778,
              "#fb9f3a"
             ],
             [
              0.8888888888888888,
              "#fdca26"
             ],
             [
              1,
              "#f0f921"
             ]
            ],
            "type": "heatmapgl"
           }
          ],
          "histogram": [
           {
            "marker": {
             "pattern": {
              "fillmode": "overlay",
              "size": 10,
              "solidity": 0.2
             }
            },
            "type": "histogram"
           }
          ],
          "histogram2d": [
           {
            "colorbar": {
             "outlinewidth": 0,
             "ticks": ""
            },
            "colorscale": [
             [
              0,
              "#0d0887"
             ],
             [
              0.1111111111111111,
              "#46039f"
             ],
             [
              0.2222222222222222,
              "#7201a8"
             ],
             [
              0.3333333333333333,
              "#9c179e"
             ],
             [
              0.4444444444444444,
              "#bd3786"
             ],
             [
              0.5555555555555556,
              "#d8576b"
             ],
             [
              0.6666666666666666,
              "#ed7953"
             ],
             [
              0.7777777777777778,
              "#fb9f3a"
             ],
             [
              0.8888888888888888,
              "#fdca26"
             ],
             [
              1,
              "#f0f921"
             ]
            ],
            "type": "histogram2d"
           }
          ],
          "histogram2dcontour": [
           {
            "colorbar": {
             "outlinewidth": 0,
             "ticks": ""
            },
            "colorscale": [
             [
              0,
              "#0d0887"
             ],
             [
              0.1111111111111111,
              "#46039f"
             ],
             [
              0.2222222222222222,
              "#7201a8"
             ],
             [
              0.3333333333333333,
              "#9c179e"
             ],
             [
              0.4444444444444444,
              "#bd3786"
             ],
             [
              0.5555555555555556,
              "#d8576b"
             ],
             [
              0.6666666666666666,
              "#ed7953"
             ],
             [
              0.7777777777777778,
              "#fb9f3a"
             ],
             [
              0.8888888888888888,
              "#fdca26"
             ],
             [
              1,
              "#f0f921"
             ]
            ],
            "type": "histogram2dcontour"
           }
          ],
          "mesh3d": [
           {
            "colorbar": {
             "outlinewidth": 0,
             "ticks": ""
            },
            "type": "mesh3d"
           }
          ],
          "parcoords": [
           {
            "line": {
             "colorbar": {
              "outlinewidth": 0,
              "ticks": ""
             }
            },
            "type": "parcoords"
           }
          ],
          "pie": [
           {
            "automargin": true,
            "type": "pie"
           }
          ],
          "scatter": [
           {
            "fillpattern": {
             "fillmode": "overlay",
             "size": 10,
             "solidity": 0.2
            },
            "type": "scatter"
           }
          ],
          "scatter3d": [
           {
            "line": {
             "colorbar": {
              "outlinewidth": 0,
              "ticks": ""
             }
            },
            "marker": {
             "colorbar": {
              "outlinewidth": 0,
              "ticks": ""
             }
            },
            "type": "scatter3d"
           }
          ],
          "scattercarpet": [
           {
            "marker": {
             "colorbar": {
              "outlinewidth": 0,
              "ticks": ""
             }
            },
            "type": "scattercarpet"
           }
          ],
          "scattergeo": [
           {
            "marker": {
             "colorbar": {
              "outlinewidth": 0,
              "ticks": ""
             }
            },
            "type": "scattergeo"
           }
          ],
          "scattergl": [
           {
            "marker": {
             "colorbar": {
              "outlinewidth": 0,
              "ticks": ""
             }
            },
            "type": "scattergl"
           }
          ],
          "scattermapbox": [
           {
            "marker": {
             "colorbar": {
              "outlinewidth": 0,
              "ticks": ""
             }
            },
            "type": "scattermapbox"
           }
          ],
          "scatterpolar": [
           {
            "marker": {
             "colorbar": {
              "outlinewidth": 0,
              "ticks": ""
             }
            },
            "type": "scatterpolar"
           }
          ],
          "scatterpolargl": [
           {
            "marker": {
             "colorbar": {
              "outlinewidth": 0,
              "ticks": ""
             }
            },
            "type": "scatterpolargl"
           }
          ],
          "scatterternary": [
           {
            "marker": {
             "colorbar": {
              "outlinewidth": 0,
              "ticks": ""
             }
            },
            "type": "scatterternary"
           }
          ],
          "surface": [
           {
            "colorbar": {
             "outlinewidth": 0,
             "ticks": ""
            },
            "colorscale": [
             [
              0,
              "#0d0887"
             ],
             [
              0.1111111111111111,
              "#46039f"
             ],
             [
              0.2222222222222222,
              "#7201a8"
             ],
             [
              0.3333333333333333,
              "#9c179e"
             ],
             [
              0.4444444444444444,
              "#bd3786"
             ],
             [
              0.5555555555555556,
              "#d8576b"
             ],
             [
              0.6666666666666666,
              "#ed7953"
             ],
             [
              0.7777777777777778,
              "#fb9f3a"
             ],
             [
              0.8888888888888888,
              "#fdca26"
             ],
             [
              1,
              "#f0f921"
             ]
            ],
            "type": "surface"
           }
          ],
          "table": [
           {
            "cells": {
             "fill": {
              "color": "#EBF0F8"
             },
             "line": {
              "color": "white"
             }
            },
            "header": {
             "fill": {
              "color": "#C8D4E3"
             },
             "line": {
              "color": "white"
             }
            },
            "type": "table"
           }
          ]
         },
         "layout": {
          "annotationdefaults": {
           "arrowcolor": "#2a3f5f",
           "arrowhead": 0,
           "arrowwidth": 1
          },
          "autotypenumbers": "strict",
          "coloraxis": {
           "colorbar": {
            "outlinewidth": 0,
            "ticks": ""
           }
          },
          "colorscale": {
           "diverging": [
            [
             0,
             "#8e0152"
            ],
            [
             0.1,
             "#c51b7d"
            ],
            [
             0.2,
             "#de77ae"
            ],
            [
             0.3,
             "#f1b6da"
            ],
            [
             0.4,
             "#fde0ef"
            ],
            [
             0.5,
             "#f7f7f7"
            ],
            [
             0.6,
             "#e6f5d0"
            ],
            [
             0.7,
             "#b8e186"
            ],
            [
             0.8,
             "#7fbc41"
            ],
            [
             0.9,
             "#4d9221"
            ],
            [
             1,
             "#276419"
            ]
           ],
           "sequential": [
            [
             0,
             "#0d0887"
            ],
            [
             0.1111111111111111,
             "#46039f"
            ],
            [
             0.2222222222222222,
             "#7201a8"
            ],
            [
             0.3333333333333333,
             "#9c179e"
            ],
            [
             0.4444444444444444,
             "#bd3786"
            ],
            [
             0.5555555555555556,
             "#d8576b"
            ],
            [
             0.6666666666666666,
             "#ed7953"
            ],
            [
             0.7777777777777778,
             "#fb9f3a"
            ],
            [
             0.8888888888888888,
             "#fdca26"
            ],
            [
             1,
             "#f0f921"
            ]
           ],
           "sequentialminus": [
            [
             0,
             "#0d0887"
            ],
            [
             0.1111111111111111,
             "#46039f"
            ],
            [
             0.2222222222222222,
             "#7201a8"
            ],
            [
             0.3333333333333333,
             "#9c179e"
            ],
            [
             0.4444444444444444,
             "#bd3786"
            ],
            [
             0.5555555555555556,
             "#d8576b"
            ],
            [
             0.6666666666666666,
             "#ed7953"
            ],
            [
             0.7777777777777778,
             "#fb9f3a"
            ],
            [
             0.8888888888888888,
             "#fdca26"
            ],
            [
             1,
             "#f0f921"
            ]
           ]
          },
          "colorway": [
           "#636efa",
           "#EF553B",
           "#00cc96",
           "#ab63fa",
           "#FFA15A",
           "#19d3f3",
           "#FF6692",
           "#B6E880",
           "#FF97FF",
           "#FECB52"
          ],
          "font": {
           "color": "#2a3f5f"
          },
          "geo": {
           "bgcolor": "white",
           "lakecolor": "white",
           "landcolor": "#E5ECF6",
           "showlakes": true,
           "showland": true,
           "subunitcolor": "white"
          },
          "hoverlabel": {
           "align": "left"
          },
          "hovermode": "closest",
          "mapbox": {
           "style": "light"
          },
          "paper_bgcolor": "white",
          "plot_bgcolor": "#E5ECF6",
          "polar": {
           "angularaxis": {
            "gridcolor": "white",
            "linecolor": "white",
            "ticks": ""
           },
           "bgcolor": "#E5ECF6",
           "radialaxis": {
            "gridcolor": "white",
            "linecolor": "white",
            "ticks": ""
           }
          },
          "scene": {
           "xaxis": {
            "backgroundcolor": "#E5ECF6",
            "gridcolor": "white",
            "gridwidth": 2,
            "linecolor": "white",
            "showbackground": true,
            "ticks": "",
            "zerolinecolor": "white"
           },
           "yaxis": {
            "backgroundcolor": "#E5ECF6",
            "gridcolor": "white",
            "gridwidth": 2,
            "linecolor": "white",
            "showbackground": true,
            "ticks": "",
            "zerolinecolor": "white"
           },
           "zaxis": {
            "backgroundcolor": "#E5ECF6",
            "gridcolor": "white",
            "gridwidth": 2,
            "linecolor": "white",
            "showbackground": true,
            "ticks": "",
            "zerolinecolor": "white"
           }
          },
          "shapedefaults": {
           "line": {
            "color": "#2a3f5f"
           }
          },
          "ternary": {
           "aaxis": {
            "gridcolor": "white",
            "linecolor": "white",
            "ticks": ""
           },
           "baxis": {
            "gridcolor": "white",
            "linecolor": "white",
            "ticks": ""
           },
           "bgcolor": "#E5ECF6",
           "caxis": {
            "gridcolor": "white",
            "linecolor": "white",
            "ticks": ""
           }
          },
          "title": {
           "x": 0.05
          },
          "xaxis": {
           "automargin": true,
           "gridcolor": "white",
           "linecolor": "white",
           "ticks": "",
           "title": {
            "standoff": 15
           },
           "zerolinecolor": "white",
           "zerolinewidth": 2
          },
          "yaxis": {
           "automargin": true,
           "gridcolor": "white",
           "linecolor": "white",
           "ticks": "",
           "title": {
            "standoff": 15
           },
           "zerolinecolor": "white",
           "zerolinewidth": 2
          }
         }
        },
        "title": {
         "font": {
          "size": 20
         },
         "text": "Difference in TSI-Chl in Between Lakes and Reservoirs"
        },
        "updatemenus": [
         {
          "active": 0,
          "buttons": [
           {
            "args": [
             {
              "y": [
               [
                62.341897774062936,
                57.37274636659912,
                58.62658030901968,
                37.09912069427007,
                87.33749898220555,
                67.36099723846793,
                84.71024534880466,
                85.53389809223832,
                66.20758182089227,
                79.97650174373763,
                60,
                65.13968594215713,
                59.296933734318486,
                87.33749898220555,
                87.33749898220555,
                49.30868286244967,
                83.19200031817539,
                77.34924811033673,
                71.50649590249809,
                38.00952866663634,
                66.20758182089227,
                69.98825087186881,
                79.97650174373763,
                78.3434353884637,
                83.19200031817539,
                55.15143507028832,
                44.65751827993911,
                75.97582841935642,
                69.42308039533003,
                58.62658030901968,
                62.68500922173942,
                75.12793681402594,
                28.337993840585074,
                50.011749128131186,
                35.43457999084429,
                22.710320252368724,
                30.40007699744718,
                19.603576911136834,
                30.965247473985965,
                21.465517961763723,
                23.604250235518037,
                26.11668254427429,
                67.36099723846793,
                27.558885182080402,
                25.446329118975477,
                23.039079758979256,
                28.337993840585074,
                17.570634310211595,
                31.959434752112937,
                24.805779220329768,
                20.04699651252475,
                61.518245030629274,
                24.805779220329768,
                45.163184198419515,
                54.15724779216135,
                25.446329118975477,
                40.02349825626237,
                41.54174328689166,
                22.495241632746428,
                58.62658030901968,
                21.971183880244126,
                34.42293662336278,
                36.80799968182461,
                57.37274636659912,
                24.192495176554914,
                24.192495176554914,
                43.23899683070014,
                23.150354443192505,
                23.4894289108734,
                21.465517961763723,
                110.52949930038093,
                57.37274636659912,
                98.31993713220133
               ],
               [
                60,
                55.15143507028832,
                57.37274636659912,
                49.30868286244967,
                71.50649590249809,
                73.20374944630657,
                61.518245030629274,
                63.58032818749138,
                65.13968594215713,
                78.3434353884637,
                63.21549857443776,
                58.62658030901968,
                77.34924811033673,
                47.3844954947303,
                56.5557664642201,
                48.638329437150865,
                47.997779538505156,
                46.796250553693426,
                61.518245030629274,
                43.23899683070014,
                50.75088550025579,
                37.09912069427007,
                40.02349825626237,
                37.09912069427007,
                34.6692674080703,
                29.161646584018737,
                49.30868286244967,
                40.02349825626237,
                26.11668254427429,
                48.638329437150865
               ]
              ]
             },
             {
              "yaxis.title": "TSI-SD"
             }
            ],
            "label": "TSI-SD",
            "method": "update"
           },
           {
            "args": [
             {
              "y": [
               [
                43.20008389989387,
                45.82916074886269,
                68.38168801197558,
                38.7276498337525,
                133.58587929302274,
                107.4093979740992,
                106.97756113287332,
                88.62139608765149,
                70.84210796755919,
                85.65889397947394,
                73.06496077066826,
                83.47814339605497,
                67.51795681037657,
                82.56710363467249,
                105.61126127988274,
                49.363826593698334,
                83.76946643557359,
                81.04780499888662,
                79.11232719085322,
                61.401609393421595,
                84.55518606736989,
                77.0610645131226,
                90.4746379162016,
                92.43634631319746,
                110.60920380523511,
                79.65949310400788,
                73.65846017602463,
                74.00317778673289,
                65.81952543621152,
                50.56618939459945,
                56.60399242325448,
                83.53688074814467,
                83.06014311434268,
                49.97753623361738,
                70.84210796755919,
                19.99198920259414,
                27.358094697299727,
                19.99198920259414,
                42.20520669305203,
                24.14036468734882,
                24.14036468734882,
                14.145182343674412,
                64.99530110863947,
                19.99198920259414,
                24.14036468734882,
                19.99198920259414,
                35.83397840518828,
                4.15,
                19.99198920259414,
                35.83397840518828,
                24.14036468734882,
                53.19526624356828,
                19.99198920259414,
                66.21461864400413,
                58.38650566830117,
                24.14036468734882,
                50.56618939459945,
                69.35419128104716,
                32.21002434937762,
                53.19526624356828,
                14.145182343674412,
                47.34845938464855,
                56.60399242325448,
                86.1072202450238,
                29.987171546268556,
                35.83397840518828,
                54.56963903634664,
                35.83397840518828,
                29.987171546268556,
                29.987171546268556,
                110.07946722694969,
                53.19526624356828,
                96.58472179795214
               ],
               [
                50.56618939459945,
                49.363826593698334,
                62.701588212079365,
                44.130729374697644,
                62.94808994112048,
                87.41903328675038,
                61.67114995145684,
                58.718014521101324,
                68.38168801197558,
                93.0855877986099,
                67.15743803257445,
                48.722832177426916,
                87.3291887593462,
                52.200389036726435,
                45.00493642129064,
                50.56618939459945,
                51.13175207826977,
                49.97753623361738,
                57.69970920187612,
                43.20008389989387,
                41.136569734595355,
                27.358094697299727,
                35.83397840518828,
                35.83397840518828,
                45.82916074886269,
                24.14036468734882,
                35.83397840518828,
                35.83397840518828,
                19.99198920259414,
                58.38650566830117
               ]
              ]
             },
             {
              "yaxis.title": "TSI-TP"
             }
            ],
            "label": "TSI-TP",
            "method": "update"
           },
           {
            "args": [
             {
              "y": [
               [
                57.42414526740612,
                61.14358518335378,
                66.41295734709158,
                26.6713150716822,
                47.67397317518535,
                73.87765313614034,
                89.50539610495213,
                76.94959562045862,
                61.817498155271736,
                80.76041236655342,
                55.45556574492241,
                66.93396473342142,
                56.13238581420941,
                70.31382911870001,
                51.70878721397533,
                37.39977384129307,
                71.90642762577815,
                77.63047696076202,
                75.59853097268572,
                35.21073560290067,
                57.61341158819532,
                74.6335227870723,
                77.15631090729008,
                79.97420960043425,
                69.98302581471927,
                50.8759236704299,
                42.31237941571459,
                68.3071302554603,
                61.69461554644558,
                55.61005712677986,
                50.49613430593732,
                66.25887040958702,
                25.750953082997007,
                56.558974762338245,
                34.10878629830651,
                19.11069495145611,
                22.320653610410673,
                18.456452567624133,
                27.64615903978973,
                20.846385198496666,
                21.853422449826084,
                21.362820223988656,
                61.69461554644558,
                15.746406942901903,
                24.735219022587366,
                15.290045589523604,
                26.95986528555594,
                12.622375840629076,
                16.182478733721783,
                19.724019653442994,
                27.64615903978973,
                69.7500833632124,
                20.301244958667972,
                44.44178221209767,
                54.976934234420284,
                26.81665106323443,
                49.96573486527592,
                49.11215325700765,
                23.60203759992207,
                60.03706138578795,
                23.800226158706938,
                35.747586868852174,
                31.53499286388043,
                52.787895996027885,
                23.1932284482325,
                36.42053635217458,
                40.70056648254716,
                29.78202641630791,
                17.385207513447565,
                18.112206720275577,
                73.31412743991845,
                49.828529831503715,
                58.393822905191485
               ],
               [
                50.23451880206132,
                55.98596518558382,
                61.653310222264054,
                49.828529831503715,
                43.69636046464426,
                53.57311495830528,
                62.01894260522489,
                57.42414526740612,
                66.12858961036497,
                44.19954768258613,
                62.21633357061121,
                47.50034032384023,
                83.4263955341664,
                52.15477310366832,
                29.888081503290266,
                49.259674833953795,
                56.558974762338245,
                59.223330881746776,
                69.13266323847333,
                43.69636046464426,
                45.988122154734825,
                31.623771750330825,
                34.24503848860266,
                32.05600025021026,
                33.17379343442609,
                26.52379349473606,
                35.977071017480036,
                38.15476165483849,
                26.81665106323443,
                38.200073513688736
               ]
              ]
             },
             {
              "yaxis.title": "TSI-CHL"
             }
            ],
            "label": "TSI-CHL",
            "method": "update"
           }
          ],
          "direction": "right",
          "showactive": true,
          "type": "buttons",
          "x": 0.7,
          "y": 1.15
         }
        ],
        "violinmode": "overlay",
        "xaxis": {
         "anchor": "y",
         "categoryarray": [
          "Lake",
          "Reservoir"
         ],
         "categoryorder": "array",
         "domain": [
          0,
          1
         ],
         "gridcolor": "#BCCCDC",
         "linecolor": "#BCCCDC",
         "minor": {
          "dtick": "M3",
          "showgrid": true,
          "ticks": "inside"
         },
         "showgrid": true,
         "showspikes": false,
         "spikecolor": "#999999",
         "spikedash": "dot",
         "spikemode": "across",
         "spikethickness": 2,
         "tickfont": {
          "size": 14
         },
         "title": {
          "font": {
           "size": 18
          }
         }
        },
        "yaxis": {
         "anchor": "x",
         "domain": [
          0,
          1
         ],
         "gridcolor": "#BCCCDC",
         "linecolor": "#BCCCDC",
         "range": [
          0,
          140
         ],
         "showgrid": false,
         "tickfont": {
          "size": 14
         },
         "title": {
          "font": {
           "size": 18
          },
          "text": "TSI-SD"
         }
        }
       }
      }
     },
     "metadata": {},
     "output_type": "display_data"
    }
   ],
   "source": [
    "fig6 = px.violin(data_frame=data, x='TYPE', y='TSI-SD', color='TYPE', box=True, color_discrete_sequence=colors_type, points='all', hover_name=data.index)\n",
    "fig_title = 'Difference in TSI-Chl in Between Lakes and Reservoirs'\n",
    "yaxis_title='TSI-SD'\n",
    "\n",
    "apply_custom_layout(fig6, fig_title, yaxis_title, show_xspikes=False, show_legend=False)\n",
    "fig5.update_traces(marker=dict(size=8,\n",
    "                              line=dict(width=1,\n",
    "                                        color='DarkSlateGrey')))\n",
    "\n",
    "fig6.update_traces(marker={\n",
    "    'size': 8,\n",
    "    'line_width': 1,\n",
    "    'line_color':'DarkSlateGrey'\n",
    "    })\n",
    "\n",
    "buttons = [dict(label=tsi,\n",
    "                     method='update',\n",
    "                     args=[{'y': [df_dict['Lake'][tsi], df_dict['Reservoir'][tsi]]}, {'yaxis.title': tsi}]) for tsi in tsi_list]\n",
    "\n",
    "fig6.update_layout(\n",
    "    yaxis_range=[0, 140],\n",
    "    updatemenus=[\n",
    "        dict(\n",
    "            type=\"buttons\",\n",
    "            direction=\"right\",\n",
    "            showactive=True,\n",
    "            active=0,\n",
    "            x=0.7,\n",
    "            y=1.15,\n",
    "            buttons=buttons,\n",
    "        )\n",
    "    ])\n",
    "\n",
    "fig6.add_hline(y=50, line_dash=\"dot\", line_color='DarkSlateGrey',\n",
    "              annotation_text=\"Eutrophic\", \n",
    "              annotation_position=\"top right\")\n",
    "fig6.add_hline(y=30, line_dash=\"dot\", line_color='DarkSlateGrey',\n",
    "              annotation_text=\"Oligotrophic\", \n",
    "              annotation_position=\"bottom right\")\n",
    "\n",
    "fig6.show()"
   ]
  },
  {
   "attachments": {},
   "cell_type": "markdown",
   "id": "b882082a",
   "metadata": {},
   "source": [
    "## Variable correlation <a class=\"anchor\" id=\"correlation\"></a>\n",
    "\n",
    "Using a correlation matrix, will check how each variable correlates to each other"
   ]
  },
  {
   "cell_type": "code",
   "execution_count": 236,
   "id": "37f1ba5c",
   "metadata": {},
   "outputs": [
    {
     "data": {
      "text/plain": [
       "<Axes: >"
      ]
     },
     "execution_count": 236,
     "metadata": {},
     "output_type": "execute_result"
    },
    {
     "data": {
      "image/png": "[encoded data removed]",
      "text/plain": [
       "<Figure size 640x480 with 2 Axes>"
      ]
     },
     "metadata": {},
     "output_type": "display_data"
    }
   ],
   "source": [
    "sns.set(style='white')\n",
    "corr = data.drop(columns=['TYPE', 'REGION', 'DEPTH']).corr()\n",
    "sns.heatmap(corr,cmap='vlag',vmin=-1, vmax=1, fmt='.1f', annot=True)"
   ]
  },
  {
   "attachments": {},
   "cell_type": "markdown",
   "id": "10e60fe0",
   "metadata": {},
   "source": [
    "Looking at the correlation matrix, we can see some interesting things:\n",
    "\n",
    "1. All TSI are strongly correlated to one another.\n",
    "2. Total Organic Nitrogen is positively correlated to al TSI.\n",
    "3. Total Organic Nitrogen is strongly correlated to Chlorophyll-a.\n",
    "4. Temperature is strongly correlated to all three TSI.\n",
    "5. Total Phosphorus dues not have strong correlation with any variable, except it's corresponding TSI.\n",
    "6. Area of the lake does not correaltes with any TSI.\n",
    "7. Mean depth is more correlated to TSI than volume."
   ]
  },
  {
   "cell_type": "code",
   "execution_count": 237,
   "id": "1b6ef6b7",
   "metadata": {},
   "outputs": [
    {
     "data": {
      "application/vnd.plotly.v1+json": {
       "config": {
        "plotlyServerURL": "https://plot.ly"
       },
       "data": [
        {
         "hovertemplate": "<b>%{hovertext}</b><br><br>TYPE=Lake<br>TON=%{x}<br>CHL=%{y}<extra></extra>",
         "hovertext": [
          "Rodeo",
          "Comedero",
          "Mar Chiquita",
          "El Diamante",
          "Melincué",
          "El Carpincho",
          "De Gómez",
          "Navarro",
          "Las mulitas",
          "De Lobos",
          "Indio Muerto",
          "De Monte",
          "La Chilca",
          "Chascomús",
          "La Limpia",
          "La Tablilla",
          "Blanca Grande",
          "Alsina",
          "Cochicó",
          "Salada Grande",
          "Los Horcones",
          "Del Monte",
          "Dulce",
          "Del Venado",
          "Epecuén",
          "La Brava",
          "De los Padres",
          "De Pigüé",
          "De Saavedra",
          "La Dulce",
          "Urre Lauquen",
          "Sauce Grande",
          "Agrio",
          "Pellegrini",
          "Blanca ",
          "Aluminé",
          "Norquinco",
          "Quillén",
          "Huechulafquen",
          "Lacar",
          "Nahuel Huapi",
          "Gutierrez",
          "Ne Luan",
          "Mascardi",
          "Guillermo",
          "Steffen",
          "Las Chultas",
          "Epuyen",
          "Puelo",
          "Cholila",
          "Lezama",
          "Los Mosquitos",
          "Rivadavia",
          "Esquel",
          "Brechman",
          "Verde",
          "Wilimanco",
          "Zeta",
          "Largo",
          "Terraplén",
          "Futalaufquen",
          "Rosario",
          "Quichaura",
          "Cronometro",
          "Los Niños",
          "Pico 4",
          "Pico 3",
          "Pico 1",
          "La Plata",
          "Fontana",
          "Blanco",
          "Muster",
          "Colhue Huapi"
         ],
         "legendgroup": "Lake",
         "marker": {
          "color": "dodgerblue",
          "line": {
           "color": "DarkSlateGrey",
           "width": 0.75
          },
          "size": 12,
          "symbol": "circle"
         },
         "mode": "markers",
         "name": "Lake",
         "orientation": "v",
         "showlegend": true,
         "type": "scatter",
         "x": [
          63,
          36,
          204,
          22,
          240,
          299,
          762,
          434,
          283,
          359,
          192,
          165,
          220,
          168,
          173,
          92,
          185,
          292,
          281,
          161,
          233,
          300,
          363,
          339,
          316,
          79,
          73,
          278,
          117,
          78,
          58,
          136,
          21,
          45,
          115,
          14,
          17,
          6,
          14,
          21,
          15,
          14,
          48,
          9,
          14,
          13,
          29,
          9,
          9,
          17,
          20,
          61,
          17,
          72,
          45,
          23,
          38,
          63,
          21,
          69,
          13,
          33,
          83,
          120,
          22,
          24,
          41,
          28,
          20,
          20,
          411,
          52,
          127
         ],
         "xaxis": "x",
         "y": [
          15.4,
          22.5,
          38.5,
          0.67,
          5.7,
          82.4,
          405.3,
          112.7,
          24.1,
          166.2,
          12.6,
          40.6,
          13.5,
          57.3,
          8.6,
          2,
          67.4,
          120.8,
          98.2,
          1.6,
          15.7,
          89,
          115.1,
          153.4,
          55.4,
          7.9,
          3.3,
          46.7,
          23.8,
          12.8,
          7.6,
          37.9,
          0.61,
          14.1,
          1.43,
          0.31,
          0.43,
          0.29,
          0.74,
          0.37,
          0.41,
          0.39,
          23.8,
          0.22,
          0.55,
          0.21,
          0.69,
          0.16,
          0.23,
          0.33,
          0.74,
          54.1,
          0.35,
          4.1,
          12,
          0.68,
          7.2,
          6.6,
          0.49,
          20.1,
          0.5,
          1.69,
          1.1,
          9.6,
          0.47,
          1.81,
          2.8,
          0.92,
          0.26,
          0.28,
          77.8,
          7.1,
          17
         ],
         "yaxis": "y"
        },
        {
         "hovertemplate": "<b>OLS trendline</b><br>log10(CHL) = 1.59999 * log10(TON) + -2.18411<br>R<sup>2</sup>=0.805163<br><br>TYPE=Lake<br>TON=%{x}<br>CHL=%{y} <b>(trend)</b><extra></extra>",
         "legendgroup": "Lake",
         "marker": {
          "color": "dodgerblue",
          "symbol": "circle"
         },
         "mode": "lines",
         "name": "Lake",
         "showlegend": false,
         "type": "scatter",
         "x": [
          6,
          9,
          9,
          9,
          13,
          13,
          14,
          14,
          14,
          14,
          15,
          17,
          17,
          17,
          20,
          20,
          20,
          21,
          21,
          21,
          22,
          22,
          23,
          24,
          28,
          29,
          33,
          36,
          38,
          41,
          45,
          45,
          48,
          52,
          58,
          61,
          63,
          63,
          69,
          72,
          73,
          78,
          79,
          83,
          92,
          115,
          117,
          120,
          127,
          136,
          161,
          165,
          168,
          173,
          185,
          192,
          204,
          220,
          233,
          240,
          278,
          281,
          283,
          292,
          299,
          300,
          316,
          339,
          359,
          363,
          411,
          434,
          762
         ],
         "xaxis": "x",
         "y": [
          0.11505816349612384,
          0.22012072215347955,
          0.22012072215347955,
          0.22012072215347955,
          0.3964423018467784,
          0.3964423018467784,
          0.44634946782068846,
          0.44634946782068846,
          0.44634946782068846,
          0.44634946782068846,
          0.4984432847338416,
          0.6089578456126996,
          0.6089578456126996,
          0.6089578456126996,
          0.7897978326514946,
          0.7897978326514946,
          0.7897978326514946,
          0.853922609262064,
          0.853922609262064,
          0.853922609262064,
          0.9199064008107525,
          0.9199064008107525,
          0.9877149162075151,
          1.057315981460745,
          1.3530651263712317,
          1.4312069248298487,
          1.7598965176155692,
          2.022778308914992,
          2.2055540477291715,
          2.490678363404156,
          2.8906993181327354,
          2.8906993181327354,
          3.205150863189167,
          3.643068590120548,
          4.338564999446212,
          4.703149032630474,
          4.952285605874035,
          4.952285605874035,
          5.728208047411465,
          6.131856281886649,
          6.268685233938215,
          6.969647911501809,
          7.1131626875266365,
          7.6981086445039955,
          9.076511690268273,
          12.971004305536548,
          13.333812089630246,
          13.885028891229739,
          15.203458562503592,
          16.963609579750614,
          22.22165325639348,
          23.111552668395973,
          23.787541057573495,
          24.930344659688224,
          27.75420972454249,
          29.453427098693208,
          32.45351635697006,
          36.62092511980972,
          40.14413813051856,
          42.09111856480896,
          53.250444733595444,
          54.172840852881365,
          54.791066207293404,
          57.605482993939475,
          59.830828111008444,
          60.15131129224045,
          65.36572773044082,
          73.14250807777522,
          80.16800795408223,
          81.60194409985459,
          99.53963586321908,
          108.60063409953946,
          267.28417407562944
         ],
         "yaxis": "y"
        },
        {
         "hovertemplate": "<b>%{hovertext}</b><br><br>TYPE=Reservoir<br>TON=%{x}<br>CHL=%{y}<extra></extra>",
         "hovertext": [
          "La Ciénaga",
          "Las Maderas",
          "Campo Alegre",
          "Cabra Corral",
          "El Cadillal",
          "Río Hondo",
          "Sumampa",
          "las Pirquitas",
          "Los Sauces",
          "Anzulón",
          "Portezuelo",
          "Cruz del Eje",
          "Saladillo",
          "San Roque",
          "Ullum",
          "La Viña",
          "Los Molinos",
          "Río Tercero",
          "San Felipe",
          "La Florida",
          "El Carrizal",
          "Agua del Toro",
          "Los Reyunos",
          "Valle Grande",
          "El Nihuil",
          "Marri Menuco",
          "Los Barreales",
          "Ramos Mexía",
          "Amutui Quimen",
          "Ameghino"
         ],
         "legendgroup": "Reservoir",
         "marker": {
          "color": "darkorange",
          "line": {
           "color": "DarkSlateGrey",
           "width": 0.75
          },
          "size": 12,
          "symbol": "circle"
         },
         "mode": "markers",
         "name": "Reservoir",
         "orientation": "v",
         "showlegend": true,
         "type": "scatter",
         "x": [
          45,
          35,
          62,
          37,
          35,
          61,
          61,
          49,
          59,
          75,
          125,
          27,
          352,
          45,
          20,
          37,
          29,
          36,
          76,
          23,
          22,
          13,
          21,
          14,
          29,
          6,
          12,
          15,
          22,
          41
         ],
         "xaxis": "x",
         "y": [
          7.4,
          13.3,
          23.7,
          7.1,
          3.8,
          10.4,
          24.6,
          15.4,
          37.4,
          4,
          25.1,
          5.6,
          218.1,
          9,
          0.93,
          6.7,
          14.1,
          18.5,
          50.8,
          3.8,
          4.8,
          1.11,
          1.45,
          1.16,
          1.3,
          0.66,
          1.73,
          2.16,
          0.68,
          2.17
         ],
         "yaxis": "y"
        },
        {
         "hovertemplate": "<b>OLS trendline</b><br>log10(CHL) = 1.53029 * log10(TON) + -1.58771<br>R<sup>2</sup>=0.715131<br><br>TYPE=Reservoir<br>TON=%{x}<br>CHL=%{y} <b>(trend)</b><extra></extra>",
         "legendgroup": "Reservoir",
         "marker": {
          "color": "darkorange",
          "symbol": "circle"
         },
         "mode": "lines",
         "name": "Reservoir",
         "showlegend": false,
         "type": "scatter",
         "x": [
          6,
          12,
          13,
          14,
          15,
          20,
          21,
          22,
          22,
          23,
          27,
          29,
          29,
          35,
          35,
          36,
          37,
          37,
          41,
          45,
          45,
          49,
          59,
          61,
          61,
          62,
          75,
          76,
          125,
          352
         ],
         "xaxis": "x",
         "y": [
          0.4009488388833382,
          1.1581200162350813,
          1.309030708628073,
          1.466229270990228,
          1.6295003094380531,
          2.5307400266960594,
          2.7269263352726836,
          2.928131258680614,
          2.928131258680614,
          3.1342462691129236,
          4.005867769679506,
          4.468771339186265,
          4.468771339186265,
          5.95891749540865,
          5.95891749540865,
          6.221422510730123,
          6.487823323237541,
          6.487823323237541,
          7.591416440254449,
          8.753678171746389,
          8.753678171746389,
          9.972093256951133,
          13.249932814982415,
          13.943410473620416,
          13.943410473620416,
          14.294722570453835,
          19.128659741217497,
          19.520336523139548,
          41.800214300347726,
          203.8210203336789
         ],
         "yaxis": "y"
        }
       ],
       "layout": {
        "autosize": true,
        "coloraxis": {
         "colorbar": {
          "orientation": "h"
         }
        },
        "font": {
         "family": "Lora"
        },
        "hoverdistance": 1,
        "hovermode": "closest",
        "legend": {
         "font": {
          "size": 16
         },
         "orientation": "h",
         "title": {},
         "tracegroupgap": 0,
         "x": 1,
         "xanchor": "right",
         "y": 1.02,
         "yanchor": "bottom"
        },
        "margin": {
         "t": 60
        },
        "plot_bgcolor": "#FFFFFF",
        "showlegend": true,
        "spikedistance": 1000,
        "template": {
         "data": {
          "bar": [
           {
            "error_x": {
             "color": "#2a3f5f"
            },
            "error_y": {
             "color": "#2a3f5f"
            },
            "marker": {
             "line": {
              "color": "#E5ECF6",
              "width": 0.5
             },
             "pattern": {
              "fillmode": "overlay",
              "size": 10,
              "solidity": 0.2
             }
            },
            "type": "bar"
           }
          ],
          "barpolar": [
           {
            "marker": {
             "line": {
              "color": "#E5ECF6",
              "width": 0.5
             },
             "pattern": {
              "fillmode": "overlay",
              "size": 10,
              "solidity": 0.2
             }
            },
            "type": "barpolar"
           }
          ],
          "carpet": [
           {
            "aaxis": {
             "endlinecolor": "#2a3f5f",
             "gridcolor": "white",
             "linecolor": "white",
             "minorgridcolor": "white",
             "startlinecolor": "#2a3f5f"
            },
            "baxis": {
             "endlinecolor": "#2a3f5f",
             "gridcolor": "white",
             "linecolor": "white",
             "minorgridcolor": "white",
             "startlinecolor": "#2a3f5f"
            },
            "type": "carpet"
           }
          ],
          "choropleth": [
           {
            "colorbar": {
             "outlinewidth": 0,
             "ticks": ""
            },
            "type": "choropleth"
           }
          ],
          "contour": [
           {
            "colorbar": {
             "outlinewidth": 0,
             "ticks": ""
            },
            "colorscale": [
             [
              0,
              "#0d0887"
             ],
             [
              0.1111111111111111,
              "#46039f"
             ],
             [
              0.2222222222222222,
              "#7201a8"
             ],
             [
              0.3333333333333333,
              "#9c179e"
             ],
             [
              0.4444444444444444,
              "#bd3786"
             ],
             [
              0.5555555555555556,
              "#d8576b"
             ],
             [
              0.6666666666666666,
              "#ed7953"
             ],
             [
              0.7777777777777778,
              "#fb9f3a"
             ],
             [
              0.8888888888888888,
              "#fdca26"
             ],
             [
              1,
              "#f0f921"
             ]
            ],
            "type": "contour"
           }
          ],
          "contourcarpet": [
           {
            "colorbar": {
             "outlinewidth": 0,
             "ticks": ""
            },
            "type": "contourcarpet"
           }
          ],
          "heatmap": [
           {
            "colorbar": {
             "outlinewidth": 0,
             "ticks": ""
            },
            "colorscale": [
             [
              0,
              "#0d0887"
             ],
             [
              0.1111111111111111,
              "#46039f"
             ],
             [
              0.2222222222222222,
              "#7201a8"
             ],
             [
              0.3333333333333333,
              "#9c179e"
             ],
             [
              0.4444444444444444,
              "#bd3786"
             ],
             [
              0.5555555555555556,
              "#d8576b"
             ],
             [
              0.6666666666666666,
              "#ed7953"
             ],
             [
              0.7777777777777778,
              "#fb9f3a"
             ],
             [
              0.8888888888888888,
              "#fdca26"
             ],
             [
              1,
              "#f0f921"
             ]
            ],
            "type": "heatmap"
           }
          ],
          "heatmapgl": [
           {
            "colorbar": {
             "outlinewidth": 0,
             "ticks": ""
            },
            "colorscale": [
             [
              0,
              "#0d0887"
             ],
             [
              0.1111111111111111,
              "#46039f"
             ],
             [
              0.2222222222222222,
              "#7201a8"
             ],
             [
              0.3333333333333333,
              "#9c179e"
             ],
             [
              0.4444444444444444,
              "#bd3786"
             ],
             [
              0.5555555555555556,
              "#d8576b"
             ],
             [
              0.6666666666666666,
              "#ed7953"
             ],
             [
              0.7777777777777778,
              "#fb9f3a"
             ],
             [
              0.8888888888888888,
              "#fdca26"
             ],
             [
              1,
              "#f0f921"
             ]
            ],
            "type": "heatmapgl"
           }
          ],
          "histogram": [
           {
            "marker": {
             "pattern": {
              "fillmode": "overlay",
              "size": 10,
              "solidity": 0.2
             }
            },
            "type": "histogram"
           }
          ],
          "histogram2d": [
           {
            "colorbar": {
             "outlinewidth": 0,
             "ticks": ""
            },
            "colorscale": [
             [
              0,
              "#0d0887"
             ],
             [
              0.1111111111111111,
              "#46039f"
             ],
             [
              0.2222222222222222,
              "#7201a8"
             ],
             [
              0.3333333333333333,
              "#9c179e"
             ],
             [
              0.4444444444444444,
              "#bd3786"
             ],
             [
              0.5555555555555556,
              "#d8576b"
             ],
             [
              0.6666666666666666,
              "#ed7953"
             ],
             [
              0.7777777777777778,
              "#fb9f3a"
             ],
             [
              0.8888888888888888,
              "#fdca26"
             ],
             [
              1,
              "#f0f921"
             ]
            ],
            "type": "histogram2d"
           }
          ],
          "histogram2dcontour": [
           {
            "colorbar": {
             "outlinewidth": 0,
             "ticks": ""
            },
            "colorscale": [
             [
              0,
              "#0d0887"
             ],
             [
              0.1111111111111111,
              "#46039f"
             ],
             [
              0.2222222222222222,
              "#7201a8"
             ],
             [
              0.3333333333333333,
              "#9c179e"
             ],
             [
              0.4444444444444444,
              "#bd3786"
             ],
             [
              0.5555555555555556,
              "#d8576b"
             ],
             [
              0.6666666666666666,
              "#ed7953"
             ],
             [
              0.7777777777777778,
              "#fb9f3a"
             ],
             [
              0.8888888888888888,
              "#fdca26"
             ],
             [
              1,
              "#f0f921"
             ]
            ],
            "type": "histogram2dcontour"
           }
          ],
          "mesh3d": [
           {
            "colorbar": {
             "outlinewidth": 0,
             "ticks": ""
            },
            "type": "mesh3d"
           }
          ],
          "parcoords": [
           {
            "line": {
             "colorbar": {
              "outlinewidth": 0,
              "ticks": ""
             }
            },
            "type": "parcoords"
           }
          ],
          "pie": [
           {
            "automargin": true,
            "type": "pie"
           }
          ],
          "scatter": [
           {
            "fillpattern": {
             "fillmode": "overlay",
             "size": 10,
             "solidity": 0.2
            },
            "type": "scatter"
           }
          ],
          "scatter3d": [
           {
            "line": {
             "colorbar": {
              "outlinewidth": 0,
              "ticks": ""
             }
            },
            "marker": {
             "colorbar": {
              "outlinewidth": 0,
              "ticks": ""
             }
            },
            "type": "scatter3d"
           }
          ],
          "scattercarpet": [
           {
            "marker": {
             "colorbar": {
              "outlinewidth": 0,
              "ticks": ""
             }
            },
            "type": "scattercarpet"
           }
          ],
          "scattergeo": [
           {
            "marker": {
             "colorbar": {
              "outlinewidth": 0,
              "ticks": ""
             }
            },
            "type": "scattergeo"
           }
          ],
          "scattergl": [
           {
            "marker": {
             "colorbar": {
              "outlinewidth": 0,
              "ticks": ""
             }
            },
            "type": "scattergl"
           }
          ],
          "scattermapbox": [
           {
            "marker": {
             "colorbar": {
              "outlinewidth": 0,
              "ticks": ""
             }
            },
            "type": "scattermapbox"
           }
          ],
          "scatterpolar": [
           {
            "marker": {
             "colorbar": {
              "outlinewidth": 0,
              "ticks": ""
             }
            },
            "type": "scatterpolar"
           }
          ],
          "scatterpolargl": [
           {
            "marker": {
             "colorbar": {
              "outlinewidth": 0,
              "ticks": ""
             }
            },
            "type": "scatterpolargl"
           }
          ],
          "scatterternary": [
           {
            "marker": {
             "colorbar": {
              "outlinewidth": 0,
              "ticks": ""
             }
            },
            "type": "scatterternary"
           }
          ],
          "surface": [
           {
            "colorbar": {
             "outlinewidth": 0,
             "ticks": ""
            },
            "colorscale": [
             [
              0,
              "#0d0887"
             ],
             [
              0.1111111111111111,
              "#46039f"
             ],
             [
              0.2222222222222222,
              "#7201a8"
             ],
             [
              0.3333333333333333,
              "#9c179e"
             ],
             [
              0.4444444444444444,
              "#bd3786"
             ],
             [
              0.5555555555555556,
              "#d8576b"
             ],
             [
              0.6666666666666666,
              "#ed7953"
             ],
             [
              0.7777777777777778,
              "#fb9f3a"
             ],
             [
              0.8888888888888888,
              "#fdca26"
             ],
             [
              1,
              "#f0f921"
             ]
            ],
            "type": "surface"
           }
          ],
          "table": [
           {
            "cells": {
             "fill": {
              "color": "#EBF0F8"
             },
             "line": {
              "color": "white"
             }
            },
            "header": {
             "fill": {
              "color": "#C8D4E3"
             },
             "line": {
              "color": "white"
             }
            },
            "type": "table"
           }
          ]
         },
         "layout": {
          "annotationdefaults": {
           "arrowcolor": "#2a3f5f",
           "arrowhead": 0,
           "arrowwidth": 1
          },
          "autotypenumbers": "strict",
          "coloraxis": {
           "colorbar": {
            "outlinewidth": 0,
            "ticks": ""
           }
          },
          "colorscale": {
           "diverging": [
            [
             0,
             "#8e0152"
            ],
            [
             0.1,
             "#c51b7d"
            ],
            [
             0.2,
             "#de77ae"
            ],
            [
             0.3,
             "#f1b6da"
            ],
            [
             0.4,
             "#fde0ef"
            ],
            [
             0.5,
             "#f7f7f7"
            ],
            [
             0.6,
             "#e6f5d0"
            ],
            [
             0.7,
             "#b8e186"
            ],
            [
             0.8,
             "#7fbc41"
            ],
            [
             0.9,
             "#4d9221"
            ],
            [
             1,
             "#276419"
            ]
           ],
           "sequential": [
            [
             0,
             "#0d0887"
            ],
            [
             0.1111111111111111,
             "#46039f"
            ],
            [
             0.2222222222222222,
             "#7201a8"
            ],
            [
             0.3333333333333333,
             "#9c179e"
            ],
            [
             0.4444444444444444,
             "#bd3786"
            ],
            [
             0.5555555555555556,
             "#d8576b"
            ],
            [
             0.6666666666666666,
             "#ed7953"
            ],
            [
             0.7777777777777778,
             "#fb9f3a"
            ],
            [
             0.8888888888888888,
             "#fdca26"
            ],
            [
             1,
             "#f0f921"
            ]
           ],
           "sequentialminus": [
            [
             0,
             "#0d0887"
            ],
            [
             0.1111111111111111,
             "#46039f"
            ],
            [
             0.2222222222222222,
             "#7201a8"
            ],
            [
             0.3333333333333333,
             "#9c179e"
            ],
            [
             0.4444444444444444,
             "#bd3786"
            ],
            [
             0.5555555555555556,
             "#d8576b"
            ],
            [
             0.6666666666666666,
             "#ed7953"
            ],
            [
             0.7777777777777778,
             "#fb9f3a"
            ],
            [
             0.8888888888888888,
             "#fdca26"
            ],
            [
             1,
             "#f0f921"
            ]
           ]
          },
          "colorway": [
           "#636efa",
           "#EF553B",
           "#00cc96",
           "#ab63fa",
           "#FFA15A",
           "#19d3f3",
           "#FF6692",
           "#B6E880",
           "#FF97FF",
           "#FECB52"
          ],
          "font": {
           "color": "#2a3f5f"
          },
          "geo": {
           "bgcolor": "white",
           "lakecolor": "white",
           "landcolor": "#E5ECF6",
           "showlakes": true,
           "showland": true,
           "subunitcolor": "white"
          },
          "hoverlabel": {
           "align": "left"
          },
          "hovermode": "closest",
          "mapbox": {
           "style": "light"
          },
          "paper_bgcolor": "white",
          "plot_bgcolor": "#E5ECF6",
          "polar": {
           "angularaxis": {
            "gridcolor": "white",
            "linecolor": "white",
            "ticks": ""
           },
           "bgcolor": "#E5ECF6",
           "radialaxis": {
            "gridcolor": "white",
            "linecolor": "white",
            "ticks": ""
           }
          },
          "scene": {
           "xaxis": {
            "backgroundcolor": "#E5ECF6",
            "gridcolor": "white",
            "gridwidth": 2,
            "linecolor": "white",
            "showbackground": true,
            "ticks": "",
            "zerolinecolor": "white"
           },
           "yaxis": {
            "backgroundcolor": "#E5ECF6",
            "gridcolor": "white",
            "gridwidth": 2,
            "linecolor": "white",
            "showbackground": true,
            "ticks": "",
            "zerolinecolor": "white"
           },
           "zaxis": {
            "backgroundcolor": "#E5ECF6",
            "gridcolor": "white",
            "gridwidth": 2,
            "linecolor": "white",
            "showbackground": true,
            "ticks": "",
            "zerolinecolor": "white"
           }
          },
          "shapedefaults": {
           "line": {
            "color": "#2a3f5f"
           }
          },
          "ternary": {
           "aaxis": {
            "gridcolor": "white",
            "linecolor": "white",
            "ticks": ""
           },
           "baxis": {
            "gridcolor": "white",
            "linecolor": "white",
            "ticks": ""
           },
           "bgcolor": "#E5ECF6",
           "caxis": {
            "gridcolor": "white",
            "linecolor": "white",
            "ticks": ""
           }
          },
          "title": {
           "x": 0.05
          },
          "xaxis": {
           "automargin": true,
           "gridcolor": "white",
           "linecolor": "white",
           "ticks": "",
           "title": {
            "standoff": 15
           },
           "zerolinecolor": "white",
           "zerolinewidth": 2
          },
          "yaxis": {
           "automargin": true,
           "gridcolor": "white",
           "linecolor": "white",
           "ticks": "",
           "title": {
            "standoff": 15
           },
           "zerolinecolor": "white",
           "zerolinewidth": 2
          }
         }
        },
        "title": {
         "font": {
          "size": 20
         },
         "text": "Differences Between lakes and Reservoirs in TON/CHL-a Relationship"
        },
        "xaxis": {
         "anchor": "y",
         "domain": [
          0,
          1
         ],
         "gridcolor": "#BCCCDC",
         "linecolor": "#BCCCDC",
         "minor": {
          "dtick": "M3",
          "showgrid": true,
          "ticks": "inside"
         },
         "showgrid": true,
         "showspikes": true,
         "spikecolor": "#999999",
         "spikedash": "dot",
         "spikemode": "across",
         "spikethickness": 2,
         "tickfont": {
          "size": 14
         },
         "title": {
          "font": {
           "size": 18
          },
          "text": "Chlorophyll-a [mg.m<sup>-3</sup>]"
         },
         "type": "log"
        },
        "yaxis": {
         "anchor": "x",
         "domain": [
          0,
          1
         ],
         "gridcolor": "#BCCCDC",
         "linecolor": "#BCCCDC",
         "showgrid": false,
         "tickfont": {
          "size": 14
         },
         "title": {
          "font": {
           "size": 18
          },
          "text": "Total Organic Nitrogen [μM]"
         },
         "type": "log"
        }
       }
      }
     },
     "metadata": {},
     "output_type": "display_data"
    }
   ],
   "source": [
    "fig6 = px.scatter(data_frame=data,\n",
    "x='TON',\n",
    "y='CHL',\n",
    "log_x=True,\n",
    "log_y=True,\n",
    "trendline='ols',\n",
    "trendline_options=dict(log_x=True, log_y=True),\n",
    "color='TYPE',\n",
    "color_discrete_sequence=colors_type,\n",
    "hover_name=data.index,\n",
    ")\n",
    "fig_title = 'Differences Between lakes and Reservoirs in TON/CHL-a Relationship'\n",
    "xaxis_title='Total Organic Nitrogen [μM]'\n",
    "yaxis_title='Chlorophyll-a [mg.m<sup>-3</sup>]'\n",
    "\n",
    "apply_custom_layout(fig6, fig_title, xaxis_title, yaxis_title, font='Lora',show_xspikes=True, legend_title=None)\n",
    "fig6.update_layout(hovermode='closest',  coloraxis_colorbar_orientation='h')\n",
    "fig6.update_traces(marker=dict(size=12,\n",
    "                              line=dict(width=0.75,\n",
    "                                        color='DarkSlateGrey')),\n",
    "                  selector=dict(mode='markers'))\n",
    "    \n",
    "fig6.show()"
   ]
  },
  {
   "cell_type": "code",
   "execution_count": null,
   "id": "94f107a1",
   "metadata": {},
   "outputs": [],
   "source": []
  },
  {
   "cell_type": "code",
   "execution_count": 274,
   "id": "0f2f5e8a",
   "metadata": {},
   "outputs": [
    {
     "data": {
      "application/vnd.plotly.v1+json": {
       "config": {
        "plotlyServerURL": "https://plot.ly"
       },
       "data": [
        {
         "hovertemplate": "<b>%{hovertext}</b><br><br>REGION=ANW<br>TSI-SD=%{x}<br>TSI-TP=%{y}<br>TSI-CHL=%{z}<extra></extra>",
         "hovertext": [
          "Rodeo",
          "Comedero",
          "La Ciénaga",
          "Las Maderas",
          "Campo Alegre",
          "Cabra Corral",
          "El Cadillal",
          "Río Hondo",
          "Sumampa",
          "las Pirquitas",
          "Los Sauces"
         ],
         "legendgroup": "ANW",
         "marker": {
          "color": "gold",
          "line": {
           "color": "DarkSlateGrey",
           "width": 1
          },
          "size": 6,
          "symbol": "circle"
         },
         "mode": "markers",
         "name": "ANW",
         "scene": "scene",
         "showlegend": true,
         "type": "scatter3d",
         "x": [
          62.341897774062936,
          57.37274636659912,
          60,
          55.15143507028832,
          57.37274636659912,
          49.30868286244967,
          71.50649590249809,
          73.20374944630657,
          61.518245030629274,
          63.58032818749138,
          65.13968594215713
         ],
         "y": [
          43.20008389989387,
          45.82916074886269,
          50.56618939459945,
          49.363826593698334,
          62.701588212079365,
          44.130729374697644,
          62.94808994112048,
          87.41903328675038,
          61.67114995145684,
          58.718014521101324,
          68.38168801197558
         ],
         "z": [
          57.42414526740612,
          61.14358518335378,
          50.23451880206132,
          55.98596518558382,
          61.653310222264054,
          49.828529831503715,
          43.69636046464426,
          53.57311495830528,
          62.01894260522489,
          57.42414526740612,
          66.12858961036497
         ]
        },
        {
         "hovertemplate": "<b>%{hovertext}</b><br><br>REGION=Pampa Mountains<br>TSI-SD=%{x}<br>TSI-TP=%{y}<br>TSI-CHL=%{z}<extra></extra>",
         "hovertext": [
          "Anzulón",
          "Portezuelo",
          "Cruz del Eje",
          "Mar Chiquita",
          "Saladillo",
          "San Roque",
          "La Viña",
          "Los Molinos",
          "Río Tercero",
          "San Felipe"
         ],
         "legendgroup": "Pampa Mountains",
         "marker": {
          "color": "indianred",
          "line": {
           "color": "DarkSlateGrey",
           "width": 1
          },
          "size": 6,
          "symbol": "circle"
         },
         "mode": "markers",
         "name": "Pampa Mountains",
         "scene": "scene",
         "showlegend": true,
         "type": "scatter3d",
         "x": [
          78.3434353884637,
          63.21549857443776,
          58.62658030901968,
          58.62658030901968,
          77.34924811033673,
          47.3844954947303,
          48.638329437150865,
          47.997779538505156,
          46.796250553693426,
          61.518245030629274
         ],
         "y": [
          93.0855877986099,
          67.15743803257445,
          48.722832177426916,
          68.38168801197558,
          87.3291887593462,
          52.200389036726435,
          50.56618939459945,
          51.13175207826977,
          49.97753623361738,
          57.69970920187612
         ],
         "z": [
          44.19954768258613,
          62.21633357061121,
          47.50034032384023,
          66.41295734709158,
          83.4263955341664,
          52.15477310366832,
          49.259674833953795,
          56.558974762338245,
          59.223330881746776,
          69.13266323847333
         ]
        },
        {
         "hovertemplate": "<b>%{hovertext}</b><br><br>REGION=Cuyo<br>TSI-SD=%{x}<br>TSI-TP=%{y}<br>TSI-CHL=%{z}<extra></extra>",
         "hovertext": [
          "Ullum",
          "La Florida",
          "El Carrizal",
          "El Diamante",
          "Agua del Toro",
          "Los Reyunos",
          "Valle Grande",
          "El Nihuil"
         ],
         "legendgroup": "Cuyo",
         "marker": {
          "color": "mediumseagreen",
          "line": {
           "color": "DarkSlateGrey",
           "width": 1
          },
          "size": 6,
          "symbol": "circle"
         },
         "mode": "markers",
         "name": "Cuyo",
         "scene": "scene",
         "showlegend": true,
         "type": "scatter3d",
         "x": [
          56.5557664642201,
          43.23899683070014,
          50.75088550025579,
          37.09912069427007,
          37.09912069427007,
          40.02349825626237,
          37.09912069427007,
          34.6692674080703
         ],
         "y": [
          45.00493642129064,
          43.20008389989387,
          41.136569734595355,
          38.7276498337525,
          27.358094697299727,
          35.83397840518828,
          35.83397840518828,
          45.82916074886269
         ],
         "z": [
          29.888081503290266,
          43.69636046464426,
          45.988122154734825,
          26.6713150716822,
          31.623771750330825,
          34.24503848860266,
          32.05600025021026,
          33.17379343442609
         ]
        },
        {
         "hovertemplate": "<b>%{hovertext}</b><br><br>REGION=Pampa Plains<br>TSI-SD=%{x}<br>TSI-TP=%{y}<br>TSI-CHL=%{z}<extra></extra>",
         "hovertext": [
          "Melincué",
          "El Carpincho",
          "De Gómez",
          "Navarro",
          "Las mulitas",
          "De Lobos",
          "Indio Muerto",
          "De Monte",
          "La Chilca",
          "Chascomús",
          "La Limpia",
          "La Tablilla",
          "Blanca Grande",
          "Alsina",
          "Cochicó",
          "Salada Grande",
          "Los Horcones",
          "Del Monte",
          "Dulce",
          "Del Venado",
          "Epecuén",
          "La Brava",
          "De los Padres",
          "De Pigüé",
          "De Saavedra",
          "Sauce Grande"
         ],
         "legendgroup": "Pampa Plains",
         "marker": {
          "color": "turquoise",
          "line": {
           "color": "DarkSlateGrey",
           "width": 1
          },
          "size": 6,
          "symbol": "circle"
         },
         "mode": "markers",
         "name": "Pampa Plains",
         "scene": "scene",
         "showlegend": true,
         "type": "scatter3d",
         "x": [
          87.33749898220555,
          67.36099723846793,
          84.71024534880466,
          85.53389809223832,
          66.20758182089227,
          79.97650174373763,
          60,
          65.13968594215713,
          59.296933734318486,
          87.33749898220555,
          87.33749898220555,
          49.30868286244967,
          83.19200031817539,
          77.34924811033673,
          71.50649590249809,
          38.00952866663634,
          66.20758182089227,
          69.98825087186881,
          79.97650174373763,
          78.3434353884637,
          83.19200031817539,
          55.15143507028832,
          44.65751827993911,
          75.97582841935642,
          69.42308039533003,
          75.12793681402594
         ],
         "y": [
          133.58587929302274,
          107.4093979740992,
          106.97756113287332,
          88.62139608765149,
          70.84210796755919,
          85.65889397947394,
          73.06496077066826,
          83.47814339605497,
          67.51795681037657,
          82.56710363467249,
          105.61126127988274,
          49.363826593698334,
          83.76946643557359,
          81.04780499888662,
          79.11232719085322,
          61.401609393421595,
          84.55518606736989,
          77.0610645131226,
          90.4746379162016,
          92.43634631319746,
          110.60920380523511,
          79.65949310400788,
          73.65846017602463,
          74.00317778673289,
          65.81952543621152,
          83.53688074814467
         ],
         "z": [
          47.67397317518535,
          73.87765313614034,
          89.50539610495213,
          76.94959562045862,
          61.817498155271736,
          80.76041236655342,
          55.45556574492241,
          66.93396473342142,
          56.13238581420941,
          70.31382911870001,
          51.70878721397533,
          37.39977384129307,
          71.90642762577815,
          77.63047696076202,
          75.59853097268572,
          35.21073560290067,
          57.61341158819532,
          74.6335227870723,
          77.15631090729008,
          79.97420960043425,
          69.98302581471927,
          50.8759236704299,
          42.31237941571459,
          68.3071302554603,
          61.69461554644558,
          66.25887040958702
         ]
        },
        {
         "hovertemplate": "<b>%{hovertext}</b><br><br>REGION=Patagonian Plateau<br>TSI-SD=%{x}<br>TSI-TP=%{y}<br>TSI-CHL=%{z}<extra></extra>",
         "hovertext": [
          "La Dulce",
          "Urre Lauquen",
          "Marri Menuco",
          "Los Barreales",
          "Ramos Mexía",
          "Ne Luan",
          "Muster",
          "Colhue Huapi",
          "Ameghino"
         ],
         "legendgroup": "Patagonian Plateau",
         "marker": {
          "color": "royalblue",
          "line": {
           "color": "DarkSlateGrey",
           "width": 1
          },
          "size": 6,
          "symbol": "circle"
         },
         "mode": "markers",
         "name": "Patagonian Plateau",
         "scene": "scene",
         "showlegend": true,
         "type": "scatter3d",
         "x": [
          58.62658030901968,
          62.68500922173942,
          29.161646584018737,
          49.30868286244967,
          40.02349825626237,
          67.36099723846793,
          57.37274636659912,
          98.31993713220133,
          48.638329437150865
         ],
         "y": [
          50.56618939459945,
          56.60399242325448,
          24.14036468734882,
          35.83397840518828,
          35.83397840518828,
          64.99530110863947,
          53.19526624356828,
          96.58472179795214,
          58.38650566830117
         ],
         "z": [
          55.61005712677986,
          50.49613430593732,
          26.52379349473606,
          35.977071017480036,
          38.15476165483849,
          61.69461554644558,
          49.828529831503715,
          58.393822905191485,
          38.200073513688736
         ]
        },
        {
         "hovertemplate": "<b>%{hovertext}</b><br><br>REGION=Patagonian Andes<br>TSI-SD=%{x}<br>TSI-TP=%{y}<br>TSI-CHL=%{z}<extra></extra>",
         "hovertext": [
          "Agrio",
          "Pellegrini",
          "Blanca ",
          "Aluminé",
          "Norquinco",
          "Quillén",
          "Huechulafquen",
          "Lacar",
          "Nahuel Huapi",
          "Gutierrez",
          "Mascardi",
          "Guillermo",
          "Steffen",
          "Las Chultas",
          "Epuyen",
          "Puelo",
          "Cholila",
          "Lezama",
          "Los Mosquitos",
          "Rivadavia",
          "Esquel",
          "Brechman",
          "Verde",
          "Wilimanco",
          "Zeta",
          "Largo",
          "Terraplén",
          "Amutui Quimen",
          "Futalaufquen",
          "Rosario",
          "Quichaura",
          "Cronometro",
          "Los Niños",
          "Pico 4",
          "Pico 3",
          "Pico 1",
          "La Plata",
          "Fontana",
          "Blanco"
         ],
         "legendgroup": "Patagonian Andes",
         "marker": {
          "color": "darkorchid",
          "line": {
           "color": "DarkSlateGrey",
           "width": 1
          },
          "size": 6,
          "symbol": "circle"
         },
         "mode": "markers",
         "name": "Patagonian Andes",
         "scene": "scene",
         "showlegend": true,
         "type": "scatter3d",
         "x": [
          28.337993840585074,
          50.011749128131186,
          35.43457999084429,
          22.710320252368724,
          30.40007699744718,
          19.603576911136834,
          30.965247473985965,
          21.465517961763723,
          23.604250235518037,
          26.11668254427429,
          27.558885182080402,
          25.446329118975477,
          23.039079758979256,
          28.337993840585074,
          17.570634310211595,
          31.959434752112937,
          24.805779220329768,
          20.04699651252475,
          61.518245030629274,
          24.805779220329768,
          45.163184198419515,
          54.15724779216135,
          25.446329118975477,
          40.02349825626237,
          41.54174328689166,
          22.495241632746428,
          58.62658030901968,
          26.11668254427429,
          21.971183880244126,
          34.42293662336278,
          36.80799968182461,
          57.37274636659912,
          24.192495176554914,
          24.192495176554914,
          43.23899683070014,
          23.150354443192505,
          23.4894289108734,
          21.465517961763723,
          110.52949930038093
         ],
         "y": [
          83.06014311434268,
          49.97753623361738,
          70.84210796755919,
          19.99198920259414,
          27.358094697299727,
          19.99198920259414,
          42.20520669305203,
          24.14036468734882,
          24.14036468734882,
          14.145182343674412,
          19.99198920259414,
          24.14036468734882,
          19.99198920259414,
          35.83397840518828,
          4.15,
          19.99198920259414,
          35.83397840518828,
          24.14036468734882,
          53.19526624356828,
          19.99198920259414,
          66.21461864400413,
          58.38650566830117,
          24.14036468734882,
          50.56618939459945,
          69.35419128104716,
          32.21002434937762,
          53.19526624356828,
          19.99198920259414,
          14.145182343674412,
          47.34845938464855,
          56.60399242325448,
          86.1072202450238,
          29.987171546268556,
          35.83397840518828,
          54.56963903634664,
          35.83397840518828,
          29.987171546268556,
          29.987171546268556,
          110.07946722694969
         ],
         "z": [
          25.750953082997007,
          56.558974762338245,
          34.10878629830651,
          19.11069495145611,
          22.320653610410673,
          18.456452567624133,
          27.64615903978973,
          20.846385198496666,
          21.853422449826084,
          21.362820223988656,
          15.746406942901903,
          24.735219022587366,
          15.290045589523604,
          26.95986528555594,
          12.622375840629076,
          16.182478733721783,
          19.724019653442994,
          27.64615903978973,
          69.7500833632124,
          20.301244958667972,
          44.44178221209767,
          54.976934234420284,
          26.81665106323443,
          49.96573486527592,
          49.11215325700765,
          23.60203759992207,
          60.03706138578795,
          26.81665106323443,
          23.800226158706938,
          35.747586868852174,
          31.53499286388043,
          52.787895996027885,
          23.1932284482325,
          36.42053635217458,
          40.70056648254716,
          29.78202641630791,
          17.385207513447565,
          18.112206720275577,
          73.31412743991845
         ]
        },
        {
         "line": {
          "color": "DarkSlateGrey"
         },
         "mode": "lines",
         "name": "All TSI Equal",
         "type": "scatter3d",
         "x": [
          0,
          135
         ],
         "y": [
          0,
          135
         ],
         "z": [
          0,
          135
         ]
        }
       ],
       "layout": {
        "font": {
         "family": "Open Sans"
        },
        "height": 900,
        "legend": {
         "title": {
          "text": "Regions"
         },
         "tracegroupgap": 0
        },
        "plot_bgcolor": "#FFFFFF",
        "scene": {
         "camera": {
          "eye": {
           "x": 1.5,
           "y": -2,
           "z": 1
          }
         },
         "domain": {
          "x": [
           0,
           1
          ],
          "y": [
           0,
           1
          ]
         },
         "xaxis": {
          "title": {
           "text": "TSI-SD"
          }
         },
         "yaxis": {
          "title": {
           "text": "TSI-TP"
          }
         },
         "zaxis": {
          "title": {
           "text": "TSI-CHL"
          }
         }
        },
        "template": {
         "data": {
          "bar": [
           {
            "error_x": {
             "color": "#2a3f5f"
            },
            "error_y": {
             "color": "#2a3f5f"
            },
            "marker": {
             "line": {
              "color": "#E5ECF6",
              "width": 0.5
             },
             "pattern": {
              "fillmode": "overlay",
              "size": 10,
              "solidity": 0.2
             }
            },
            "type": "bar"
           }
          ],
          "barpolar": [
           {
            "marker": {
             "line": {
              "color": "#E5ECF6",
              "width": 0.5
             },
             "pattern": {
              "fillmode": "overlay",
              "size": 10,
              "solidity": 0.2
             }
            },
            "type": "barpolar"
           }
          ],
          "carpet": [
           {
            "aaxis": {
             "endlinecolor": "#2a3f5f",
             "gridcolor": "white",
             "linecolor": "white",
             "minorgridcolor": "white",
             "startlinecolor": "#2a3f5f"
            },
            "baxis": {
             "endlinecolor": "#2a3f5f",
             "gridcolor": "white",
             "linecolor": "white",
             "minorgridcolor": "white",
             "startlinecolor": "#2a3f5f"
            },
            "type": "carpet"
           }
          ],
          "choropleth": [
           {
            "colorbar": {
             "outlinewidth": 0,
             "ticks": ""
            },
            "type": "choropleth"
           }
          ],
          "contour": [
           {
            "colorbar": {
             "outlinewidth": 0,
             "ticks": ""
            },
            "colorscale": [
             [
              0,
              "#0d0887"
             ],
             [
              0.1111111111111111,
              "#46039f"
             ],
             [
              0.2222222222222222,
              "#7201a8"
             ],
             [
              0.3333333333333333,
              "#9c179e"
             ],
             [
              0.4444444444444444,
              "#bd3786"
             ],
             [
              0.5555555555555556,
              "#d8576b"
             ],
             [
              0.6666666666666666,
              "#ed7953"
             ],
             [
              0.7777777777777778,
              "#fb9f3a"
             ],
             [
              0.8888888888888888,
              "#fdca26"
             ],
             [
              1,
              "#f0f921"
             ]
            ],
            "type": "contour"
           }
          ],
          "contourcarpet": [
           {
            "colorbar": {
             "outlinewidth": 0,
             "ticks": ""
            },
            "type": "contourcarpet"
           }
          ],
          "heatmap": [
           {
            "colorbar": {
             "outlinewidth": 0,
             "ticks": ""
            },
            "colorscale": [
             [
              0,
              "#0d0887"
             ],
             [
              0.1111111111111111,
              "#46039f"
             ],
             [
              0.2222222222222222,
              "#7201a8"
             ],
             [
              0.3333333333333333,
              "#9c179e"
             ],
             [
              0.4444444444444444,
              "#bd3786"
             ],
             [
              0.5555555555555556,
              "#d8576b"
             ],
             [
              0.6666666666666666,
              "#ed7953"
             ],
             [
              0.7777777777777778,
              "#fb9f3a"
             ],
             [
              0.8888888888888888,
              "#fdca26"
             ],
             [
              1,
              "#f0f921"
             ]
            ],
            "type": "heatmap"
           }
          ],
          "heatmapgl": [
           {
            "colorbar": {
             "outlinewidth": 0,
             "ticks": ""
            },
            "colorscale": [
             [
              0,
              "#0d0887"
             ],
             [
              0.1111111111111111,
              "#46039f"
             ],
             [
              0.2222222222222222,
              "#7201a8"
             ],
             [
              0.3333333333333333,
              "#9c179e"
             ],
             [
              0.4444444444444444,
              "#bd3786"
             ],
             [
              0.5555555555555556,
              "#d8576b"
             ],
             [
              0.6666666666666666,
              "#ed7953"
             ],
             [
              0.7777777777777778,
              "#fb9f3a"
             ],
             [
              0.8888888888888888,
              "#fdca26"
             ],
             [
              1,
              "#f0f921"
             ]
            ],
            "type": "heatmapgl"
           }
          ],
          "histogram": [
           {
            "marker": {
             "pattern": {
              "fillmode": "overlay",
              "size": 10,
              "solidity": 0.2
             }
            },
            "type": "histogram"
           }
          ],
          "histogram2d": [
           {
            "colorbar": {
             "outlinewidth": 0,
             "ticks": ""
            },
            "colorscale": [
             [
              0,
              "#0d0887"
             ],
             [
              0.1111111111111111,
              "#46039f"
             ],
             [
              0.2222222222222222,
              "#7201a8"
             ],
             [
              0.3333333333333333,
              "#9c179e"
             ],
             [
              0.4444444444444444,
              "#bd3786"
             ],
             [
              0.5555555555555556,
              "#d8576b"
             ],
             [
              0.6666666666666666,
              "#ed7953"
             ],
             [
              0.7777777777777778,
              "#fb9f3a"
             ],
             [
              0.8888888888888888,
              "#fdca26"
             ],
             [
              1,
              "#f0f921"
             ]
            ],
            "type": "histogram2d"
           }
          ],
          "histogram2dcontour": [
           {
            "colorbar": {
             "outlinewidth": 0,
             "ticks": ""
            },
            "colorscale": [
             [
              0,
              "#0d0887"
             ],
             [
              0.1111111111111111,
              "#46039f"
             ],
             [
              0.2222222222222222,
              "#7201a8"
             ],
             [
              0.3333333333333333,
              "#9c179e"
             ],
             [
              0.4444444444444444,
              "#bd3786"
             ],
             [
              0.5555555555555556,
              "#d8576b"
             ],
             [
              0.6666666666666666,
              "#ed7953"
             ],
             [
              0.7777777777777778,
              "#fb9f3a"
             ],
             [
              0.8888888888888888,
              "#fdca26"
             ],
             [
              1,
              "#f0f921"
             ]
            ],
            "type": "histogram2dcontour"
           }
          ],
          "mesh3d": [
           {
            "colorbar": {
             "outlinewidth": 0,
             "ticks": ""
            },
            "type": "mesh3d"
           }
          ],
          "parcoords": [
           {
            "line": {
             "colorbar": {
              "outlinewidth": 0,
              "ticks": ""
             }
            },
            "type": "parcoords"
           }
          ],
          "pie": [
           {
            "automargin": true,
            "type": "pie"
           }
          ],
          "scatter": [
           {
            "fillpattern": {
             "fillmode": "overlay",
             "size": 10,
             "solidity": 0.2
            },
            "type": "scatter"
           }
          ],
          "scatter3d": [
           {
            "line": {
             "colorbar": {
              "outlinewidth": 0,
              "ticks": ""
             }
            },
            "marker": {
             "colorbar": {
              "outlinewidth": 0,
              "ticks": ""
             }
            },
            "type": "scatter3d"
           }
          ],
          "scattercarpet": [
           {
            "marker": {
             "colorbar": {
              "outlinewidth": 0,
              "ticks": ""
             }
            },
            "type": "scattercarpet"
           }
          ],
          "scattergeo": [
           {
            "marker": {
             "colorbar": {
              "outlinewidth": 0,
              "ticks": ""
             }
            },
            "type": "scattergeo"
           }
          ],
          "scattergl": [
           {
            "marker": {
             "colorbar": {
              "outlinewidth": 0,
              "ticks": ""
             }
            },
            "type": "scattergl"
           }
          ],
          "scattermapbox": [
           {
            "marker": {
             "colorbar": {
              "outlinewidth": 0,
              "ticks": ""
             }
            },
            "type": "scattermapbox"
           }
          ],
          "scatterpolar": [
           {
            "marker": {
             "colorbar": {
              "outlinewidth": 0,
              "ticks": ""
             }
            },
            "type": "scatterpolar"
           }
          ],
          "scatterpolargl": [
           {
            "marker": {
             "colorbar": {
              "outlinewidth": 0,
              "ticks": ""
             }
            },
            "type": "scatterpolargl"
           }
          ],
          "scatterternary": [
           {
            "marker": {
             "colorbar": {
              "outlinewidth": 0,
              "ticks": ""
             }
            },
            "type": "scatterternary"
           }
          ],
          "surface": [
           {
            "colorbar": {
             "outlinewidth": 0,
             "ticks": ""
            },
            "colorscale": [
             [
              0,
              "#0d0887"
             ],
             [
              0.1111111111111111,
              "#46039f"
             ],
             [
              0.2222222222222222,
              "#7201a8"
             ],
             [
              0.3333333333333333,
              "#9c179e"
             ],
             [
              0.4444444444444444,
              "#bd3786"
             ],
             [
              0.5555555555555556,
              "#d8576b"
             ],
             [
              0.6666666666666666,
              "#ed7953"
             ],
             [
              0.7777777777777778,
              "#fb9f3a"
             ],
             [
              0.8888888888888888,
              "#fdca26"
             ],
             [
              1,
              "#f0f921"
             ]
            ],
            "type": "surface"
           }
          ],
          "table": [
           {
            "cells": {
             "fill": {
              "color": "#EBF0F8"
             },
             "line": {
              "color": "white"
             }
            },
            "header": {
             "fill": {
              "color": "#C8D4E3"
             },
             "line": {
              "color": "white"
             }
            },
            "type": "table"
           }
          ]
         },
         "layout": {
          "annotationdefaults": {
           "arrowcolor": "#2a3f5f",
           "arrowhead": 0,
           "arrowwidth": 1
          },
          "autotypenumbers": "strict",
          "coloraxis": {
           "colorbar": {
            "outlinewidth": 0,
            "ticks": ""
           }
          },
          "colorscale": {
           "diverging": [
            [
             0,
             "#8e0152"
            ],
            [
             0.1,
             "#c51b7d"
            ],
            [
             0.2,
             "#de77ae"
            ],
            [
             0.3,
             "#f1b6da"
            ],
            [
             0.4,
             "#fde0ef"
            ],
            [
             0.5,
             "#f7f7f7"
            ],
            [
             0.6,
             "#e6f5d0"
            ],
            [
             0.7,
             "#b8e186"
            ],
            [
             0.8,
             "#7fbc41"
            ],
            [
             0.9,
             "#4d9221"
            ],
            [
             1,
             "#276419"
            ]
           ],
           "sequential": [
            [
             0,
             "#0d0887"
            ],
            [
             0.1111111111111111,
             "#46039f"
            ],
            [
             0.2222222222222222,
             "#7201a8"
            ],
            [
             0.3333333333333333,
             "#9c179e"
            ],
            [
             0.4444444444444444,
             "#bd3786"
            ],
            [
             0.5555555555555556,
             "#d8576b"
            ],
            [
             0.6666666666666666,
             "#ed7953"
            ],
            [
             0.7777777777777778,
             "#fb9f3a"
            ],
            [
             0.8888888888888888,
             "#fdca26"
            ],
            [
             1,
             "#f0f921"
            ]
           ],
           "sequentialminus": [
            [
             0,
             "#0d0887"
            ],
            [
             0.1111111111111111,
             "#46039f"
            ],
            [
             0.2222222222222222,
             "#7201a8"
            ],
            [
             0.3333333333333333,
             "#9c179e"
            ],
            [
             0.4444444444444444,
             "#bd3786"
            ],
            [
             0.5555555555555556,
             "#d8576b"
            ],
            [
             0.6666666666666666,
             "#ed7953"
            ],
            [
             0.7777777777777778,
             "#fb9f3a"
            ],
            [
             0.8888888888888888,
             "#fdca26"
            ],
            [
             1,
             "#f0f921"
            ]
           ]
          },
          "colorway": [
           "#636efa",
           "#EF553B",
           "#00cc96",
           "#ab63fa",
           "#FFA15A",
           "#19d3f3",
           "#FF6692",
           "#B6E880",
           "#FF97FF",
           "#FECB52"
          ],
          "font": {
           "color": "#2a3f5f"
          },
          "geo": {
           "bgcolor": "white",
           "lakecolor": "white",
           "landcolor": "#E5ECF6",
           "showlakes": true,
           "showland": true,
           "subunitcolor": "white"
          },
          "hoverlabel": {
           "align": "left"
          },
          "hovermode": "closest",
          "mapbox": {
           "style": "light"
          },
          "paper_bgcolor": "white",
          "plot_bgcolor": "#E5ECF6",
          "polar": {
           "angularaxis": {
            "gridcolor": "white",
            "linecolor": "white",
            "ticks": ""
           },
           "bgcolor": "#E5ECF6",
           "radialaxis": {
            "gridcolor": "white",
            "linecolor": "white",
            "ticks": ""
           }
          },
          "scene": {
           "xaxis": {
            "backgroundcolor": "#E5ECF6",
            "gridcolor": "white",
            "gridwidth": 2,
            "linecolor": "white",
            "showbackground": true,
            "ticks": "",
            "zerolinecolor": "white"
           },
           "yaxis": {
            "backgroundcolor": "#E5ECF6",
            "gridcolor": "white",
            "gridwidth": 2,
            "linecolor": "white",
            "showbackground": true,
            "ticks": "",
            "zerolinecolor": "white"
           },
           "zaxis": {
            "backgroundcolor": "#E5ECF6",
            "gridcolor": "white",
            "gridwidth": 2,
            "linecolor": "white",
            "showbackground": true,
            "ticks": "",
            "zerolinecolor": "white"
           }
          },
          "shapedefaults": {
           "line": {
            "color": "#2a3f5f"
           }
          },
          "ternary": {
           "aaxis": {
            "gridcolor": "white",
            "linecolor": "white",
            "ticks": ""
           },
           "baxis": {
            "gridcolor": "white",
            "linecolor": "white",
            "ticks": ""
           },
           "bgcolor": "#E5ECF6",
           "caxis": {
            "gridcolor": "white",
            "linecolor": "white",
            "ticks": ""
           }
          },
          "title": {
           "x": 0.05
          },
          "xaxis": {
           "automargin": true,
           "gridcolor": "white",
           "linecolor": "white",
           "ticks": "",
           "title": {
            "standoff": 15
           },
           "zerolinecolor": "white",
           "zerolinewidth": 2
          },
          "yaxis": {
           "automargin": true,
           "gridcolor": "white",
           "linecolor": "white",
           "ticks": "",
           "title": {
            "standoff": 15
           },
           "zerolinecolor": "white",
           "zerolinewidth": 2
          }
         }
        },
        "title": {
         "font": {
          "size": 18
         },
         "text": "Three TSI in Argentina's Different Geographic Regions"
        },
        "width": 1000,
        "xaxis": {
         "gridcolor": "#BCCCDC",
         "linecolor": "#BCCCDC"
        },
        "yaxis": {
         "gridcolor": "#BCCCDC",
         "linecolor": "#BCCCDC"
        }
       }
      }
     },
     "metadata": {},
     "output_type": "display_data"
    }
   ],
   "source": [
    "fig7 = px.scatter_3d(data_frame=data, x='TSI-SD', y='TSI-TP', z='TSI-CHL', color='REGION', hover_name=data.index, color_discrete_sequence=colors_region_2, title='Three TSI in Argentina\\'s Different Geographic Regions')\n",
    "\n",
    "fig7.update_layout(font_family='Open Sans',  # Font to be used in all elements, unless overridden\n",
    "        plot_bgcolor='#FFFFFF',\n",
    "        legend_title='Regions',\n",
    "        width=1000,\n",
    "        height=900,\n",
    "        title_font_size=18,  # Title fontsize\n",
    "        xaxis={\n",
    "            'linecolor': '#BCCCDC',  # Color of X-axis (not X-axis text)\n",
    "            'gridcolor': '#BCCCDC'},  # Color of major X-axis grid\n",
    "        yaxis={\n",
    "            'linecolor': '#BCCCDC',  # Color of X-axis (not X-axis text)\n",
    "            'gridcolor': '#BCCCDC'})  # Color of major X-axis grid\n",
    "fig7.add_trace(go.Scatter3d(x=[0, 135], y=[0, 135], z=[0, 135], mode='lines', line_color='DarkSlateGrey', name='All TSI Equal'))\n",
    "\n",
    "fig7.update_traces(marker=dict(size=6,\n",
    "                              line=dict(width=1,\n",
    "                                        color='DarkSlateGrey')),\n",
    "                  selector=dict(mode='markers'))\n",
    "\n",
    "\n",
    "\n",
    "# Update 3D scene options\n",
    "fig7.update_scenes(\n",
    "    camera_eye=dict(x=1.5, y=-2, z=1))\n",
    "\n",
    "\n",
    "\n",
    "fig7.show()"
   ]
  },
  {
   "cell_type": "code",
   "execution_count": 239,
   "id": "12640f5b",
   "metadata": {},
   "outputs": [],
   "source": [
    "aux_df = data\n",
    "aux_df['TSI-CHL - TSI-SD'] = data['TSI-CHL'] - data['TSI-SD']\n",
    "aux_df['TSI-CHL - TSI-TP'] = data['TSI-CHL'] - data['TSI-TP']"
   ]
  },
  {
   "cell_type": "code",
   "execution_count": 240,
   "id": "310417af",
   "metadata": {},
   "outputs": [
    {
     "data": {
      "application/vnd.plotly.v1+json": {
       "config": {
        "plotlyServerURL": "https://plot.ly"
       },
       "data": [
        {
         "hovertemplate": "<b>%{hovertext}</b><br><br>REGION=ANW<br>TSI-CHL - TSI-SD=%{x}<br>TSI-CHL - TSI-TP=%{y}<extra></extra>",
         "hovertext": [
          "Rodeo",
          "Comedero",
          "La Ciénaga",
          "Las Maderas",
          "Campo Alegre",
          "Cabra Corral",
          "El Cadillal",
          "Río Hondo",
          "Sumampa",
          "las Pirquitas",
          "Los Sauces"
         ],
         "legendgroup": "ANW",
         "marker": {
          "color": "gold",
          "line": {
           "color": "DarkSlateGrey",
           "width": 1
          },
          "size": 12,
          "symbol": "circle"
         },
         "mode": "markers",
         "name": "ANW",
         "orientation": "v",
         "showlegend": true,
         "type": "scatter",
         "x": [
          -4.917752506656818,
          3.7708388167546616,
          -9.765481197938684,
          0.8345301152955003,
          4.280563855664937,
          0.5198469690540435,
          -27.81013543785383,
          -19.63063448800129,
          0.5006975745956197,
          -6.156182920085264,
          0.9889036682078398
         ],
         "xaxis": "x",
         "y": [
          14.224061367512249,
          15.314424434491087,
          -0.33167059253813136,
          6.622138591885488,
          -1.0482779898153112,
          5.697800456806071,
          -19.25172947647622,
          -33.845918328445094,
          0.34779265376805313,
          -1.2938692536952061,
          -2.2530984016106146
         ],
         "yaxis": "y"
        },
        {
         "hovertemplate": "<b>%{hovertext}</b><br><br>REGION=Pampa Mountains<br>TSI-CHL - TSI-SD=%{x}<br>TSI-CHL - TSI-TP=%{y}<extra></extra>",
         "hovertext": [
          "Anzulón",
          "Portezuelo",
          "Cruz del Eje",
          "Mar Chiquita",
          "Saladillo",
          "San Roque",
          "La Viña",
          "Los Molinos",
          "Río Tercero",
          "San Felipe"
         ],
         "legendgroup": "Pampa Mountains",
         "marker": {
          "color": "indianred",
          "line": {
           "color": "DarkSlateGrey",
           "width": 1
          },
          "size": 12,
          "symbol": "circle"
         },
         "mode": "markers",
         "name": "Pampa Mountains",
         "orientation": "v",
         "showlegend": true,
         "type": "scatter",
         "x": [
          -34.143887705877574,
          -0.9991650038265476,
          -11.126239985179453,
          7.7863770380718975,
          6.077147423829672,
          4.7702776089380166,
          0.6213453968029299,
          8.561195223833089,
          12.42708032805335,
          7.614418207844054
         ],
         "xaxis": "x",
         "y": [
          -48.886040116023764,
          -4.941104461963235,
          -1.222491853586689,
          -1.9687306648840064,
          -3.902793225179792,
          -0.04561593305811584,
          -1.3065145606456525,
          5.427222684068475,
          9.245794648129397,
          11.43295403659721
         ],
         "yaxis": "y"
        },
        {
         "hovertemplate": "<b>%{hovertext}</b><br><br>REGION=Cuyo<br>TSI-CHL - TSI-SD=%{x}<br>TSI-CHL - TSI-TP=%{y}<extra></extra>",
         "hovertext": [
          "Ullum",
          "La Florida",
          "El Carrizal",
          "El Diamante",
          "Agua del Toro",
          "Los Reyunos",
          "Valle Grande",
          "El Nihuil"
         ],
         "legendgroup": "Cuyo",
         "marker": {
          "color": "mediumseagreen",
          "line": {
           "color": "DarkSlateGrey",
           "width": 1
          },
          "size": 12,
          "symbol": "circle"
         },
         "mode": "markers",
         "name": "Cuyo",
         "orientation": "v",
         "showlegend": true,
         "type": "scatter",
         "x": [
          -26.667684960929833,
          0.4573636339441194,
          -4.762763345520966,
          -10.427805622587869,
          -5.475348943939245,
          -5.778459767659712,
          -5.043120444059809,
          -1.4954739736442093
         ],
         "xaxis": "x",
         "y": [
          -15.11685491800037,
          0.4962765647503886,
          4.85155242013947,
          -12.0563347620703,
          4.265677053031098,
          -1.5889399165856233,
          -3.7779781549780225,
          -12.655367314436603
         ],
         "yaxis": "y"
        },
        {
         "hovertemplate": "<b>%{hovertext}</b><br><br>REGION=Pampa Plains<br>TSI-CHL - TSI-SD=%{x}<br>TSI-CHL - TSI-TP=%{y}<extra></extra>",
         "hovertext": [
          "Melincué",
          "El Carpincho",
          "De Gómez",
          "Navarro",
          "Las mulitas",
          "De Lobos",
          "Indio Muerto",
          "De Monte",
          "La Chilca",
          "Chascomús",
          "La Limpia",
          "La Tablilla",
          "Blanca Grande",
          "Alsina",
          "Cochicó",
          "Salada Grande",
          "Los Horcones",
          "Del Monte",
          "Dulce",
          "Del Venado",
          "Epecuén",
          "La Brava",
          "De los Padres",
          "De Pigüé",
          "De Saavedra",
          "Sauce Grande"
         ],
         "legendgroup": "Pampa Plains",
         "marker": {
          "color": "turquoise",
          "line": {
           "color": "DarkSlateGrey",
           "width": 1
          },
          "size": 12,
          "symbol": "circle"
         },
         "mode": "markers",
         "name": "Pampa Plains",
         "orientation": "v",
         "showlegend": true,
         "type": "scatter",
         "x": [
          -39.66352580702019,
          6.516655897672408,
          4.795150756147464,
          -8.584302471779694,
          -4.390083665620537,
          0.7839106228157959,
          -4.54443425507759,
          1.79427879126429,
          -3.1645479201090794,
          -17.023669863505532,
          -35.62871176823022,
          -11.908909021156603,
          -11.285572692397238,
          0.28122885042529333,
          4.0920350701876345,
          -2.7987930637356726,
          -8.594170232696953,
          4.64527191520348,
          -2.8201908364475514,
          1.6307742119705466,
          -13.208974503456119,
          -4.2755113998584235,
          -2.3451388642245234,
          -7.668698163896124,
          -7.72846484888445,
          -8.869066404438925
         ],
         "xaxis": "x",
         "y": [
          -85.91190611783739,
          -33.53174483795887,
          -17.472165027921193,
          -11.671800467192867,
          -9.024609812287451,
          -4.89848161292052,
          -17.609395025745854,
          -16.544178662633556,
          -11.385570996167168,
          -12.253274515972478,
          -53.90247406590741,
          -11.964052752405266,
          -11.863038809795441,
          -3.4173280381245945,
          -3.5137962181674993,
          -26.190873790520925,
          -26.94177447917457,
          -2.4275417260503076,
          -13.318327008911524,
          -12.462136712763211,
          -40.62617799051584,
          -28.78356943357798,
          -31.346080760310045,
          -5.6960475312725976,
          -4.124909889765938,
          -17.27801033855765
         ],
         "yaxis": "y"
        },
        {
         "hovertemplate": "<b>%{hovertext}</b><br><br>REGION=Patagonian Plateau<br>TSI-CHL - TSI-SD=%{x}<br>TSI-CHL - TSI-TP=%{y}<extra></extra>",
         "hovertext": [
          "La Dulce",
          "Urre Lauquen",
          "Marri Menuco",
          "Los Barreales",
          "Ramos Mexía",
          "Ne Luan",
          "Muster",
          "Colhue Huapi",
          "Ameghino"
         ],
         "legendgroup": "Patagonian Plateau",
         "marker": {
          "color": "royalblue",
          "line": {
           "color": "DarkSlateGrey",
           "width": 1
          },
          "size": 12,
          "symbol": "circle"
         },
         "mode": "markers",
         "name": "Patagonian Plateau",
         "orientation": "v",
         "showlegend": true,
         "type": "scatter",
         "x": [
          -3.0165231822398226,
          -12.188874915802103,
          -2.6378530892826753,
          -13.331611844969636,
          -1.8687366014238833,
          -5.666381692022348,
          -7.544216535095401,
          -39.92611422700985,
          -10.43825592346213
         ],
         "xaxis": "x",
         "y": [
          5.043867732180409,
          -6.107858117317164,
          2.38342880738724,
          0.14309261229175263,
          2.320783249650205,
          -3.300685562193884,
          -3.3667364120645615,
          -38.19089889276066,
          -20.186432154612433
         ],
         "yaxis": "y"
        },
        {
         "hovertemplate": "<b>%{hovertext}</b><br><br>REGION=Patagonian Andes<br>TSI-CHL - TSI-SD=%{x}<br>TSI-CHL - TSI-TP=%{y}<extra></extra>",
         "hovertext": [
          "Agrio",
          "Pellegrini",
          "Blanca ",
          "Aluminé",
          "Norquinco",
          "Quillén",
          "Huechulafquen",
          "Lacar",
          "Nahuel Huapi",
          "Gutierrez",
          "Mascardi",
          "Guillermo",
          "Steffen",
          "Las Chultas",
          "Epuyen",
          "Puelo",
          "Cholila",
          "Lezama",
          "Los Mosquitos",
          "Rivadavia",
          "Esquel",
          "Brechman",
          "Verde",
          "Wilimanco",
          "Zeta",
          "Largo",
          "Terraplén",
          "Amutui Quimen",
          "Futalaufquen",
          "Rosario",
          "Quichaura",
          "Cronometro",
          "Los Niños",
          "Pico 4",
          "Pico 3",
          "Pico 1",
          "La Plata",
          "Fontana",
          "Blanco"
         ],
         "legendgroup": "Patagonian Andes",
         "marker": {
          "color": "darkorchid",
          "line": {
           "color": "DarkSlateGrey",
           "width": 1
          },
          "size": 12,
          "symbol": "circle"
         },
         "mode": "markers",
         "name": "Patagonian Andes",
         "orientation": "v",
         "showlegend": true,
         "type": "scatter",
         "x": [
          -2.587040757588067,
          6.547225634207059,
          -1.3257936925377791,
          -3.5996253009126136,
          -8.079423387036506,
          -1.1471243435127008,
          -3.3190884341962352,
          -0.6191327632670571,
          -1.7508277856919534,
          -4.753862320285634,
          -11.8124782391785,
          -0.7111100963881114,
          -7.749034169455651,
          -1.3781285550291358,
          -4.94825846958252,
          -15.776956018391154,
          -5.081759566886774,
          7.59916252726498,
          8.231838332583123,
          -4.504534261661796,
          -0.7214019863218439,
          0.8196864422589343,
          1.3703219442589543,
          9.942236609013548,
          7.570409970115989,
          1.1067959671756427,
          1.4104810767682707,
          0.6999685189601408,
          1.8290422784628113,
          1.3246502454893943,
          -5.273006817944182,
          -4.584850370571232,
          -0.9992667283224144,
          12.228041175619666,
          -2.5384303481529784,
          6.631671973115406,
          -6.104221397425835,
          -3.3533112414881465,
          -37.21537186046248
         ],
         "xaxis": "x",
         "y": [
          -57.30919003134567,
          6.5814385287208665,
          -36.733321669252675,
          -0.88129425113803,
          -5.037441086889054,
          -1.5355366349700077,
          -14.559047653262297,
          -3.2939794888521554,
          -2.2869422375227373,
          7.2176378803142445,
          -4.245582259692238,
          0.5948543352385443,
          -4.7019436130705365,
          -8.874113119632344,
          8.472375840629075,
          -3.8095104688723573,
          -16.10995875174529,
          3.5057943524409083,
          16.55481711964412,
          0.3092557560738314,
          -21.772836431906462,
          -3.4095714338808847,
          2.67628637588561,
          -0.6004545293235282,
          -20.242038024039516,
          -8.607986749455549,
          6.841795142219674,
          6.8246618606402905,
          9.655043815032526,
          -11.600872515796375,
          -25.068999559374053,
          -33.31932424899591,
          -6.793943098036056,
          0.5865579469862965,
          -13.869072553799484,
          -6.051951988880372,
          -12.601964032820991,
          -11.87496482599298,
          -36.76533978703124
         ],
         "yaxis": "y"
        }
       ],
       "layout": {
        "autosize": true,
        "coloraxis": {
         "colorbar": {
          "orientation": "h"
         }
        },
        "font": {
         "family": "Lora"
        },
        "hoverdistance": 1,
        "hovermode": "closest",
        "legend": {
         "font": {
          "size": 16
         },
         "orientation": "h",
         "title": {},
         "tracegroupgap": 0,
         "x": 1,
         "xanchor": "right",
         "y": 1.02,
         "yanchor": "bottom"
        },
        "plot_bgcolor": "#FFFFFF",
        "shapes": [
         {
          "type": "line",
          "x0": 0,
          "x1": 0,
          "xref": "x",
          "y0": 0,
          "y1": 1,
          "yref": "y domain"
         },
         {
          "type": "line",
          "x0": 0,
          "x1": 1,
          "xref": "x domain",
          "y0": 0,
          "y1": 0,
          "yref": "y"
         }
        ],
        "showlegend": true,
        "spikedistance": 1000,
        "template": {
         "data": {
          "bar": [
           {
            "error_x": {
             "color": "#2a3f5f"
            },
            "error_y": {
             "color": "#2a3f5f"
            },
            "marker": {
             "line": {
              "color": "#E5ECF6",
              "width": 0.5
             },
             "pattern": {
              "fillmode": "overlay",
              "size": 10,
              "solidity": 0.2
             }
            },
            "type": "bar"
           }
          ],
          "barpolar": [
           {
            "marker": {
             "line": {
              "color": "#E5ECF6",
              "width": 0.5
             },
             "pattern": {
              "fillmode": "overlay",
              "size": 10,
              "solidity": 0.2
             }
            },
            "type": "barpolar"
           }
          ],
          "carpet": [
           {
            "aaxis": {
             "endlinecolor": "#2a3f5f",
             "gridcolor": "white",
             "linecolor": "white",
             "minorgridcolor": "white",
             "startlinecolor": "#2a3f5f"
            },
            "baxis": {
             "endlinecolor": "#2a3f5f",
             "gridcolor": "white",
             "linecolor": "white",
             "minorgridcolor": "white",
             "startlinecolor": "#2a3f5f"
            },
            "type": "carpet"
           }
          ],
          "choropleth": [
           {
            "colorbar": {
             "outlinewidth": 0,
             "ticks": ""
            },
            "type": "choropleth"
           }
          ],
          "contour": [
           {
            "colorbar": {
             "outlinewidth": 0,
             "ticks": ""
            },
            "colorscale": [
             [
              0,
              "#0d0887"
             ],
             [
              0.1111111111111111,
              "#46039f"
             ],
             [
              0.2222222222222222,
              "#7201a8"
             ],
             [
              0.3333333333333333,
              "#9c179e"
             ],
             [
              0.4444444444444444,
              "#bd3786"
             ],
             [
              0.5555555555555556,
              "#d8576b"
             ],
             [
              0.6666666666666666,
              "#ed7953"
             ],
             [
              0.7777777777777778,
              "#fb9f3a"
             ],
             [
              0.8888888888888888,
              "#fdca26"
             ],
             [
              1,
              "#f0f921"
             ]
            ],
            "type": "contour"
           }
          ],
          "contourcarpet": [
           {
            "colorbar": {
             "outlinewidth": 0,
             "ticks": ""
            },
            "type": "contourcarpet"
           }
          ],
          "heatmap": [
           {
            "colorbar": {
             "outlinewidth": 0,
             "ticks": ""
            },
            "colorscale": [
             [
              0,
              "#0d0887"
             ],
             [
              0.1111111111111111,
              "#46039f"
             ],
             [
              0.2222222222222222,
              "#7201a8"
             ],
             [
              0.3333333333333333,
              "#9c179e"
             ],
             [
              0.4444444444444444,
              "#bd3786"
             ],
             [
              0.5555555555555556,
              "#d8576b"
             ],
             [
              0.6666666666666666,
              "#ed7953"
             ],
             [
              0.7777777777777778,
              "#fb9f3a"
             ],
             [
              0.8888888888888888,
              "#fdca26"
             ],
             [
              1,
              "#f0f921"
             ]
            ],
            "type": "heatmap"
           }
          ],
          "heatmapgl": [
           {
            "colorbar": {
             "outlinewidth": 0,
             "ticks": ""
            },
            "colorscale": [
             [
              0,
              "#0d0887"
             ],
             [
              0.1111111111111111,
              "#46039f"
             ],
             [
              0.2222222222222222,
              "#7201a8"
             ],
             [
              0.3333333333333333,
              "#9c179e"
             ],
             [
              0.4444444444444444,
              "#bd3786"
             ],
             [
              0.5555555555555556,
              "#d8576b"
             ],
             [
              0.6666666666666666,
              "#ed7953"
             ],
             [
              0.7777777777777778,
              "#fb9f3a"
             ],
             [
              0.8888888888888888,
              "#fdca26"
             ],
             [
              1,
              "#f0f921"
             ]
            ],
            "type": "heatmapgl"
           }
          ],
          "histogram": [
           {
            "marker": {
             "pattern": {
              "fillmode": "overlay",
              "size": 10,
              "solidity": 0.2
             }
            },
            "type": "histogram"
           }
          ],
          "histogram2d": [
           {
            "colorbar": {
             "outlinewidth": 0,
             "ticks": ""
            },
            "colorscale": [
             [
              0,
              "#0d0887"
             ],
             [
              0.1111111111111111,
              "#46039f"
             ],
             [
              0.2222222222222222,
              "#7201a8"
             ],
             [
              0.3333333333333333,
              "#9c179e"
             ],
             [
              0.4444444444444444,
              "#bd3786"
             ],
             [
              0.5555555555555556,
              "#d8576b"
             ],
             [
              0.6666666666666666,
              "#ed7953"
             ],
             [
              0.7777777777777778,
              "#fb9f3a"
             ],
             [
              0.8888888888888888,
              "#fdca26"
             ],
             [
              1,
              "#f0f921"
             ]
            ],
            "type": "histogram2d"
           }
          ],
          "histogram2dcontour": [
           {
            "colorbar": {
             "outlinewidth": 0,
             "ticks": ""
            },
            "colorscale": [
             [
              0,
              "#0d0887"
             ],
             [
              0.1111111111111111,
              "#46039f"
             ],
             [
              0.2222222222222222,
              "#7201a8"
             ],
             [
              0.3333333333333333,
              "#9c179e"
             ],
             [
              0.4444444444444444,
              "#bd3786"
             ],
             [
              0.5555555555555556,
              "#d8576b"
             ],
             [
              0.6666666666666666,
              "#ed7953"
             ],
             [
              0.7777777777777778,
              "#fb9f3a"
             ],
             [
              0.8888888888888888,
              "#fdca26"
             ],
             [
              1,
              "#f0f921"
             ]
            ],
            "type": "histogram2dcontour"
           }
          ],
          "mesh3d": [
           {
            "colorbar": {
             "outlinewidth": 0,
             "ticks": ""
            },
            "type": "mesh3d"
           }
          ],
          "parcoords": [
           {
            "line": {
             "colorbar": {
              "outlinewidth": 0,
              "ticks": ""
             }
            },
            "type": "parcoords"
           }
          ],
          "pie": [
           {
            "automargin": true,
            "type": "pie"
           }
          ],
          "scatter": [
           {
            "fillpattern": {
             "fillmode": "overlay",
             "size": 10,
             "solidity": 0.2
            },
            "type": "scatter"
           }
          ],
          "scatter3d": [
           {
            "line": {
             "colorbar": {
              "outlinewidth": 0,
              "ticks": ""
             }
            },
            "marker": {
             "colorbar": {
              "outlinewidth": 0,
              "ticks": ""
             }
            },
            "type": "scatter3d"
           }
          ],
          "scattercarpet": [
           {
            "marker": {
             "colorbar": {
              "outlinewidth": 0,
              "ticks": ""
             }
            },
            "type": "scattercarpet"
           }
          ],
          "scattergeo": [
           {
            "marker": {
             "colorbar": {
              "outlinewidth": 0,
              "ticks": ""
             }
            },
            "type": "scattergeo"
           }
          ],
          "scattergl": [
           {
            "marker": {
             "colorbar": {
              "outlinewidth": 0,
              "ticks": ""
             }
            },
            "type": "scattergl"
           }
          ],
          "scattermapbox": [
           {
            "marker": {
             "colorbar": {
              "outlinewidth": 0,
              "ticks": ""
             }
            },
            "type": "scattermapbox"
           }
          ],
          "scatterpolar": [
           {
            "marker": {
             "colorbar": {
              "outlinewidth": 0,
              "ticks": ""
             }
            },
            "type": "scatterpolar"
           }
          ],
          "scatterpolargl": [
           {
            "marker": {
             "colorbar": {
              "outlinewidth": 0,
              "ticks": ""
             }
            },
            "type": "scatterpolargl"
           }
          ],
          "scatterternary": [
           {
            "marker": {
             "colorbar": {
              "outlinewidth": 0,
              "ticks": ""
             }
            },
            "type": "scatterternary"
           }
          ],
          "surface": [
           {
            "colorbar": {
             "outlinewidth": 0,
             "ticks": ""
            },
            "colorscale": [
             [
              0,
              "#0d0887"
             ],
             [
              0.1111111111111111,
              "#46039f"
             ],
             [
              0.2222222222222222,
              "#7201a8"
             ],
             [
              0.3333333333333333,
              "#9c179e"
             ],
             [
              0.4444444444444444,
              "#bd3786"
             ],
             [
              0.5555555555555556,
              "#d8576b"
             ],
             [
              0.6666666666666666,
              "#ed7953"
             ],
             [
              0.7777777777777778,
              "#fb9f3a"
             ],
             [
              0.8888888888888888,
              "#fdca26"
             ],
             [
              1,
              "#f0f921"
             ]
            ],
            "type": "surface"
           }
          ],
          "table": [
           {
            "cells": {
             "fill": {
              "color": "#EBF0F8"
             },
             "line": {
              "color": "white"
             }
            },
            "header": {
             "fill": {
              "color": "#C8D4E3"
             },
             "line": {
              "color": "white"
             }
            },
            "type": "table"
           }
          ]
         },
         "layout": {
          "annotationdefaults": {
           "arrowcolor": "#2a3f5f",
           "arrowhead": 0,
           "arrowwidth": 1
          },
          "autotypenumbers": "strict",
          "coloraxis": {
           "colorbar": {
            "outlinewidth": 0,
            "ticks": ""
           }
          },
          "colorscale": {
           "diverging": [
            [
             0,
             "#8e0152"
            ],
            [
             0.1,
             "#c51b7d"
            ],
            [
             0.2,
             "#de77ae"
            ],
            [
             0.3,
             "#f1b6da"
            ],
            [
             0.4,
             "#fde0ef"
            ],
            [
             0.5,
             "#f7f7f7"
            ],
            [
             0.6,
             "#e6f5d0"
            ],
            [
             0.7,
             "#b8e186"
            ],
            [
             0.8,
             "#7fbc41"
            ],
            [
             0.9,
             "#4d9221"
            ],
            [
             1,
             "#276419"
            ]
           ],
           "sequential": [
            [
             0,
             "#0d0887"
            ],
            [
             0.1111111111111111,
             "#46039f"
            ],
            [
             0.2222222222222222,
             "#7201a8"
            ],
            [
             0.3333333333333333,
             "#9c179e"
            ],
            [
             0.4444444444444444,
             "#bd3786"
            ],
            [
             0.5555555555555556,
             "#d8576b"
            ],
            [
             0.6666666666666666,
             "#ed7953"
            ],
            [
             0.7777777777777778,
             "#fb9f3a"
            ],
            [
             0.8888888888888888,
             "#fdca26"
            ],
            [
             1,
             "#f0f921"
            ]
           ],
           "sequentialminus": [
            [
             0,
             "#0d0887"
            ],
            [
             0.1111111111111111,
             "#46039f"
            ],
            [
             0.2222222222222222,
             "#7201a8"
            ],
            [
             0.3333333333333333,
             "#9c179e"
            ],
            [
             0.4444444444444444,
             "#bd3786"
            ],
            [
             0.5555555555555556,
             "#d8576b"
            ],
            [
             0.6666666666666666,
             "#ed7953"
            ],
            [
             0.7777777777777778,
             "#fb9f3a"
            ],
            [
             0.8888888888888888,
             "#fdca26"
            ],
            [
             1,
             "#f0f921"
            ]
           ]
          },
          "colorway": [
           "#636efa",
           "#EF553B",
           "#00cc96",
           "#ab63fa",
           "#FFA15A",
           "#19d3f3",
           "#FF6692",
           "#B6E880",
           "#FF97FF",
           "#FECB52"
          ],
          "font": {
           "color": "#2a3f5f"
          },
          "geo": {
           "bgcolor": "white",
           "lakecolor": "white",
           "landcolor": "#E5ECF6",
           "showlakes": true,
           "showland": true,
           "subunitcolor": "white"
          },
          "hoverlabel": {
           "align": "left"
          },
          "hovermode": "closest",
          "mapbox": {
           "style": "light"
          },
          "paper_bgcolor": "white",
          "plot_bgcolor": "#E5ECF6",
          "polar": {
           "angularaxis": {
            "gridcolor": "white",
            "linecolor": "white",
            "ticks": ""
           },
           "bgcolor": "#E5ECF6",
           "radialaxis": {
            "gridcolor": "white",
            "linecolor": "white",
            "ticks": ""
           }
          },
          "scene": {
           "xaxis": {
            "backgroundcolor": "#E5ECF6",
            "gridcolor": "white",
            "gridwidth": 2,
            "linecolor": "white",
            "showbackground": true,
            "ticks": "",
            "zerolinecolor": "white"
           },
           "yaxis": {
            "backgroundcolor": "#E5ECF6",
            "gridcolor": "white",
            "gridwidth": 2,
            "linecolor": "white",
            "showbackground": true,
            "ticks": "",
            "zerolinecolor": "white"
           },
           "zaxis": {
            "backgroundcolor": "#E5ECF6",
            "gridcolor": "white",
            "gridwidth": 2,
            "linecolor": "white",
            "showbackground": true,
            "ticks": "",
            "zerolinecolor": "white"
           }
          },
          "shapedefaults": {
           "line": {
            "color": "#2a3f5f"
           }
          },
          "ternary": {
           "aaxis": {
            "gridcolor": "white",
            "linecolor": "white",
            "ticks": ""
           },
           "baxis": {
            "gridcolor": "white",
            "linecolor": "white",
            "ticks": ""
           },
           "bgcolor": "#E5ECF6",
           "caxis": {
            "gridcolor": "white",
            "linecolor": "white",
            "ticks": ""
           }
          },
          "title": {
           "x": 0.05
          },
          "xaxis": {
           "automargin": true,
           "gridcolor": "white",
           "linecolor": "white",
           "ticks": "",
           "title": {
            "standoff": 15
           },
           "zerolinecolor": "white",
           "zerolinewidth": 2
          },
          "yaxis": {
           "automargin": true,
           "gridcolor": "white",
           "linecolor": "white",
           "ticks": "",
           "title": {
            "standoff": 15
           },
           "zerolinecolor": "white",
           "zerolinewidth": 2
          }
         }
        },
        "title": {
         "font": {
          "size": 20
         },
         "text": "Relationship between different TSI throughout Argentina's Different Geographic Regions"
        },
        "xaxis": {
         "anchor": "y",
         "domain": [
          0,
          1
         ],
         "gridcolor": "#BCCCDC",
         "linecolor": "#BCCCDC",
         "minor": {
          "dtick": "M3",
          "showgrid": true,
          "ticks": "inside"
         },
         "showgrid": true,
         "showspikes": false,
         "spikecolor": "#999999",
         "spikedash": "dot",
         "spikemode": "across",
         "spikethickness": 2,
         "tickfont": {
          "size": 14
         },
         "title": {
          "font": {
           "size": 18
          },
          "text": "TSI-CHL - TSI-TP"
         }
        },
        "yaxis": {
         "anchor": "x",
         "domain": [
          0,
          1
         ],
         "gridcolor": "#BCCCDC",
         "linecolor": "#BCCCDC",
         "showgrid": false,
         "tickfont": {
          "size": 14
         },
         "title": {
          "font": {
           "size": 18
          },
          "text": "TSI-CHL - TSI-SD"
         }
        }
       }
      }
     },
     "metadata": {},
     "output_type": "display_data"
    }
   ],
   "source": [
    "fig8 = px.scatter(data_frame=aux_df, x='TSI-CHL - TSI-SD', y='TSI-CHL - TSI-TP', color='REGION', color_discrete_sequence=colors_region_2, hover_name= data.index, title = 'Relationship between TSI')\n",
    "\n",
    "fig_title = 'Relationship between different TSI throughout Argentina\\'s Different Geographic Regions'\n",
    "xaxis_title='TSI-CHL - TSI-SD'\n",
    "yaxis_title='TSI-CHL - TSI-TP'\n",
    "\n",
    "apply_custom_layout(fig8, fig_title, xaxis_title, yaxis_title, font='Lora', show_xspikes=False, legend_title=None)\n",
    "fig8.update_layout(hovermode='closest',  coloraxis_colorbar_orientation='h')\n",
    "fig8.add_vline(0)\n",
    "fig8.add_hline(0)\n",
    "fig8.update_traces(marker=dict(size=12,\n",
    "                              line=dict(width=1,\n",
    "                                        color='DarkSlateGrey')),\n",
    "                  selector=dict(mode='markers'))\n",
    "fig8.show()\n"
   ]
  }
 ],
 "metadata": {
  "kernelspec": {
   "display_name": "Python 3 (ipykernel)",
   "language": "python",
   "name": "python3"
  },
  "language_info": {
   "codemirror_mode": {
    "name": "ipython",
    "version": 3
   },
   "file_extension": ".py",
   "mimetype": "text/x-python",
   "name": "python",
   "nbconvert_exporter": "python",
   "pygments_lexer": "ipython3",
   "version": "3.10.8"
  },
  "latex_envs": {
   "LaTeX_envs_menu_present": true,
   "autoclose": false,
   "autocomplete": true,
   "bibliofile": "biblio.bib",
   "cite_by": "apalike",
   "current_citInitial": 1,
   "eqLabelWithNumbers": true,
   "eqNumInitial": 1,
   "hotkeys": {
    "equation": "Ctrl-E",
    "itemize": "Ctrl-I"
   },
   "labels_anchors": false,
   "latex_user_defs": false,
   "report_style_numbering": false,
   "user_envs_cfg": false
  }
 },
 "nbformat": 4,
 "nbformat_minor": 5
}
